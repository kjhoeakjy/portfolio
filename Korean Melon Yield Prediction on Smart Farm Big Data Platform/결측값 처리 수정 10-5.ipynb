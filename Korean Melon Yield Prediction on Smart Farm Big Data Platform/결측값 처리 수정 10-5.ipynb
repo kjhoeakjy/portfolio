{
 "cells": [
  {
   "cell_type": "code",
   "execution_count": null,
   "metadata": {},
   "outputs": [],
   "source": [
    "#해당 파일은 2024 빅콘 스마트팜 참외 생산량 예측 모델 프로젝트 중 본인이 수행했던 데이터 정리 코드만 발췌한 파일입니다. \n"
   ]
  },
  {
   "cell_type": "markdown",
   "metadata": {},
   "source": [
    "1. 데이터셋 지정"
   ]
  },
  {
   "cell_type": "code",
   "execution_count": 2,
   "metadata": {},
   "outputs": [],
   "source": [
    "import random\n",
    "import pandas as pd\n",
    "import numpy as np\n",
    "import os\n",
    "\n",
    "from sklearn.ensemble import RandomForestRegressor\n",
    "from sklearn.preprocessing import LabelEncoder\n",
    "\n",
    "import warnings\n",
    "warnings.filterwarnings(action='ignore')"
   ]
  },
  {
   "cell_type": "code",
   "execution_count": 3,
   "metadata": {},
   "outputs": [],
   "source": [
    "f1 = \"C:\\\\Users\\\\kjhoe\\\\OneDrive\\\\바탕화~1-LAPTOP-VGOF9FJ7-25904429\\\\대외활동\\\\공모전\\\\2024 빅콘\\\\개체번호, 연도 통합.xlsx\"\n",
    "df= pd.read_excel(f1, sheet_name='combined')\n",
    "df_1 = pd.read_excel(f1, sheet_name='combined')\n",
    "df_2 = pd.read_excel(f1, sheet_name='combined')\n",
    "df_3 = pd.read_excel(f1, sheet_name='combined')\n",
    "df_4 = pd.read_excel(f1, sheet_name='combined')\n",
    "df_5 = pd.read_excel(f1, sheet_name='combined')\n",
    "df_6 = pd.read_excel(f1, sheet_name='combined')\n",
    "df_7 = pd.read_excel(f1, sheet_name='combined')\n",
    "df_8 = pd.read_excel(f1, sheet_name='combined')\n",
    "df_9 = pd.read_excel(f1, sheet_name='combined')\n",
    "df_10 = pd.read_excel(f1, sheet_name='combined')\n",
    "df_11 = pd.read_excel(f1, sheet_name='combined')\n",
    "df_12 = pd.read_excel(f1, sheet_name='combined')\n",
    "df_13 = pd.read_excel(f1, sheet_name='combined')"
   ]
  },
  {
   "cell_type": "code",
   "execution_count": 4,
   "metadata": {},
   "outputs": [],
   "source": [
    "def seed_everything(seed):\n",
    "    random.seed(seed)\n",
    "    os.environ['PYTHONHASHSEED'] = str(seed)\n",
    "    np.random.seed(seed)\n",
    "\n",
    "seed_everything(42) # Seed 고정"
   ]
  },
  {
   "cell_type": "markdown",
   "metadata": {},
   "source": [
    "1.1 결측값 확인"
   ]
  },
  {
   "cell_type": "code",
   "execution_count": 5,
   "metadata": {},
   "outputs": [
    {
     "name": "stdout",
     "output_type": "stream",
     "text": [
      "<class 'pandas.core.frame.DataFrame'>\n",
      "RangeIndex: 17544 entries, 0 to 17543\n",
      "Data columns (total 14 columns):\n",
      " #   Column           Non-Null Count  Dtype         \n",
      "---  ------           --------------  -----         \n",
      " 0   MSRM_DT          17544 non-null  datetime64[ns]\n",
      " 1   AREA_TPRT        17539 non-null  float64       \n",
      " 2   AREA_HMDT        17517 non-null  float64       \n",
      " 3   AREA_WDSP        17544 non-null  float64       \n",
      " 4   INNER_TPRT       10100 non-null  float64       \n",
      " 5   INNER_HMDT       9615 non-null   float64       \n",
      " 6   INNER_CBDX_CTRN  7528 non-null   float64       \n",
      " 7   EXTN_TPRT        0 non-null      float64       \n",
      " 8   PLT_LNGTH        120 non-null    float64       \n",
      " 9   LEAF_LNGTH       1488 non-null   float64       \n",
      " 10  LEAF_WDTH        1488 non-null   float64       \n",
      " 11  STEM_THNS        1488 non-null   float64       \n",
      " 12  SHPMN_QTY        2640 non-null   float64       \n",
      " 13  SHPMN_AMT        2640 non-null   float64       \n",
      "dtypes: datetime64[ns](1), float64(13)\n",
      "memory usage: 1.9 MB\n"
     ]
    }
   ],
   "source": [
    "df_1.info()"
   ]
  },
  {
   "cell_type": "code",
   "execution_count": 6,
   "metadata": {},
   "outputs": [
    {
     "data": {
      "text/plain": [
       "MSRM_DT                0\n",
       "AREA_TPRT              5\n",
       "AREA_HMDT             27\n",
       "AREA_WDSP              0\n",
       "INNER_TPRT          7444\n",
       "INNER_HMDT          7929\n",
       "INNER_CBDX_CTRN    10016\n",
       "EXTN_TPRT          17544\n",
       "PLT_LNGTH          17424\n",
       "LEAF_LNGTH         16056\n",
       "LEAF_WDTH          16056\n",
       "STEM_THNS          16056\n",
       "SHPMN_QTY          14904\n",
       "SHPMN_AMT          14904\n",
       "dtype: int64"
      ]
     },
     "execution_count": 6,
     "metadata": {},
     "output_type": "execute_result"
    }
   ],
   "source": [
    "df_1.isna().sum()"
   ]
  },
  {
   "cell_type": "code",
   "execution_count": 7,
   "metadata": {},
   "outputs": [],
   "source": [
    "import seaborn as sns\n",
    "import matplotlib.pyplot as plt"
   ]
  },
  {
   "cell_type": "code",
   "execution_count": 8,
   "metadata": {},
   "outputs": [],
   "source": [
    "# 날짜 컬럼을 datetime 형식으로 변환\n",
    "df_1['MSRM_DT'] = pd.to_datetime(df['MSRM_DT'])\n",
    "df_1['EXTN_TPRT'] = pd.to_numeric(df['EXTN_TPRT'], errors='coerce')\n",
    "df_2['MSRM_DT'] = pd.to_datetime(df['MSRM_DT'])\n",
    "df_2['EXTN_TPRT'] = pd.to_numeric(df['EXTN_TPRT'], errors='coerce')\n",
    "df_3['MSRM_DT'] = pd.to_datetime(df['MSRM_DT'])\n",
    "df_3['EXTN_TPRT'] = pd.to_numeric(df['EXTN_TPRT'], errors='coerce')\n",
    "df_4['MSRM_DT'] = pd.to_datetime(df['MSRM_DT'])\n",
    "df_4['EXTN_TPRT'] = pd.to_numeric(df['EXTN_TPRT'], errors='coerce')\n",
    "df_5['MSRM_DT'] = pd.to_datetime(df['MSRM_DT'])\n",
    "df_5['EXTN_TPRT'] = pd.to_numeric(df['EXTN_TPRT'], errors='coerce')\n",
    "df_6['MSRM_DT'] = pd.to_datetime(df['MSRM_DT'])\n",
    "df_6['EXTN_TPRT'] = pd.to_numeric(df['EXTN_TPRT'], errors='coerce')\n",
    "df_7['MSRM_DT'] = pd.to_datetime(df['MSRM_DT'])\n",
    "df_7['EXTN_TPRT'] = pd.to_numeric(df['EXTN_TPRT'], errors='coerce')\n",
    "df_8['MSRM_DT'] = pd.to_datetime(df['MSRM_DT'])\n",
    "df_8['EXTN_TPRT'] = pd.to_numeric(df['EXTN_TPRT'], errors='coerce')\n",
    "df_9['MSRM_DT'] = pd.to_datetime(df['MSRM_DT'])\n",
    "df_9['EXTN_TPRT'] = pd.to_numeric(df['EXTN_TPRT'], errors='coerce')\n",
    "df_10['MSRM_DT'] = pd.to_datetime(df['MSRM_DT'])\n",
    "df_10['EXTN_TPRT'] = pd.to_numeric(df['EXTN_TPRT'], errors='coerce')\n",
    "df_11['MSRM_DT'] = pd.to_datetime(df['MSRM_DT'])\n",
    "df_11['EXTN_TPRT'] = pd.to_numeric(df['EXTN_TPRT'], errors='coerce')\n"
   ]
  },
  {
   "cell_type": "code",
   "execution_count": 9,
   "metadata": {},
   "outputs": [
    {
     "name": "stdout",
     "output_type": "stream",
     "text": [
      "결측치 비율:\n",
      " MSRM_DT              0.000000\n",
      "AREA_TPRT            0.028500\n",
      "AREA_HMDT            0.153899\n",
      "AREA_WDSP            0.000000\n",
      "INNER_TPRT          42.430461\n",
      "INNER_HMDT          45.194938\n",
      "INNER_CBDX_CTRN     57.090743\n",
      "EXTN_TPRT          100.000000\n",
      "PLT_LNGTH           99.316005\n",
      "LEAF_LNGTH          91.518468\n",
      "LEAF_WDTH           91.518468\n",
      "STEM_THNS           91.518468\n",
      "SHPMN_QTY           84.952120\n",
      "SHPMN_AMT           84.952120\n",
      "dtype: float64\n"
     ]
    }
   ],
   "source": [
    "# 각 컬럼의 결측치 비율 확인\n",
    "missing_values = df.isnull().sum() / len(df) * 100\n",
    "print(\"결측치 비율:\\n\", missing_values)\n"
   ]
  },
  {
   "cell_type": "code",
   "execution_count": 10,
   "metadata": {},
   "outputs": [
    {
     "data": {
      "text/plain": [
       "<Figure size 4000x3000 with 0 Axes>"
      ]
     },
     "metadata": {},
     "output_type": "display_data"
    },
    {
     "data": {
      "image/png": "[encoded data removed]",
      "text/plain": [
       "<Figure size 640x480 with 14 Axes>"
      ]
     },
     "metadata": {},
     "output_type": "display_data"
    }
   ],
   "source": [
    "# 결측치 시각화\n",
    "plt.figure(figsize=(40, 30))\n",
    "df.plot(subplots=True)\n",
    "plt.show()"
   ]
  },
  {
   "cell_type": "code",
   "execution_count": 11,
   "metadata": {},
   "outputs": [],
   "source": [
    "from statsmodels.tsa.arima.model import ARIMA\n",
    "from sklearn.metrics import mean_squared_error"
   ]
  },
  {
   "cell_type": "markdown",
   "metadata": {},
   "source": [
    "1.2 결측값 채우기- 지역환경, 내부환경 변수"
   ]
  },
  {
   "cell_type": "code",
   "execution_count": 14,
   "metadata": {},
   "outputs": [],
   "source": [
    "#1.2.1 ARIMA 사용"
   ]
  },
  {
   "cell_type": "code",
   "execution_count": 15,
   "metadata": {},
   "outputs": [],
   "source": [
    "#ARIMA"
   ]
  },
  {
   "cell_type": "code",
   "execution_count": 16,
   "metadata": {},
   "outputs": [
    {
     "name": "stderr",
     "output_type": "stream",
     "text": [
      "c:\\Users\\kjhoe\\anaconda3\\Lib\\site-packages\\statsmodels\\tsa\\base\\tsa_model.py:473: ValueWarning: An unsupported index was provided and will be ignored when e.g. forecasting.\n",
      "  self._init_dates(dates, freq)\n",
      "c:\\Users\\kjhoe\\anaconda3\\Lib\\site-packages\\statsmodels\\tsa\\base\\tsa_model.py:473: ValueWarning: An unsupported index was provided and will be ignored when e.g. forecasting.\n",
      "  self._init_dates(dates, freq)\n",
      "c:\\Users\\kjhoe\\anaconda3\\Lib\\site-packages\\statsmodels\\tsa\\base\\tsa_model.py:473: ValueWarning: An unsupported index was provided and will be ignored when e.g. forecasting.\n",
      "  self._init_dates(dates, freq)\n",
      "c:\\Users\\kjhoe\\anaconda3\\Lib\\site-packages\\statsmodels\\tsa\\base\\tsa_model.py:836: ValueWarning: No supported index is available. Prediction results will be given with an integer index beginning at `start`.\n",
      "  return get_prediction_index(\n",
      "c:\\Users\\kjhoe\\anaconda3\\Lib\\site-packages\\statsmodels\\tsa\\base\\tsa_model.py:836: ValueWarning: No supported index is available. Prediction results will be given with an integer index beginning at `start`.\n",
      "  return get_prediction_index(\n"
     ]
    },
    {
     "name": "stdout",
     "output_type": "stream",
     "text": [
      "Performance for AREA_TPRT:\n",
      "Mean Squared Error: 12.045336693184339\n",
      "Root Mean Squared Error: 3.470639234087049\n",
      "\n"
     ]
    },
    {
     "name": "stderr",
     "output_type": "stream",
     "text": [
      "c:\\Users\\kjhoe\\anaconda3\\Lib\\site-packages\\statsmodels\\tsa\\base\\tsa_model.py:473: ValueWarning: An unsupported index was provided and will be ignored when e.g. forecasting.\n",
      "  self._init_dates(dates, freq)\n",
      "c:\\Users\\kjhoe\\anaconda3\\Lib\\site-packages\\statsmodels\\tsa\\base\\tsa_model.py:473: ValueWarning: An unsupported index was provided and will be ignored when e.g. forecasting.\n",
      "  self._init_dates(dates, freq)\n",
      "c:\\Users\\kjhoe\\anaconda3\\Lib\\site-packages\\statsmodels\\tsa\\base\\tsa_model.py:473: ValueWarning: An unsupported index was provided and will be ignored when e.g. forecasting.\n",
      "  self._init_dates(dates, freq)\n",
      "c:\\Users\\kjhoe\\anaconda3\\Lib\\site-packages\\statsmodels\\tsa\\base\\tsa_model.py:836: ValueWarning: No supported index is available. Prediction results will be given with an integer index beginning at `start`.\n",
      "  return get_prediction_index(\n",
      "c:\\Users\\kjhoe\\anaconda3\\Lib\\site-packages\\statsmodels\\tsa\\base\\tsa_model.py:836: ValueWarning: No supported index is available. Prediction results will be given with an integer index beginning at `start`.\n",
      "  return get_prediction_index(\n"
     ]
    },
    {
     "name": "stdout",
     "output_type": "stream",
     "text": [
      "Performance for AREA_HMDT:\n",
      "Mean Squared Error: 261.30809690794507\n",
      "Root Mean Squared Error: 16.165026968982918\n",
      "\n"
     ]
    },
    {
     "name": "stderr",
     "output_type": "stream",
     "text": [
      "c:\\Users\\kjhoe\\anaconda3\\Lib\\site-packages\\statsmodels\\tsa\\base\\tsa_model.py:473: ValueWarning: An unsupported index was provided and will be ignored when e.g. forecasting.\n",
      "  self._init_dates(dates, freq)\n",
      "c:\\Users\\kjhoe\\anaconda3\\Lib\\site-packages\\statsmodels\\tsa\\base\\tsa_model.py:473: ValueWarning: An unsupported index was provided and will be ignored when e.g. forecasting.\n",
      "  self._init_dates(dates, freq)\n",
      "c:\\Users\\kjhoe\\anaconda3\\Lib\\site-packages\\statsmodels\\tsa\\base\\tsa_model.py:473: ValueWarning: An unsupported index was provided and will be ignored when e.g. forecasting.\n",
      "  self._init_dates(dates, freq)\n",
      "c:\\Users\\kjhoe\\anaconda3\\Lib\\site-packages\\statsmodels\\tsa\\base\\tsa_model.py:836: ValueWarning: No supported index is available. Prediction results will be given with an integer index beginning at `start`.\n",
      "  return get_prediction_index(\n",
      "c:\\Users\\kjhoe\\anaconda3\\Lib\\site-packages\\statsmodels\\tsa\\base\\tsa_model.py:836: ValueWarning: No supported index is available. Prediction results will be given with an integer index beginning at `start`.\n",
      "  return get_prediction_index(\n"
     ]
    },
    {
     "name": "stdout",
     "output_type": "stream",
     "text": [
      "Performance for INNER_TPRT:\n",
      "Mean Squared Error: 35.01255959971292\n",
      "Root Mean Squared Error: 5.917141167803327\n",
      "\n"
     ]
    },
    {
     "name": "stderr",
     "output_type": "stream",
     "text": [
      "c:\\Users\\kjhoe\\anaconda3\\Lib\\site-packages\\statsmodels\\tsa\\base\\tsa_model.py:473: ValueWarning: An unsupported index was provided and will be ignored when e.g. forecasting.\n",
      "  self._init_dates(dates, freq)\n",
      "c:\\Users\\kjhoe\\anaconda3\\Lib\\site-packages\\statsmodels\\tsa\\base\\tsa_model.py:473: ValueWarning: An unsupported index was provided and will be ignored when e.g. forecasting.\n",
      "  self._init_dates(dates, freq)\n",
      "c:\\Users\\kjhoe\\anaconda3\\Lib\\site-packages\\statsmodels\\tsa\\base\\tsa_model.py:473: ValueWarning: An unsupported index was provided and will be ignored when e.g. forecasting.\n",
      "  self._init_dates(dates, freq)\n",
      "c:\\Users\\kjhoe\\anaconda3\\Lib\\site-packages\\statsmodels\\tsa\\base\\tsa_model.py:836: ValueWarning: No supported index is available. Prediction results will be given with an integer index beginning at `start`.\n",
      "  return get_prediction_index(\n",
      "c:\\Users\\kjhoe\\anaconda3\\Lib\\site-packages\\statsmodels\\tsa\\base\\tsa_model.py:836: ValueWarning: No supported index is available. Prediction results will be given with an integer index beginning at `start`.\n",
      "  return get_prediction_index(\n"
     ]
    },
    {
     "name": "stdout",
     "output_type": "stream",
     "text": [
      "Performance for INNER_HMDT:\n",
      "Mean Squared Error: 522.7832179677307\n",
      "Root Mean Squared Error: 22.864453152606355\n",
      "\n"
     ]
    },
    {
     "name": "stderr",
     "output_type": "stream",
     "text": [
      "c:\\Users\\kjhoe\\anaconda3\\Lib\\site-packages\\statsmodels\\tsa\\base\\tsa_model.py:473: ValueWarning: An unsupported index was provided and will be ignored when e.g. forecasting.\n",
      "  self._init_dates(dates, freq)\n",
      "c:\\Users\\kjhoe\\anaconda3\\Lib\\site-packages\\statsmodels\\tsa\\base\\tsa_model.py:473: ValueWarning: An unsupported index was provided and will be ignored when e.g. forecasting.\n",
      "  self._init_dates(dates, freq)\n",
      "c:\\Users\\kjhoe\\anaconda3\\Lib\\site-packages\\statsmodels\\tsa\\base\\tsa_model.py:473: ValueWarning: An unsupported index was provided and will be ignored when e.g. forecasting.\n",
      "  self._init_dates(dates, freq)\n",
      "c:\\Users\\kjhoe\\anaconda3\\Lib\\site-packages\\statsmodels\\tsa\\base\\tsa_model.py:836: ValueWarning: No supported index is available. Prediction results will be given with an integer index beginning at `start`.\n",
      "  return get_prediction_index(\n",
      "c:\\Users\\kjhoe\\anaconda3\\Lib\\site-packages\\statsmodels\\tsa\\base\\tsa_model.py:836: ValueWarning: No supported index is available. Prediction results will be given with an integer index beginning at `start`.\n",
      "  return get_prediction_index(\n"
     ]
    },
    {
     "name": "stdout",
     "output_type": "stream",
     "text": [
      "Performance for INNER_CBDX_CTRN:\n",
      "Mean Squared Error: 60415.96049767094\n",
      "Root Mean Squared Error: 245.79658357607605\n",
      "\n",
      "   AREA_TPRT  AREA_HMDT  INNER_TPRT  INNER_HMDT  INNER_CBDX_CTRN\n",
      "0       -1.9       50.0        19.1        87.0         0.000000\n",
      "1       -3.2       54.0        18.8        87.0       767.366314\n",
      "2       -2.5       62.0        18.5        87.0       577.774520\n",
      "3       -2.5       62.0        18.1        87.0      1064.589829\n",
      "4       -3.6       67.0        17.8        88.0       799.506240\n"
     ]
    }
   ],
   "source": [
    "import pandas as pd\n",
    "from statsmodels.tsa.arima.model import ARIMA\n",
    "from sklearn.metrics import mean_squared_error\n",
    "import numpy as np\n",
    "\n",
    "# 결측치를 채우는 함수 (ARIMA 사용)\n",
    "def fill_missing_with_arima(series, X, order=(5, 1, 0)):\n",
    "    # X에서 결측값이 없는 행만 추출\n",
    "    non_null_indices = X.dropna().index\n",
    "    series_non_null = series.loc[non_null_indices]\n",
    "\n",
    "    # 훈련 데이터와 테스트 데이터 분할\n",
    "    train_size = int(len(series_non_null) * 0.8)\n",
    "    train, test = series_non_null[:train_size], series_non_null[train_size:]\n",
    "\n",
    "    # ARIMA 모델 적용\n",
    "    model = ARIMA(train, order=order)\n",
    "    fit_model = model.fit()\n",
    "\n",
    "    # 모델을 이용해 테스트 데이터 예측\n",
    "    predictions = fit_model.predict(start=train_size, end=len(series_non_null)-1, dynamic=False)\n",
    "\n",
    "    # MSE 및 RMSE 평가\n",
    "    mse = mean_squared_error(test, predictions)\n",
    "    rmse = np.sqrt(mse)\n",
    "\n",
    "    print(f'Performance for {series.name}:')\n",
    "    print(f'Mean Squared Error: {mse}')\n",
    "    print(f'Root Mean Squared Error: {rmse}\\n')\n",
    "\n",
    "    # 예측된 값을 사용하여 결측값만 채우기\n",
    "    filled_series = series.copy()\n",
    "    filled_series.loc[series.isnull()] = fit_model.predict(start=0, end=len(series)-1, dynamic=False)[series.isnull()]\n",
    "\n",
    "    return filled_series\n",
    "\n",
    "# 환경 변수 리스트\n",
    "env_vars = ['AREA_TPRT', 'AREA_HMDT', 'INNER_TPRT', 'INNER_HMDT', 'INNER_CBDX_CTRN']\n",
    "\n",
    "# 각 변수의 결측치를 ARIMA 모델로 채움 및 성능 평가\n",
    "for var in env_vars:\n",
    "    df[var] = fill_missing_with_arima(df[var], df[['AREA_TPRT', 'AREA_HMDT', 'INNER_TPRT', 'INNER_HMDT', 'INNER_CBDX_CTRN']])\n",
    "\n",
    "# 결과 확인\n",
    "print(df[env_vars].head())\n"
   ]
  },
  {
   "cell_type": "markdown",
   "metadata": {},
   "source": [
    "1.2.2 SARIMA 사용"
   ]
  },
  {
   "cell_type": "code",
   "execution_count": 17,
   "metadata": {},
   "outputs": [],
   "source": [
    "#SARIMA (계절성 반영)"
   ]
  },
  {
   "cell_type": "code",
   "execution_count": 18,
   "metadata": {},
   "outputs": [],
   "source": [
    "import pandas as pd\n",
    "from statsmodels.tsa.statespace.sarimax import SARIMAX\n",
    "from sklearn.metrics import mean_squared_error\n",
    "import numpy as np\n",
    "\n",
    "\n",
    "# SARIMA를 사용하여 결측치를 채우는 함수\n",
    "def fill_missing_with_sarima(series, X, order=(1, 1, 1), seasonal_order=(1, 1, 1, 24)):\n",
    "    # X에서 결측값이 없는 행만 추출\n",
    "    non_null_indices = X.dropna().index\n",
    "    series_non_null = series.loc[non_null_indices]\n",
    "\n",
    "    # 훈련 데이터와 테스트 데이터 분할\n",
    "    train_size = int(len(series_non_null) * 0.8)\n",
    "    train, test = series_non_null[:train_size], series_non_null[train_size:]\n",
    "\n",
    "    # SARIMA 모델 적용\n",
    "    model = SARIMAX(train, order=order, seasonal_order=seasonal_order)\n",
    "    fit_model = model.fit(disp=False)\n",
    "\n",
    "    # 모델을 이용해 테스트 데이터 예측\n",
    "    predictions = fit_model.predict(start=train_size, end=len(series_non_null)-1, dynamic=False)\n",
    "\n",
    "    # MSE 및 RMSE 평가\n",
    "    mse = mean_squared_error(test, predictions)\n",
    "    rmse = np.sqrt(mse)\n",
    "\n",
    "    print(f'Performance for {series.name}:')\n",
    "    print(f'Mean Squared Error: {mse}')\n",
    "    print(f'Root Mean Squared Error: {rmse}\\n')\n",
    "\n",
    "    # 예측된 값을 사용하여 결측값만 채우기\n",
    "    filled_series = series.copy()\n",
    "    filled_series.loc[series.isnull()] = fit_model.predict(start=0, end=len(series)-1, dynamic=False)[series.isnull()]\n",
    "\n",
    "    return filled_series"
   ]
  },
  {
   "cell_type": "code",
   "execution_count": 19,
   "metadata": {},
   "outputs": [
    {
     "name": "stderr",
     "output_type": "stream",
     "text": [
      "c:\\Users\\kjhoe\\anaconda3\\Lib\\site-packages\\statsmodels\\tsa\\base\\tsa_model.py:473: ValueWarning: An unsupported index was provided and will be ignored when e.g. forecasting.\n",
      "  self._init_dates(dates, freq)\n",
      "c:\\Users\\kjhoe\\anaconda3\\Lib\\site-packages\\statsmodels\\tsa\\base\\tsa_model.py:473: ValueWarning: An unsupported index was provided and will be ignored when e.g. forecasting.\n",
      "  self._init_dates(dates, freq)\n",
      "c:\\Users\\kjhoe\\anaconda3\\Lib\\site-packages\\statsmodels\\tsa\\base\\tsa_model.py:836: ValueWarning: No supported index is available. Prediction results will be given with an integer index beginning at `start`.\n",
      "  return get_prediction_index(\n"
     ]
    },
    {
     "name": "stdout",
     "output_type": "stream",
     "text": [
      "Performance for AREA_TPRT:\n",
      "Mean Squared Error: 14.449471972455292\n",
      "Root Mean Squared Error: 3.8012461078513837\n",
      "\n"
     ]
    },
    {
     "name": "stderr",
     "output_type": "stream",
     "text": [
      "c:\\Users\\kjhoe\\anaconda3\\Lib\\site-packages\\statsmodels\\tsa\\base\\tsa_model.py:836: ValueWarning: No supported index is available. Prediction results will be given with an integer index beginning at `start`.\n",
      "  return get_prediction_index(\n",
      "c:\\Users\\kjhoe\\anaconda3\\Lib\\site-packages\\statsmodels\\tsa\\base\\tsa_model.py:473: ValueWarning: An unsupported index was provided and will be ignored when e.g. forecasting.\n",
      "  self._init_dates(dates, freq)\n",
      "c:\\Users\\kjhoe\\anaconda3\\Lib\\site-packages\\statsmodels\\tsa\\base\\tsa_model.py:473: ValueWarning: An unsupported index was provided and will be ignored when e.g. forecasting.\n",
      "  self._init_dates(dates, freq)\n",
      "c:\\Users\\kjhoe\\anaconda3\\Lib\\site-packages\\statsmodels\\tsa\\base\\tsa_model.py:836: ValueWarning: No supported index is available. Prediction results will be given with an integer index beginning at `start`.\n",
      "  return get_prediction_index(\n"
     ]
    },
    {
     "name": "stdout",
     "output_type": "stream",
     "text": [
      "Performance for AREA_HMDT:\n",
      "Mean Squared Error: 717.6348039915832\n",
      "Root Mean Squared Error: 26.788706650220785\n",
      "\n"
     ]
    },
    {
     "name": "stderr",
     "output_type": "stream",
     "text": [
      "c:\\Users\\kjhoe\\anaconda3\\Lib\\site-packages\\statsmodels\\tsa\\base\\tsa_model.py:836: ValueWarning: No supported index is available. Prediction results will be given with an integer index beginning at `start`.\n",
      "  return get_prediction_index(\n",
      "c:\\Users\\kjhoe\\anaconda3\\Lib\\site-packages\\statsmodels\\tsa\\base\\tsa_model.py:473: ValueWarning: An unsupported index was provided and will be ignored when e.g. forecasting.\n",
      "  self._init_dates(dates, freq)\n",
      "c:\\Users\\kjhoe\\anaconda3\\Lib\\site-packages\\statsmodels\\tsa\\base\\tsa_model.py:473: ValueWarning: An unsupported index was provided and will be ignored when e.g. forecasting.\n",
      "  self._init_dates(dates, freq)\n",
      "c:\\Users\\kjhoe\\anaconda3\\Lib\\site-packages\\statsmodels\\tsa\\base\\tsa_model.py:836: ValueWarning: No supported index is available. Prediction results will be given with an integer index beginning at `start`.\n",
      "  return get_prediction_index(\n"
     ]
    },
    {
     "name": "stdout",
     "output_type": "stream",
     "text": [
      "Performance for INNER_TPRT:\n",
      "Mean Squared Error: 30.575687834422084\n",
      "Root Mean Squared Error: 5.529528717207469\n",
      "\n"
     ]
    },
    {
     "name": "stderr",
     "output_type": "stream",
     "text": [
      "c:\\Users\\kjhoe\\anaconda3\\Lib\\site-packages\\statsmodels\\tsa\\base\\tsa_model.py:836: ValueWarning: No supported index is available. Prediction results will be given with an integer index beginning at `start`.\n",
      "  return get_prediction_index(\n",
      "c:\\Users\\kjhoe\\anaconda3\\Lib\\site-packages\\statsmodels\\tsa\\base\\tsa_model.py:473: ValueWarning: An unsupported index was provided and will be ignored when e.g. forecasting.\n",
      "  self._init_dates(dates, freq)\n",
      "c:\\Users\\kjhoe\\anaconda3\\Lib\\site-packages\\statsmodels\\tsa\\base\\tsa_model.py:473: ValueWarning: An unsupported index was provided and will be ignored when e.g. forecasting.\n",
      "  self._init_dates(dates, freq)\n",
      "c:\\Users\\kjhoe\\anaconda3\\Lib\\site-packages\\statsmodels\\tsa\\base\\tsa_model.py:836: ValueWarning: No supported index is available. Prediction results will be given with an integer index beginning at `start`.\n",
      "  return get_prediction_index(\n"
     ]
    },
    {
     "name": "stdout",
     "output_type": "stream",
     "text": [
      "Performance for INNER_HMDT:\n",
      "Mean Squared Error: 253.65799907254245\n",
      "Root Mean Squared Error: 15.926644312991437\n",
      "\n"
     ]
    },
    {
     "name": "stderr",
     "output_type": "stream",
     "text": [
      "c:\\Users\\kjhoe\\anaconda3\\Lib\\site-packages\\statsmodels\\tsa\\base\\tsa_model.py:836: ValueWarning: No supported index is available. Prediction results will be given with an integer index beginning at `start`.\n",
      "  return get_prediction_index(\n",
      "c:\\Users\\kjhoe\\anaconda3\\Lib\\site-packages\\statsmodels\\tsa\\base\\tsa_model.py:473: ValueWarning: An unsupported index was provided and will be ignored when e.g. forecasting.\n",
      "  self._init_dates(dates, freq)\n",
      "c:\\Users\\kjhoe\\anaconda3\\Lib\\site-packages\\statsmodels\\tsa\\base\\tsa_model.py:473: ValueWarning: An unsupported index was provided and will be ignored when e.g. forecasting.\n",
      "  self._init_dates(dates, freq)\n",
      "c:\\Users\\kjhoe\\anaconda3\\Lib\\site-packages\\statsmodels\\tsa\\base\\tsa_model.py:836: ValueWarning: No supported index is available. Prediction results will be given with an integer index beginning at `start`.\n",
      "  return get_prediction_index(\n"
     ]
    },
    {
     "name": "stdout",
     "output_type": "stream",
     "text": [
      "Performance for INNER_CBDX_CTRN:\n",
      "Mean Squared Error: 37632.24292327412\n",
      "Root Mean Squared Error: 193.99031657089\n",
      "\n"
     ]
    },
    {
     "name": "stderr",
     "output_type": "stream",
     "text": [
      "c:\\Users\\kjhoe\\anaconda3\\Lib\\site-packages\\statsmodels\\tsa\\base\\tsa_model.py:836: ValueWarning: No supported index is available. Prediction results will be given with an integer index beginning at `start`.\n",
      "  return get_prediction_index(\n"
     ]
    },
    {
     "name": "stdout",
     "output_type": "stream",
     "text": [
      "   AREA_TPRT  AREA_HMDT  INNER_TPRT  INNER_HMDT  INNER_CBDX_CTRN\n",
      "0       -1.9       50.0        19.1        87.0         0.000000\n",
      "1       -3.2       54.0        18.8        87.0       765.002423\n",
      "2       -2.5       62.0        18.5        87.0       600.996654\n",
      "3       -2.5       62.0        18.1        87.0       985.005595\n",
      "4       -3.6       67.0        17.8        88.0       867.993904\n"
     ]
    }
   ],
   "source": [
    "\n",
    "# 환경 변수 리스트\n",
    "env_vars = ['AREA_TPRT', 'AREA_HMDT', 'INNER_TPRT', 'INNER_HMDT', 'INNER_CBDX_CTRN']\n",
    "\n",
    "# 각 변수의 결측치를 SARIMA 모델로 채움 및 성능 평가\n",
    "for var in env_vars:\n",
    "    df_1[var] = fill_missing_with_sarima(df_1[var], df_1[['AREA_TPRT', 'AREA_HMDT', 'INNER_TPRT', 'INNER_HMDT', 'INNER_CBDX_CTRN']])\n",
    "\n",
    "# 결과 확인\n",
    "print(df_1[env_vars].head())"
   ]
  },
  {
   "cell_type": "markdown",
   "metadata": {},
   "source": [
    "1.2.3 Prophet 사용"
   ]
  },
  {
   "cell_type": "code",
   "execution_count": 20,
   "metadata": {},
   "outputs": [],
   "source": [
    "#Prophet "
   ]
  },
  {
   "cell_type": "code",
   "execution_count": 21,
   "metadata": {},
   "outputs": [],
   "source": [
    "#prophet은 conda로 설치해야 한다고 함\n",
    "#Window Anaconda Prompt 검색해서 프롬프트 창에서 설치"
   ]
  },
  {
   "cell_type": "code",
   "execution_count": 22,
   "metadata": {},
   "outputs": [
    {
     "name": "stdout",
     "output_type": "stream",
     "text": [
      "              MSRM_DT  AREA_TPRT  AREA_HMDT  AREA_WDSP  INNER_TPRT  \\\n",
      "0 2019-01-01 00:00:00       -1.9       50.0        1.6        19.1   \n",
      "1 2019-01-01 01:00:00       -3.2       54.0        1.7        18.8   \n",
      "2 2019-01-01 02:00:00       -2.5       62.0        2.1        18.5   \n",
      "3 2019-01-01 03:00:00       -2.5       62.0        1.6        18.1   \n",
      "4 2019-01-01 04:00:00       -3.6       67.0        0.8        17.8   \n",
      "\n",
      "   INNER_HMDT  INNER_CBDX_CTRN  EXTN_TPRT  PLT_LNGTH  LEAF_LNGTH  LEAF_WDTH  \\\n",
      "0        87.0              NaN        NaN        NaN         NaN        NaN   \n",
      "1        87.0              NaN        NaN        NaN         NaN        NaN   \n",
      "2        87.0              NaN        NaN        NaN         NaN        NaN   \n",
      "3        87.0              NaN        NaN        NaN         NaN        NaN   \n",
      "4        88.0              NaN        NaN        NaN         NaN        NaN   \n",
      "\n",
      "   STEM_THNS  SHPMN_QTY  SHPMN_AMT  \n",
      "0        NaN        NaN        NaN  \n",
      "1        NaN        NaN        NaN  \n",
      "2        NaN        NaN        NaN  \n",
      "3        NaN        NaN        NaN  \n",
      "4        NaN        NaN        NaN  \n"
     ]
    }
   ],
   "source": [
    "print(df_3.head())"
   ]
  },
  {
   "cell_type": "markdown",
   "metadata": {},
   "source": [
    "1.2.3.(1) 시간 변수만 사용해서 다섯개 한번에 예측"
   ]
  },
  {
   "cell_type": "code",
   "execution_count": 23,
   "metadata": {},
   "outputs": [
    {
     "name": "stdout",
     "output_type": "stream",
     "text": [
      "Evaluating performance for AREA_TPRT...\n"
     ]
    },
    {
     "name": "stderr",
     "output_type": "stream",
     "text": [
      "16:35:51 - cmdstanpy - INFO - Chain [1] start processing\n",
      "16:36:21 - cmdstanpy - INFO - Chain [1] done processing\n"
     ]
    },
    {
     "name": "stdout",
     "output_type": "stream",
     "text": [
      "MSE: 18.484572033319242\n",
      "RMSE: 4.299368794755718\n",
      "MAE: 3.498361133751842\n",
      "Evaluating performance for AREA_HMDT...\n"
     ]
    },
    {
     "name": "stderr",
     "output_type": "stream",
     "text": [
      "16:36:30 - cmdstanpy - INFO - Chain [1] start processing\n",
      "16:36:47 - cmdstanpy - INFO - Chain [1] done processing\n"
     ]
    },
    {
     "name": "stdout",
     "output_type": "stream",
     "text": [
      "MSE: 465.3068631489933\n",
      "RMSE: 21.57097269825803\n",
      "MAE: 17.9515380640037\n",
      "Evaluating performance for INNER_TPRT...\n"
     ]
    },
    {
     "name": "stderr",
     "output_type": "stream",
     "text": [
      "16:36:56 - cmdstanpy - INFO - Chain [1] start processing\n",
      "16:37:21 - cmdstanpy - INFO - Chain [1] done processing\n"
     ]
    },
    {
     "name": "stdout",
     "output_type": "stream",
     "text": [
      "MSE: 27.5770540025956\n",
      "RMSE: 5.25138591255638\n",
      "MAE: 3.5710752298136827\n",
      "Evaluating performance for INNER_HMDT...\n"
     ]
    },
    {
     "name": "stderr",
     "output_type": "stream",
     "text": [
      "16:37:30 - cmdstanpy - INFO - Chain [1] start processing\n",
      "16:37:50 - cmdstanpy - INFO - Chain [1] done processing\n"
     ]
    },
    {
     "name": "stdout",
     "output_type": "stream",
     "text": [
      "MSE: 193.3568412172149\n",
      "RMSE: 13.905281054952285\n",
      "MAE: 10.045988697108402\n",
      "Evaluating performance for INNER_CBDX_CTRN...\n"
     ]
    },
    {
     "name": "stderr",
     "output_type": "stream",
     "text": [
      "16:37:58 - cmdstanpy - INFO - Chain [1] start processing\n",
      "16:38:20 - cmdstanpy - INFO - Chain [1] done processing\n"
     ]
    },
    {
     "name": "stdout",
     "output_type": "stream",
     "text": [
      "MSE: 37688.039665229364\n",
      "RMSE: 194.1340765173115\n",
      "MAE: 129.97772567116198\n",
      "   AREA_TPRT  AREA_HMDT  INNER_TPRT  INNER_HMDT  INNER_CBDX_CTRN\n",
      "0       -1.9       50.0        19.1        87.0         0.000000\n",
      "1       -3.2       54.0        18.8        87.0       767.366314\n",
      "2       -2.5       62.0        18.5        87.0       577.774520\n",
      "3       -2.5       62.0        18.1        87.0      1064.589829\n",
      "4       -3.6       67.0        17.8        88.0       799.506240\n"
     ]
    }
   ],
   "source": [
    "import pandas as pd\n",
    "from prophet import Prophet\n",
    "from sklearn.metrics import mean_squared_error, mean_absolute_error\n",
    "import numpy as np\n",
    "\n",
    "# Prophet을 사용하여 결측값을 채우는 함수\n",
    "def fill_missing_with_prophet(series):\n",
    "    # 시리즈 데이터에서 결측값이 없는 부분만 Prophet 모델에 사용\n",
    "    series_non_null = series.dropna()\n",
    "    \n",
    "    # 데이터 준비: Prophet에 맞는 형식으로 변환\n",
    "    df_prophet = pd.DataFrame({\n",
    "        'ds': pd.to_datetime(series_non_null.index),  # 시간 데이터를 datetime 형식으로 변환\n",
    "        'y': series_non_null.values   # 관측값 (series)\n",
    "    })\n",
    "    \n",
    "    # Prophet 모델 초기화\n",
    "    model = Prophet(daily_seasonality=5, yearly_seasonality=20, weekly_seasonality=10)\n",
    "    \n",
    "    # 모델 학습\n",
    "    model.fit(df_prophet)\n",
    "    \n",
    "    # 전체 기간에 대해 예측 (datetime 형식으로 변환하여 Prophet에 전달)\n",
    "    future = pd.DataFrame({'ds': pd.to_datetime(series.index)})  # 결측값 포함한 전체 데이터의 시간 정보\n",
    "    forecast = model.predict(future)\n",
    "    \n",
    "    # 예측 결과에서 'yhat' 값 사용\n",
    "    predicted_values = forecast['yhat'].values\n",
    "    \n",
    "    # 결측값을 예측값으로 채우기\n",
    "    filled_series = series.copy()\n",
    "    filled_series[series.isnull()] = predicted_values[series.isnull()]\n",
    "    \n",
    "    return filled_series, predicted_values\n",
    "\n",
    "# 성능 평가 함수 (MSE, RMSE, MAE 계산)\n",
    "def evaluate_performance(original_series, predicted_values):\n",
    "    # 결측값이 아닌 부분에 대해 평가\n",
    "    mask = original_series.notnull()\n",
    "    \n",
    "    mse = mean_squared_error(original_series[mask], predicted_values[mask])\n",
    "    rmse = np.sqrt(mse)\n",
    "    mae = mean_absolute_error(original_series[mask], predicted_values[mask])\n",
    "    \n",
    "    print(f'MSE: {mse}')\n",
    "    print(f'RMSE: {rmse}')\n",
    "    print(f'MAE: {mae}')\n",
    "\n",
    "# 환경 변수 리스트 (사용자가 제공한 변수)\n",
    "env_vars = ['AREA_TPRT', 'AREA_HMDT', 'INNER_TPRT', 'INNER_HMDT', 'INNER_CBDX_CTRN']\n",
    "\n",
    "# 각 변수의 결측치를 Prophet 모델로 채움 및 성능 평가\n",
    "for var in env_vars:\n",
    "    print(f\"Evaluating performance for {var}...\")\n",
    "    \n",
    "    # 결측값을 Prophet으로 채우고, 예측된 전체 값을 반환\n",
    "    df_3[var], predicted_values = fill_missing_with_prophet(df[var])\n",
    "    \n",
    "    # 성능 평가\n",
    "    evaluate_performance(df[var], predicted_values)\n",
    "\n",
    "# 결과 확인\n",
    "print(df_3[env_vars].head())\n"
   ]
  },
  {
   "cell_type": "code",
   "execution_count": 24,
   "metadata": {},
   "outputs": [
    {
     "name": "stdout",
     "output_type": "stream",
     "text": [
      "<class 'pandas.core.frame.DataFrame'>\n",
      "RangeIndex: 17544 entries, 0 to 17543\n",
      "Data columns (total 14 columns):\n",
      " #   Column           Non-Null Count  Dtype         \n",
      "---  ------           --------------  -----         \n",
      " 0   MSRM_DT          17544 non-null  datetime64[ns]\n",
      " 1   AREA_TPRT        17544 non-null  float64       \n",
      " 2   AREA_HMDT        17544 non-null  float64       \n",
      " 3   AREA_WDSP        17544 non-null  float64       \n",
      " 4   INNER_TPRT       17544 non-null  float64       \n",
      " 5   INNER_HMDT       17544 non-null  float64       \n",
      " 6   INNER_CBDX_CTRN  17544 non-null  float64       \n",
      " 7   EXTN_TPRT        0 non-null      float64       \n",
      " 8   PLT_LNGTH        120 non-null    float64       \n",
      " 9   LEAF_LNGTH       1488 non-null   float64       \n",
      " 10  LEAF_WDTH        1488 non-null   float64       \n",
      " 11  STEM_THNS        1488 non-null   float64       \n",
      " 12  SHPMN_QTY        2640 non-null   float64       \n",
      " 13  SHPMN_AMT        2640 non-null   float64       \n",
      "dtypes: datetime64[ns](1), float64(13)\n",
      "memory usage: 1.9 MB\n"
     ]
    }
   ],
   "source": [
    "df_3.info()"
   ]
  },
  {
   "cell_type": "markdown",
   "metadata": {},
   "source": [
    "1.2.3.(2) 다른 변수 동시에 고려해서 반응변수 하나씩 예측"
   ]
  },
  {
   "cell_type": "code",
   "execution_count": 25,
   "metadata": {},
   "outputs": [],
   "source": [
    "#prophet으로 변수 하나씩 예측해봄\n",
    "#우선 지역 온도의 결측값이 가장 적으니까 위에 있는 prophet에 결측값 없는 지역바람 추가해서 채움\n",
    "#채워진 지역온도랑 지역바람을 가지고 prophet에 regression 변수 추가해서 지역습도 예측. \n",
    "#지역온도, 지역습도, 지역바람으로 내부온도\n",
    "#지역온도, 지역습도, 지역바람, 내부온도로 내부습도\n",
    "#지역온도, 지역습도, 지역바람, 내부온도, 내부습도로 내부 이산화탄소\n",
    "#즉, 결측값이 적은 변수부터 차례대로 prophet에 예측변수 추가하면서 해봄\n"
   ]
  },
  {
   "cell_type": "code",
   "execution_count": 26,
   "metadata": {},
   "outputs": [],
   "source": [
    "#지역온도"
   ]
  },
  {
   "cell_type": "code",
   "execution_count": 27,
   "metadata": {},
   "outputs": [
    {
     "name": "stderr",
     "output_type": "stream",
     "text": [
      "16:38:30 - cmdstanpy - INFO - Chain [1] start processing\n",
      "16:38:57 - cmdstanpy - INFO - Chain [1] done processing\n"
     ]
    },
    {
     "name": "stdout",
     "output_type": "stream",
     "text": [
      "MSE: 16.96049612477112\n",
      "RMSE: 4.118312290826318\n",
      "MAE: 3.320573774492098\n",
      "   AREA_TPRT\n",
      "0       -1.9\n",
      "1       -3.2\n",
      "2       -2.5\n",
      "3       -2.5\n",
      "4       -3.6\n"
     ]
    }
   ],
   "source": [
    "import pandas as pd\n",
    "from prophet import Prophet\n",
    "from sklearn.metrics import mean_squared_error, mean_absolute_error\n",
    "import numpy as np\n",
    "\n",
    "# Prophet을 사용하여 결측값을 채우는 함수\n",
    "def fill_missing_with_prophet(target_series, regressor_series):\n",
    "    # 결측값이 없는 행들만 Prophet 모델에 사용\n",
    "    non_null_indices = target_series.dropna().index\n",
    "    target_series_non_null = target_series.loc[non_null_indices]\n",
    "    regressor_non_null = regressor_series.loc[non_null_indices]\n",
    "\n",
    "    # Prophet에 맞는 형식으로 변환\n",
    "    df_prophet = pd.DataFrame({\n",
    "        'ds': pd.to_datetime(target_series_non_null.index),  # 시간 데이터를 datetime 형식으로 변환\n",
    "        'y': target_series_non_null.values,  # 예측할 목표 값 (지역 온도)\n",
    "        'regressor': regressor_non_null.values  # 예측 변수 \n",
    "    })\n",
    "\n",
    "    # Prophet 모델 초기화 (계절성 추가)\n",
    "    model = Prophet(daily_seasonality=5, yearly_seasonality=20, weekly_seasonality=10)\n",
    "    model.add_regressor('regressor')  # 예측 변수 추가\n",
    "\n",
    "    # 모델 학습\n",
    "    model.fit(df_prophet)\n",
    "\n",
    "    # 전체 기간에 대해 예측할 데이터 준비\n",
    "    future = pd.DataFrame({\n",
    "        'ds': pd.to_datetime(target_series.index),  # 전체 시간 데이터\n",
    "        'regressor': regressor_series.values  # 예측 변수 (AREA_WDSP)\n",
    "    })\n",
    "\n",
    "    # 전체 데이터를 대상으로 예측 수행\n",
    "    forecast = model.predict(future)\n",
    "\n",
    "    # 예측 결과에서 'yhat' 값 사용\n",
    "    predicted_values = forecast['yhat'].values\n",
    "\n",
    "    # 결측값만 Prophet 예측값으로 채우기\n",
    "    filled_series = target_series.copy()\n",
    "    filled_series[target_series.isnull()] = predicted_values[target_series.isnull()]\n",
    "\n",
    "    return filled_series, predicted_values\n",
    "\n",
    "# 성능 평가 함수 (MSE, RMSE, MAE 계산)\n",
    "def evaluate_performance(original_series, predicted_values):\n",
    "    # 결측값이 아닌 부분에 대해 평가\n",
    "    mask = original_series.notnull()\n",
    "    \n",
    "    mse = mean_squared_error(original_series[mask], predicted_values[mask])\n",
    "    rmse = np.sqrt(mse)\n",
    "    mae = mean_absolute_error(original_series[mask], predicted_values[mask])\n",
    "    \n",
    "    print(f'MSE: {mse}')\n",
    "    print(f'RMSE: {rmse}')\n",
    "    print(f'MAE: {mae}')\n",
    "\n",
    "# 반응 변수 (예측할 변수)와 예측 변수 설정\n",
    "target_var = 'AREA_TPRT'  # 반응 변수 (지역 온도)\n",
    "regressor_var = 'AREA_WDSP'  # 예측 변수 (풍속)\n",
    "\n",
    "# Prophet을 이용해 'AREA_TPRT'의 결측값 채우기\n",
    "df_4[target_var], predicted_values = fill_missing_with_prophet(df_4[target_var], df_4[regressor_var])\n",
    "\n",
    "# 성능 평가\n",
    "evaluate_performance(df_4[target_var], predicted_values)\n",
    "\n",
    "# 결과 확인\n",
    "print(df_4[[target_var]].head())\n"
   ]
  },
  {
   "cell_type": "code",
   "execution_count": 28,
   "metadata": {},
   "outputs": [
    {
     "name": "stdout",
     "output_type": "stream",
     "text": [
      "<class 'pandas.core.frame.DataFrame'>\n",
      "RangeIndex: 17544 entries, 0 to 17543\n",
      "Data columns (total 14 columns):\n",
      " #   Column           Non-Null Count  Dtype         \n",
      "---  ------           --------------  -----         \n",
      " 0   MSRM_DT          17544 non-null  datetime64[ns]\n",
      " 1   AREA_TPRT        17544 non-null  float64       \n",
      " 2   AREA_HMDT        17517 non-null  float64       \n",
      " 3   AREA_WDSP        17544 non-null  float64       \n",
      " 4   INNER_TPRT       10100 non-null  float64       \n",
      " 5   INNER_HMDT       9615 non-null   float64       \n",
      " 6   INNER_CBDX_CTRN  7528 non-null   float64       \n",
      " 7   EXTN_TPRT        0 non-null      float64       \n",
      " 8   PLT_LNGTH        120 non-null    float64       \n",
      " 9   LEAF_LNGTH       1488 non-null   float64       \n",
      " 10  LEAF_WDTH        1488 non-null   float64       \n",
      " 11  STEM_THNS        1488 non-null   float64       \n",
      " 12  SHPMN_QTY        2640 non-null   float64       \n",
      " 13  SHPMN_AMT        2640 non-null   float64       \n",
      "dtypes: datetime64[ns](1), float64(13)\n",
      "memory usage: 1.9 MB\n"
     ]
    }
   ],
   "source": [
    "df_4.info()"
   ]
  },
  {
   "cell_type": "code",
   "execution_count": 29,
   "metadata": {},
   "outputs": [],
   "source": [
    "#지역습도"
   ]
  },
  {
   "cell_type": "code",
   "execution_count": 30,
   "metadata": {},
   "outputs": [
    {
     "name": "stderr",
     "output_type": "stream",
     "text": [
      "16:39:06 - cmdstanpy - INFO - Chain [1] start processing\n",
      "16:39:50 - cmdstanpy - INFO - Chain [1] done processing\n"
     ]
    },
    {
     "name": "stdout",
     "output_type": "stream",
     "text": [
      "MSE: 295.7663949534359\n",
      "RMSE: 17.197860185308983\n",
      "MAE: 13.592265089265652\n",
      "   AREA_HMDT\n",
      "0       50.0\n",
      "1       54.0\n",
      "2       62.0\n",
      "3       62.0\n",
      "4       67.0\n"
     ]
    }
   ],
   "source": [
    "import pandas as pd\n",
    "from prophet import Prophet\n",
    "from sklearn.metrics import mean_squared_error, mean_absolute_error\n",
    "import numpy as np\n",
    "\n",
    "# Prophet을 사용하여 결측값을 채우는 함수\n",
    "def fill_missing_with_prophet(target_series, regressors_df):\n",
    "    # 결측값이 없는 행들만 Prophet 모델에 사용\n",
    "    non_null_indices = target_series.dropna().index\n",
    "    target_series_non_null = target_series.loc[non_null_indices]\n",
    "    regressors_non_null = regressors_df.loc[non_null_indices]\n",
    "\n",
    "    # Prophet에 맞는 형식으로 변환\n",
    "    df_prophet = pd.DataFrame({\n",
    "        'ds': pd.to_datetime(target_series_non_null.index),  # 시간 데이터를 datetime 형식으로 변환\n",
    "        'y': target_series_non_null.values  # 예측할 목표 값\n",
    "    })\n",
    "\n",
    "    # 각 부가 변수(regressor)를 추가\n",
    "    for col in regressors_df.columns:\n",
    "        df_prophet[col] = regressors_non_null[col].values\n",
    "\n",
    "    # Prophet 모델 초기화 (계절성 추가)\n",
    "    model = Prophet(daily_seasonality=5, yearly_seasonality=20, weekly_seasonality=10)\n",
    "\n",
    "    # 부가 변수(regressor) 추가\n",
    "    for col in regressors_df.columns:\n",
    "        model.add_regressor(col)\n",
    "\n",
    "    # 모델 학습\n",
    "    model.fit(df_prophet)\n",
    "\n",
    "    # 전체 기간에 대해 예측할 데이터 준비\n",
    "    future = pd.DataFrame({'ds': pd.to_datetime(target_series.index)})\n",
    "    for col in regressors_df.columns:\n",
    "        future[col] = regressors_df[col].values\n",
    "\n",
    "    # 예측 수행\n",
    "    forecast = model.predict(future)\n",
    "\n",
    "    # 예측 결과에서 'yhat' 값 사용\n",
    "    predicted_values = forecast['yhat'].values\n",
    "\n",
    "    # 결측값만 Prophet 예측값으로 채우기\n",
    "    filled_series = target_series.copy()\n",
    "    filled_series[target_series.isnull()] = predicted_values[target_series.isnull()]\n",
    "\n",
    "    return filled_series, predicted_values\n",
    "\n",
    "# 성능 평가 함수 (MSE, RMSE, MAE 계산)\n",
    "def evaluate_performance(original_series, predicted_values):\n",
    "    # 결측값이 아닌 부분에 대해 평가\n",
    "    mask = original_series.notnull()\n",
    "    \n",
    "    mse = mean_squared_error(original_series[mask], predicted_values[mask])\n",
    "    rmse = np.sqrt(mse)\n",
    "    mae = mean_absolute_error(original_series[mask], predicted_values[mask])\n",
    "    \n",
    "    print(f'MSE: {mse}')\n",
    "    print(f'RMSE: {rmse}')\n",
    "    print(f'MAE: {mae}')\n",
    "\n",
    "# 반응 변수 (예측할 변수)와 예측 변수 설정\n",
    "target_var = 'AREA_HMDT'  # 반응 변수 (지역 습도)\n",
    "regressors = ['AREA_WDSP', 'AREA_TPRT']  # 예측 변수\n",
    "\n",
    "# Prophet을 이용해 'AREA_HMDT'의 결측값 채우기\n",
    "df_4[target_var], predicted_values = fill_missing_with_prophet(df_4[target_var], df_4[regressors])\n",
    "\n",
    "# 성능 평가\n",
    "evaluate_performance(df_4[target_var], predicted_values)\n",
    "\n",
    "# 결과 확인\n",
    "print(df_4[[target_var]].head())\n"
   ]
  },
  {
   "cell_type": "code",
   "execution_count": 31,
   "metadata": {},
   "outputs": [],
   "source": [
    "#내부온도 "
   ]
  },
  {
   "cell_type": "code",
   "execution_count": 32,
   "metadata": {},
   "outputs": [
    {
     "name": "stderr",
     "output_type": "stream",
     "text": [
      "16:39:58 - cmdstanpy - INFO - Chain [1] start processing\n",
      "16:40:19 - cmdstanpy - INFO - Chain [1] done processing\n"
     ]
    },
    {
     "name": "stdout",
     "output_type": "stream",
     "text": [
      "MSE: 9.555232220152423\n",
      "RMSE: 3.091153865493017\n",
      "MAE: 1.7921584877421906\n",
      "   INNER_TPRT\n",
      "0        19.1\n",
      "1        18.8\n",
      "2        18.5\n",
      "3        18.1\n",
      "4        17.8\n"
     ]
    }
   ],
   "source": [
    "import pandas as pd\n",
    "from prophet import Prophet\n",
    "from sklearn.metrics import mean_squared_error, mean_absolute_error\n",
    "import numpy as np\n",
    "\n",
    "# Prophet을 사용하여 결측값을 채우는 함수\n",
    "def fill_missing_with_prophet(target_series, regressors_df):\n",
    "    # 결측값이 없는 행들만 Prophet 모델에 사용\n",
    "    non_null_indices = target_series.dropna().index\n",
    "    target_series_non_null = target_series.loc[non_null_indices]\n",
    "    regressors_non_null = regressors_df.loc[non_null_indices]\n",
    "\n",
    "    # Prophet에 맞는 형식으로 변환\n",
    "    df_prophet = pd.DataFrame({\n",
    "        'ds': pd.to_datetime(target_series_non_null.index),  # 시간 데이터를 datetime 형식으로 변환\n",
    "        'y': target_series_non_null.values  # 예측할 목표 값 \n",
    "    })\n",
    "\n",
    "    # 각 부가 변수(regressor)를 추가\n",
    "    for col in regressors_df.columns:\n",
    "        df_prophet[col] = regressors_non_null[col].values\n",
    "\n",
    "    # Prophet 모델 초기화 (계절성 추가)\n",
    "    model = Prophet(daily_seasonality=5, yearly_seasonality=20, weekly_seasonality=10)\n",
    "\n",
    "    # 부가 변수(regressor) 추가\n",
    "    for col in regressors_df.columns:\n",
    "        model.add_regressor(col)\n",
    "\n",
    "    # 모델 학습\n",
    "    model.fit(df_prophet)\n",
    "\n",
    "    # 전체 기간에 대해 예측할 데이터 준비\n",
    "    future = pd.DataFrame({'ds': pd.to_datetime(target_series.index)})\n",
    "    for col in regressors_df.columns:\n",
    "        future[col] = regressors_df[col].values\n",
    "\n",
    "    # 예측 수행\n",
    "    forecast = model.predict(future)\n",
    "\n",
    "    # 예측 결과에서 'yhat' 값 사용\n",
    "    predicted_values = forecast['yhat'].values\n",
    "\n",
    "    # 결측값만 Prophet 예측값으로 채우기\n",
    "    filled_series = target_series.copy()\n",
    "    filled_series[target_series.isnull()] = predicted_values[target_series.isnull()]\n",
    "\n",
    "    return filled_series, predicted_values\n",
    "\n",
    "# 성능 평가 함수 (MSE, RMSE, MAE 계산)\n",
    "def evaluate_performance(original_series, predicted_values):\n",
    "    # 결측값이 아닌 부분에 대해 평가\n",
    "    mask = original_series.notnull()\n",
    "    \n",
    "    mse = mean_squared_error(original_series[mask], predicted_values[mask])\n",
    "    rmse = np.sqrt(mse)\n",
    "    mae = mean_absolute_error(original_series[mask], predicted_values[mask])\n",
    "    \n",
    "    print(f'MSE: {mse}')\n",
    "    print(f'RMSE: {rmse}')\n",
    "    print(f'MAE: {mae}')\n",
    "\n",
    "# 반응 변수 (예측할 변수)와 예측 변수 설정\n",
    "target_var = 'INNER_TPRT'  # 반응 변수 (내부 온도)\n",
    "regressors = ['AREA_WDSP', 'AREA_TPRT','AREA_HMDT']  # 예측 변수\n",
    "\n",
    "# Prophet을 이용해 'AREA_HMDT'의 결측값 채우기\n",
    "df_4[target_var], predicted_values = fill_missing_with_prophet(df_4[target_var], df_4[regressors])\n",
    "\n",
    "# 성능 평가\n",
    "evaluate_performance(df_4[target_var], predicted_values)\n",
    "\n",
    "# 결과 확인\n",
    "print(df_4[[target_var]].head())\n"
   ]
  },
  {
   "cell_type": "code",
   "execution_count": 33,
   "metadata": {},
   "outputs": [],
   "source": [
    "#내부습도"
   ]
  },
  {
   "cell_type": "code",
   "execution_count": 34,
   "metadata": {},
   "outputs": [
    {
     "name": "stderr",
     "output_type": "stream",
     "text": [
      "16:40:26 - cmdstanpy - INFO - Chain [1] start processing\n",
      "16:40:45 - cmdstanpy - INFO - Chain [1] done processing\n"
     ]
    },
    {
     "name": "stdout",
     "output_type": "stream",
     "text": [
      "MSE: 67.99993713202252\n",
      "RMSE: 8.246207439303387\n",
      "MAE: 4.67963763702541\n",
      "   INNER_HMDT\n",
      "0        87.0\n",
      "1        87.0\n",
      "2        87.0\n",
      "3        87.0\n",
      "4        88.0\n"
     ]
    }
   ],
   "source": [
    "import pandas as pd\n",
    "from prophet import Prophet\n",
    "from sklearn.metrics import mean_squared_error, mean_absolute_error\n",
    "import numpy as np\n",
    "\n",
    "# Prophet을 사용하여 결측값을 채우는 함수\n",
    "def fill_missing_with_prophet(target_series, regressors_df):\n",
    "    # 결측값이 없는 행들만 Prophet 모델에 사용\n",
    "    non_null_indices = target_series.dropna().index\n",
    "    target_series_non_null = target_series.loc[non_null_indices]\n",
    "    regressors_non_null = regressors_df.loc[non_null_indices]\n",
    "\n",
    "    # Prophet에 맞는 형식으로 변환\n",
    "    df_prophet = pd.DataFrame({\n",
    "        'ds': pd.to_datetime(target_series_non_null.index),  # 시간 데이터를 datetime 형식으로 변환\n",
    "        'y': target_series_non_null.values  # 예측할 목표 값 \n",
    "    })\n",
    "\n",
    "    # 각 부가 변수(regressor)를 추가\n",
    "    for col in regressors_df.columns:\n",
    "        df_prophet[col] = regressors_non_null[col].values\n",
    "\n",
    "    # Prophet 모델 초기화 (계절성 추가)\n",
    "    model = Prophet(daily_seasonality=5, yearly_seasonality=20, weekly_seasonality=10)\n",
    "\n",
    "    # 부가 변수(regressor) 추가\n",
    "    for col in regressors_df.columns:\n",
    "        model.add_regressor(col)\n",
    "\n",
    "    # 모델 학습\n",
    "    model.fit(df_prophet)\n",
    "\n",
    "    # 전체 기간에 대해 예측할 데이터 준비\n",
    "    future = pd.DataFrame({'ds': pd.to_datetime(target_series.index)})\n",
    "    for col in regressors_df.columns:\n",
    "        future[col] = regressors_df[col].values\n",
    "\n",
    "    # 예측 수행\n",
    "    forecast = model.predict(future)\n",
    "\n",
    "    # 예측 결과에서 'yhat' 값 사용\n",
    "    predicted_values = forecast['yhat'].values\n",
    "\n",
    "    # 결측값만 Prophet 예측값으로 채우기\n",
    "    filled_series = target_series.copy()\n",
    "    filled_series[target_series.isnull()] = predicted_values[target_series.isnull()]\n",
    "\n",
    "    return filled_series, predicted_values\n",
    "\n",
    "# 성능 평가 함수 (MSE, RMSE, MAE 계산)\n",
    "def evaluate_performance(original_series, predicted_values):\n",
    "    # 결측값이 아닌 부분에 대해 평가\n",
    "    mask = original_series.notnull()\n",
    "    \n",
    "    mse = mean_squared_error(original_series[mask], predicted_values[mask])\n",
    "    rmse = np.sqrt(mse)\n",
    "    mae = mean_absolute_error(original_series[mask], predicted_values[mask])\n",
    "    \n",
    "    print(f'MSE: {mse}')\n",
    "    print(f'RMSE: {rmse}')\n",
    "    print(f'MAE: {mae}')\n",
    "\n",
    "# 반응 변수 (예측할 변수)와 예측 변수 설정\n",
    "target_var = 'INNER_HMDT'  # 반응 변수 (내부 습도)\n",
    "regressors = ['AREA_WDSP', 'AREA_TPRT','AREA_HMDT','INNER_TPRT']  # 예측 변수\n",
    "\n",
    "# Prophet을 이용해 'AREA_HMDT'의 결측값 채우기\n",
    "df_4[target_var], predicted_values = fill_missing_with_prophet(df_4[target_var], df_4[regressors])\n",
    "\n",
    "# 성능 평가\n",
    "evaluate_performance(df_4[target_var], predicted_values)\n",
    "\n",
    "# 결과 확인\n",
    "print(df_4[[target_var]].head())\n"
   ]
  },
  {
   "cell_type": "code",
   "execution_count": 35,
   "metadata": {},
   "outputs": [],
   "source": [
    "#내부 이산화탄소"
   ]
  },
  {
   "cell_type": "code",
   "execution_count": 36,
   "metadata": {},
   "outputs": [
    {
     "name": "stderr",
     "output_type": "stream",
     "text": [
      "16:40:53 - cmdstanpy - INFO - Chain [1] start processing\n",
      "16:41:01 - cmdstanpy - INFO - Chain [1] done processing\n"
     ]
    },
    {
     "name": "stdout",
     "output_type": "stream",
     "text": [
      "MSE: 18050.014583044594\n",
      "RMSE: 134.3503426979053\n",
      "MAE: 67.68899548026288\n",
      "   INNER_CBDX_CTRN\n",
      "0       604.349425\n",
      "1       623.431110\n",
      "2       612.521132\n",
      "3       633.484045\n",
      "4       679.815106\n"
     ]
    }
   ],
   "source": [
    "import pandas as pd\n",
    "from prophet import Prophet\n",
    "from sklearn.metrics import mean_squared_error, mean_absolute_error\n",
    "import numpy as np\n",
    "\n",
    "# Prophet을 사용하여 결측값을 채우는 함수\n",
    "def fill_missing_with_prophet(target_series, regressors_df):\n",
    "    # 결측값이 없는 행들만 Prophet 모델에 사용\n",
    "    non_null_indices = target_series.dropna().index\n",
    "    target_series_non_null = target_series.loc[non_null_indices]\n",
    "    regressors_non_null = regressors_df.loc[non_null_indices]\n",
    "\n",
    "    # Prophet에 맞는 형식으로 변환\n",
    "    df_prophet = pd.DataFrame({\n",
    "        'ds': pd.to_datetime(target_series_non_null.index),  # 시간 데이터를 datetime 형식으로 변환\n",
    "        'y': target_series_non_null.values  # 예측할 목표 값 \n",
    "    })\n",
    "\n",
    "    # 각 부가 변수(regressor)를 추가\n",
    "    for col in regressors_df.columns:\n",
    "        df_prophet[col] = regressors_non_null[col].values\n",
    "\n",
    "    # Prophet 모델 초기화 (계절성 추가)\n",
    "    model = Prophet(daily_seasonality=5, yearly_seasonality=20, weekly_seasonality=10)\n",
    "\n",
    "    # 부가 변수(regressor) 추가\n",
    "    for col in regressors_df.columns:\n",
    "        model.add_regressor(col)\n",
    "\n",
    "    # 모델 학습\n",
    "    model.fit(df_prophet)\n",
    "\n",
    "    # 전체 기간에 대해 예측할 데이터 준비\n",
    "    future = pd.DataFrame({'ds': pd.to_datetime(target_series.index)})\n",
    "    for col in regressors_df.columns:\n",
    "        future[col] = regressors_df[col].values\n",
    "\n",
    "    # 예측 수행\n",
    "    forecast = model.predict(future)\n",
    "\n",
    "    # 예측 결과에서 'yhat' 값 사용\n",
    "    predicted_values = forecast['yhat'].values\n",
    "\n",
    "    # 결측값만 Prophet 예측값으로 채우기\n",
    "    filled_series = target_series.copy()\n",
    "    filled_series[target_series.isnull()] = predicted_values[target_series.isnull()]\n",
    "\n",
    "    return filled_series, predicted_values\n",
    "\n",
    "# 성능 평가 함수 (MSE, RMSE, MAE 계산)\n",
    "def evaluate_performance(original_series, predicted_values):\n",
    "    # 결측값이 아닌 부분에 대해 평가\n",
    "    mask = original_series.notnull()\n",
    "    \n",
    "    mse = mean_squared_error(original_series[mask], predicted_values[mask])\n",
    "    rmse = np.sqrt(mse)\n",
    "    mae = mean_absolute_error(original_series[mask], predicted_values[mask])\n",
    "    \n",
    "    print(f'MSE: {mse}')\n",
    "    print(f'RMSE: {rmse}')\n",
    "    print(f'MAE: {mae}')\n",
    "\n",
    "# 반응 변수 (예측할 변수)와 예측 변수 설정\n",
    "target_var = 'INNER_CBDX_CTRN'  # 반응 변수 (내부 습도)\n",
    "regressors = ['AREA_WDSP', 'AREA_TPRT','AREA_HMDT','INNER_TPRT','INNER_HMDT']  # 예측 변수\n",
    "\n",
    "# Prophet을 이용해 'AREA_HMDT'의 결측값 채우기\n",
    "df_4[target_var], predicted_values = fill_missing_with_prophet(df_4[target_var], df_4[regressors])\n",
    "\n",
    "# 성능 평가\n",
    "evaluate_performance(df_4[target_var], predicted_values)\n",
    "\n",
    "# 결과 확인\n",
    "print(df_4[[target_var]].head())\n"
   ]
  },
  {
   "cell_type": "code",
   "execution_count": 37,
   "metadata": {},
   "outputs": [
    {
     "name": "stdout",
     "output_type": "stream",
     "text": [
      "<class 'pandas.core.frame.DataFrame'>\n",
      "RangeIndex: 17544 entries, 0 to 17543\n",
      "Data columns (total 14 columns):\n",
      " #   Column           Non-Null Count  Dtype         \n",
      "---  ------           --------------  -----         \n",
      " 0   MSRM_DT          17544 non-null  datetime64[ns]\n",
      " 1   AREA_TPRT        17544 non-null  float64       \n",
      " 2   AREA_HMDT        17544 non-null  float64       \n",
      " 3   AREA_WDSP        17544 non-null  float64       \n",
      " 4   INNER_TPRT       17544 non-null  float64       \n",
      " 5   INNER_HMDT       17544 non-null  float64       \n",
      " 6   INNER_CBDX_CTRN  17544 non-null  float64       \n",
      " 7   EXTN_TPRT        0 non-null      float64       \n",
      " 8   PLT_LNGTH        120 non-null    float64       \n",
      " 9   LEAF_LNGTH       1488 non-null   float64       \n",
      " 10  LEAF_WDTH        1488 non-null   float64       \n",
      " 11  STEM_THNS        1488 non-null   float64       \n",
      " 12  SHPMN_QTY        2640 non-null   float64       \n",
      " 13  SHPMN_AMT        2640 non-null   float64       \n",
      "dtypes: datetime64[ns](1), float64(13)\n",
      "memory usage: 1.9 MB\n"
     ]
    }
   ],
   "source": [
    "df_4.info()"
   ]
  },
  {
   "cell_type": "code",
   "execution_count": 38,
   "metadata": {},
   "outputs": [
    {
     "name": "stdout",
     "output_type": "stream",
     "text": [
      "Object `예측하는듯` not found.\n"
     ]
    }
   ],
   "source": [
    "1.2.4 MICE- 지역온도만 예측하는듯?"
   ]
  },
  {
   "cell_type": "code",
   "execution_count": 39,
   "metadata": {},
   "outputs": [
    {
     "name": "stdout",
     "output_type": "stream",
     "text": [
      "Evaluating performance for AREA_TPRT...\n",
      "MSE: 10.91354965975683\n",
      "RMSE: 3.303566203325859\n",
      "MAE: 1.2854044707324999\n",
      "Evaluating performance for AREA_HMDT...\n",
      "MSE: 119.8940767117933\n",
      "RMSE: 10.949615368212406\n",
      "MAE: 4.488765018414768\n",
      "Evaluating performance for INNER_TPRT...\n",
      "MSE: 6.382555140388537\n",
      "RMSE: 2.526371932314903\n",
      "MAE: 0.9810866131159132\n",
      "Evaluating performance for INNER_HMDT...\n",
      "MSE: 55.33116006402124\n",
      "RMSE: 7.438491786916299\n",
      "MAE: 2.9653706199698218\n",
      "Evaluating performance for INNER_CBDX_CTRN...\n",
      "MSE: 13494.000317213086\n",
      "RMSE: 116.16367899310475\n",
      "MAE: 46.4000285855504\n"
     ]
    }
   ],
   "source": [
    "import pandas as pd\n",
    "import numpy as np\n",
    "from sklearn.experimental import enable_iterative_imputer\n",
    "from sklearn.impute import IterativeImputer\n",
    "from sklearn.metrics import mean_squared_error, mean_absolute_error\n",
    "import random\n",
    "\n",
    "# 결측값을 MICE 모델로 채우는 함수\n",
    "def fill_missing_with_mice(df, max_iter=10, random_state=0):\n",
    "    # IterativeImputer 초기화\n",
    "    imputer = IterativeImputer(max_iter=max_iter, random_state=random_state)\n",
    "\n",
    "    # 전체 데이터프레임에서 결측값 대체\n",
    "    imputed_data = imputer.fit_transform(df)\n",
    "\n",
    "    # 원래의 데이터프레임과 동일한 구조로 데이터프레임 생성\n",
    "    imputed_df = pd.DataFrame(imputed_data, columns=df.columns, index=df.index)\n",
    "\n",
    "    return imputed_df\n",
    "\n",
    "# 임의로 결측값 추가하는 함수\n",
    "def introduce_missing_values_randomly(df, missing_fraction=0.3, random_state=0):\n",
    "    np.random.seed(random_state)\n",
    "    df_with_missing = df.copy()\n",
    "\n",
    "    # 총 셀 수에서 결측값을 추가할 개수 계산\n",
    "    total_cells = df.size\n",
    "    num_missing = int(total_cells * missing_fraction)\n",
    "\n",
    "    # 랜덤하게 결측치를 추가할 위치 선택\n",
    "    for _ in range(num_missing):\n",
    "        row = random.randint(0, df.shape[0] - 1)\n",
    "        col = random.randint(0, df.shape[1] - 1)\n",
    "        df_with_missing.iat[row, col] = np.nan\n",
    "\n",
    "    return df_with_missing\n",
    "\n",
    "# 환경 변수 리스트 (사용자가 제공한 변수)\n",
    "env_vars = ['AREA_TPRT', 'AREA_HMDT', 'INNER_TPRT', 'INNER_HMDT', 'INNER_CBDX_CTRN']\n",
    "\n",
    "# 결측치가 없는 행만 필터링\n",
    "df_no_missing = df_5[env_vars].dropna()\n",
    "\n",
    "# 결측치 없는 데이터에서 일부 값을 임의로 결측치로 변환\n",
    "df_with_random_missing = introduce_missing_values_randomly(df_no_missing, missing_fraction=0.3)\n",
    "\n",
    "# MICE로 결측치를 채움\n",
    "df_imputed = fill_missing_with_mice(df_with_random_missing)\n",
    "\n",
    "# 결측치 없는 데이터의 인덱스를 원본 데이터에서 추출\n",
    "selected_indices = df_no_missing.index\n",
    "\n",
    "# 원본 데이터 df2에서 필터링된 인덱스만 뽑아 새로운 df3 생성\n",
    "df1 = df_5.loc[selected_indices]\n",
    "\n",
    "def evaluate_performance(original_series, imputed_series):\n",
    "\n",
    "    original_values = original_series\n",
    "    imputed_values = imputed_series\n",
    "\n",
    "    mse = mean_squared_error(original_values, imputed_values)\n",
    "    rmse = np.sqrt(mse)\n",
    "    mae = mean_absolute_error(original_values, imputed_values)\n",
    "\n",
    "    # 평가 결과 출력\n",
    "    print(f'MSE: {mse}')\n",
    "    print(f'RMSE: {rmse}')\n",
    "    print(f'MAE: {mae}')\n",
    "\n",
    "# 각 변수에 대해 성능 평가\n",
    "for var in env_vars:\n",
    "    print(f\"Evaluating performance for {var}...\")\n",
    "\n",
    "    # 성능 평가 (임의로 결측치로 만든 값들에 대해 원래 값과 대체된 값 비교)\n",
    "    evaluate_performance(df1[var], df_imputed[var])\n"
   ]
  },
  {
   "cell_type": "code",
   "execution_count": 40,
   "metadata": {},
   "outputs": [
    {
     "ename": "SyntaxError",
     "evalue": "invalid syntax (3329770588.py, line 1)",
     "output_type": "error",
     "traceback": [
      "\u001b[1;36m  Cell \u001b[1;32mIn[40], line 1\u001b[1;36m\u001b[0m\n\u001b[1;33m    1.2.5 mice에 시계열 특성이랑 지역바람 추가. 반응변수는 지역온도.\u001b[0m\n\u001b[1;37m       ^\u001b[0m\n\u001b[1;31mSyntaxError\u001b[0m\u001b[1;31m:\u001b[0m invalid syntax\n"
     ]
    }
   ],
   "source": [
    "1.2.5 mice에 시계열 특성이랑 지역바람 추가. 반응변수는 지역온도. "
   ]
  },
  {
   "cell_type": "code",
   "execution_count": null,
   "metadata": {},
   "outputs": [
    {
     "name": "stdout",
     "output_type": "stream",
     "text": [
      "Requirement already satisfied: pandas in c:\\users\\kjhoe\\anaconda3\\lib\\site-packages (2.0.3)\n",
      "Collecting fancyimpute\n",
      "  Downloading fancyimpute-0.7.0.tar.gz (25 kB)\n",
      "  Preparing metadata (setup.py): started\n",
      "  Preparing metadata (setup.py): finished with status 'done'\n",
      "Requirement already satisfied: scikit-learn in c:\\users\\kjhoe\\anaconda3\\lib\\site-packages (1.3.0)\n",
      "Requirement already satisfied: python-dateutil>=2.8.2 in c:\\users\\kjhoe\\anaconda3\\lib\\site-packages (from pandas) (2.8.2)\n",
      "Requirement already satisfied: pytz>=2020.1 in c:\\users\\kjhoe\\anaconda3\\lib\\site-packages (from pandas) (2023.3.post1)\n",
      "Requirement already satisfied: tzdata>=2022.1 in c:\\users\\kjhoe\\anaconda3\\lib\\site-packages (from pandas) (2023.3)\n",
      "Requirement already satisfied: numpy>=1.21.0 in c:\\users\\kjhoe\\anaconda3\\lib\\site-packages (from pandas) (1.24.3)\n",
      "Collecting knnimpute>=0.1.0 (from fancyimpute)\n",
      "  Downloading knnimpute-0.1.0.tar.gz (8.3 kB)\n",
      "  Preparing metadata (setup.py): started\n",
      "  Preparing metadata (setup.py): finished with status 'done'\n",
      "Collecting cvxpy (from fancyimpute)\n",
      "  Obtaining dependency information for cvxpy from https://files.pythonhosted.org/packages/10/c9/f660f90f7b9c1dbfc70a36f253dde48ac96e671b5e996fe99ca92c79e16f/cvxpy-1.5.3-cp311-cp311-win_amd64.whl.metadata\n",
      "  Downloading cvxpy-1.5.3-cp311-cp311-win_amd64.whl.metadata (9.0 kB)\n",
      "Collecting cvxopt (from fancyimpute)\n",
      "  Obtaining dependency information for cvxopt from https://files.pythonhosted.org/packages/a3/52/2237d72cf007e6c36367ab8a776388a9f13511e4cfa8a71b79101ad6e0fa/cvxopt-1.3.2-cp311-cp311-win_amd64.whl.metadata\n",
      "  Downloading cvxopt-1.3.2-cp311-cp311-win_amd64.whl.metadata (1.4 kB)\n",
      "Requirement already satisfied: pytest in c:\\users\\kjhoe\\anaconda3\\lib\\site-packages (from fancyimpute) (7.4.0)\n",
      "Collecting nose (from fancyimpute)\n",
      "  Obtaining dependency information for nose from https://files.pythonhosted.org/packages/15/d8/dd071918c040f50fa1cf80da16423af51ff8ce4a0f2399b7bf8de45ac3d9/nose-1.3.7-py3-none-any.whl.metadata\n",
      "  Downloading nose-1.3.7-py3-none-any.whl.metadata (1.7 kB)\n",
      "Requirement already satisfied: scipy>=1.5.0 in c:\\users\\kjhoe\\anaconda3\\lib\\site-packages (from scikit-learn) (1.11.1)\n",
      "Requirement already satisfied: joblib>=1.1.1 in c:\\users\\kjhoe\\anaconda3\\lib\\site-packages (from scikit-learn) (1.2.0)\n",
      "Requirement already satisfied: threadpoolctl>=2.0.0 in c:\\users\\kjhoe\\anaconda3\\lib\\site-packages (from scikit-learn) (2.2.0)\n",
      "Requirement already satisfied: six in c:\\users\\kjhoe\\anaconda3\\lib\\site-packages (from knnimpute>=0.1.0->fancyimpute) (1.16.0)\n",
      "Collecting osqp>=0.6.2 (from cvxpy->fancyimpute)\n",
      "  Obtaining dependency information for osqp>=0.6.2 from https://files.pythonhosted.org/packages/e0/94/c53f4ab98d835a0f166b93766113e741a24d3d3e2578b330a330157e05fc/osqp-0.6.7.post1-cp311-cp311-win_amd64.whl.metadata\n",
      "  Downloading osqp-0.6.7.post1-cp311-cp311-win_amd64.whl.metadata (2.0 kB)\n",
      "Collecting ecos>=2 (from cvxpy->fancyimpute)\n",
      "  Obtaining dependency information for ecos>=2 from https://files.pythonhosted.org/packages/2f/45/1e52519d6c29dd26bbfaf92ece5b45ca3de3b7c8b2615a818aaeadb7ad63/ecos-2.0.14-cp311-cp311-win_amd64.whl.metadata\n",
      "  Downloading ecos-2.0.14-cp311-cp311-win_amd64.whl.metadata (8.2 kB)\n",
      "Collecting clarabel>=0.5.0 (from cvxpy->fancyimpute)\n",
      "  Obtaining dependency information for clarabel>=0.5.0 from https://files.pythonhosted.org/packages/36/be/110fe7ca190e024e3185d6351645346b785da6933ce3fb382d4811215f8c/clarabel-0.9.0-cp37-abi3-win_amd64.whl.metadata\n",
      "  Downloading clarabel-0.9.0-cp37-abi3-win_amd64.whl.metadata (4.8 kB)\n",
      "Collecting scs>=3.2.4.post1 (from cvxpy->fancyimpute)\n",
      "  Obtaining dependency information for scs>=3.2.4.post1 from https://files.pythonhosted.org/packages/f3/49/1a5e027fe64b661bed22c7a7d89fdb0f5f1bc0e10261502ee48bf15f6b6a/scs-3.2.7-cp311-cp311-win_amd64.whl.metadata\n",
      "  Downloading scs-3.2.7-cp311-cp311-win_amd64.whl.metadata (2.1 kB)\n",
      "Requirement already satisfied: iniconfig in c:\\users\\kjhoe\\anaconda3\\lib\\site-packages (from pytest->fancyimpute) (1.1.1)\n",
      "Requirement already satisfied: packaging in c:\\users\\kjhoe\\anaconda3\\lib\\site-packages (from pytest->fancyimpute) (23.1)\n",
      "Requirement already satisfied: pluggy<2.0,>=0.12 in c:\\users\\kjhoe\\anaconda3\\lib\\site-packages (from pytest->fancyimpute) (1.0.0)\n",
      "Requirement already satisfied: colorama in c:\\users\\kjhoe\\anaconda3\\lib\\site-packages (from pytest->fancyimpute) (0.4.6)\n",
      "Collecting qdldl (from osqp>=0.6.2->cvxpy->fancyimpute)\n",
      "  Obtaining dependency information for qdldl from https://files.pythonhosted.org/packages/1c/05/c7bb1fd9d3ce9fe41c832a6196250758b81021014cdb080dc4055e8b0867/qdldl-0.1.7.post4-cp311-cp311-win_amd64.whl.metadata\n",
      "  Downloading qdldl-0.1.7.post4-cp311-cp311-win_amd64.whl.metadata (1.8 kB)\n",
      "Downloading cvxopt-1.3.2-cp311-cp311-win_amd64.whl (12.8 MB)\n",
      "   ---------------------------------------- 0.0/12.8 MB ? eta -:--:--\n",
      "   - -------------------------------------- 0.4/12.8 MB 12.6 MB/s eta 0:00:01\n",
      "   ---- ----------------------------------- 1.3/12.8 MB 16.5 MB/s eta 0:00:01\n",
      "   ------ --------------------------------- 2.0/12.8 MB 14.5 MB/s eta 0:00:01\n",
      "   ------- -------------------------------- 2.5/12.8 MB 13.4 MB/s eta 0:00:01\n",
      "   ----------- ---------------------------- 3.8/12.8 MB 16.1 MB/s eta 0:00:01\n",
      "   ---------------- ----------------------- 5.2/12.8 MB 19.5 MB/s eta 0:00:01\n",
      "   -------------------- ------------------- 6.5/12.8 MB 20.9 MB/s eta 0:00:01\n",
      "   --------------------- ------------------ 7.0/12.8 MB 19.5 MB/s eta 0:00:01\n",
      "   -------------------------- ------------- 8.5/12.8 MB 21.8 MB/s eta 0:00:01\n",
      "   --------------------------- ------------ 8.7/12.8 MB 20.0 MB/s eta 0:00:01\n",
      "   ----------------------------- ---------- 9.4/12.8 MB 19.4 MB/s eta 0:00:01\n",
      "   --------------------------------- ------ 10.8/12.8 MB 21.1 MB/s eta 0:00:01\n",
      "   ---------------------------------------  12.8/12.8 MB 27.3 MB/s eta 0:00:01\n",
      "   ---------------------------------------- 12.8/12.8 MB 25.2 MB/s eta 0:00:00\n",
      "Downloading cvxpy-1.5.3-cp311-cp311-win_amd64.whl (1.1 MB)\n",
      "   ---------------------------------------- 0.0/1.1 MB ? eta -:--:--\n",
      "   ---------------------------------------- 1.1/1.1 MB 32.6 MB/s eta 0:00:00\n",
      "Downloading nose-1.3.7-py3-none-any.whl (154 kB)\n",
      "   ---------------------------------------- 0.0/154.7 kB ? eta -:--:--\n",
      "   ---------------------------------------- 154.7/154.7 kB ? eta 0:00:00\n",
      "Downloading clarabel-0.9.0-cp37-abi3-win_amd64.whl (736 kB)\n",
      "   ---------------------------------------- 0.0/736.4 kB ? eta -:--:--\n",
      "   --------------------------------------- 736.4/736.4 kB 45.4 MB/s eta 0:00:00\n",
      "Downloading ecos-2.0.14-cp311-cp311-win_amd64.whl (72 kB)\n",
      "   ---------------------------------------- 0.0/72.2 kB ? eta -:--:--\n",
      "   ---------------------------------------- 72.2/72.2 kB 3.9 MB/s eta 0:00:00\n",
      "Downloading osqp-0.6.7.post1-cp311-cp311-win_amd64.whl (293 kB)\n",
      "   ---------------------------------------- 0.0/293.3 kB ? eta -:--:--\n",
      "   ---------------------------------------- 293.3/293.3 kB ? eta 0:00:00\n",
      "Downloading scs-3.2.7-cp311-cp311-win_amd64.whl (8.4 MB)\n",
      "   ---------------------------------------- 0.0/8.4 MB ? eta -:--:--\n",
      "   --------- ------------------------------ 2.1/8.4 MB 66.4 MB/s eta 0:00:01\n",
      "   ------------------- -------------------- 4.0/8.4 MB 42.9 MB/s eta 0:00:01\n",
      "   -------------------------------- ------- 6.9/8.4 MB 55.0 MB/s eta 0:00:01\n",
      "   ---------------------------------------  8.4/8.4 MB 48.8 MB/s eta 0:00:01\n",
      "   ---------------------------------------- 8.4/8.4 MB 44.6 MB/s eta 0:00:00\n",
      "Downloading qdldl-0.1.7.post4-cp311-cp311-win_amd64.whl (87 kB)\n",
      "   ---------------------------------------- 0.0/87.6 kB ? eta -:--:--\n",
      "   ---------------------------------------- 87.6/87.6 kB ? eta 0:00:00\n",
      "Building wheels for collected packages: fancyimpute, knnimpute\n",
      "  Building wheel for fancyimpute (setup.py): started\n",
      "  Building wheel for fancyimpute (setup.py): finished with status 'done'\n",
      "  Created wheel for fancyimpute: filename=fancyimpute-0.7.0-py3-none-any.whl size=29907 sha256=44c4fac18a1d7921c627f065a94e319aa0c27b846af1715aa478b76de8de4659\n",
      "  Stored in directory: c:\\users\\kjhoe\\appdata\\local\\pip\\cache\\wheels\\1a\\f3\\a1\\f7f10b5ae2c2459398762a3fcf4ac18c325311c7e3163d5a15\n",
      "  Building wheel for knnimpute (setup.py): started\n",
      "  Building wheel for knnimpute (setup.py): finished with status 'done'\n",
      "  Created wheel for knnimpute: filename=knnimpute-0.1.0-py3-none-any.whl size=11345 sha256=7d794f5e6d9a0a3587773850a4f7b753ba6db3c478c5ca4b70ebd9a38f9b08fa\n",
      "  Stored in directory: c:\\users\\kjhoe\\appdata\\local\\pip\\cache\\wheels\\ea\\e8\\e0\\79872972161e54486517ae507f94b2c7cea27fb7ef793bd415\n",
      "Successfully built fancyimpute knnimpute\n",
      "Installing collected packages: nose, knnimpute, cvxopt, scs, qdldl, ecos, clarabel, osqp, cvxpy, fancyimpute\n",
      "Successfully installed clarabel-0.9.0 cvxopt-1.3.2 cvxpy-1.5.3 ecos-2.0.14 fancyimpute-0.7.0 knnimpute-0.1.0 nose-1.3.7 osqp-0.6.7.post1 qdldl-0.1.7.post4 scs-3.2.7\n",
      "Note: you may need to restart the kernel to use updated packages.\n"
     ]
    }
   ],
   "source": [
    "pip install pandas fancyimpute scikit-learn\n"
   ]
  },
  {
   "cell_type": "code",
   "execution_count": null,
   "metadata": {},
   "outputs": [
    {
     "name": "stdout",
     "output_type": "stream",
     "text": [
      "결측값 개수:\n",
      "FARM_ID                0\n",
      "MSRM_DT                0\n",
      "AREA_TPRT              5\n",
      "AREA_HMDT             27\n",
      "INNER_TPRT          7444\n",
      "INNER_HMDT          7929\n",
      "INNER_CBDX_CTRN    10016\n",
      "dtype: int64\n",
      "보간된 데이터 샘플:\n",
      "   AREA_TPRT  AREA_HMDT  INNER_TPRT  INNER_HMDT  INNER_CBDX_CTRN\n",
      "0       -1.9       50.0        19.1        87.0       840.911874\n",
      "1       -3.2       54.0        18.8        87.0       856.601990\n",
      "2       -2.5       62.0        18.5        87.0       871.298626\n",
      "3       -2.5       62.0        18.1        87.0       878.309889\n",
      "4       -3.6       67.0        17.8        88.0       893.520363\n",
      "각 변수에 대한 평균 제곱 오차:\n",
      "{'AREA_TPRT': 0.0, 'AREA_HMDT': 0.0, 'INNER_TPRT': 0.0, 'INNER_HMDT': 0.0, 'INNER_CBDX_CTRN': 0.0}\n"
     ]
    }
   ],
   "source": [
    "import pandas as pd\n",
    "from fancyimpute import IterativeImputer\n",
    "from sklearn.metrics import mean_squared_error\n",
    "\n",
    "# 결측값이 있는 변수 선택\n",
    "columns_to_impute = ['AREA_TPRT', 'AREA_HMDT', 'INNER_TPRT', 'INNER_HMDT', 'INNER_CBDX_CTRN']\n",
    "X = df_6[['FARM_ID', 'MSRM_DT'] + columns_to_impute].copy()\n",
    "\n",
    "# 원본 데이터의 복사본 생성\n",
    "original_values = X[columns_to_impute].copy()\n",
    "\n",
    "# 결측값 확인\n",
    "print(\"결측값 개수:\")\n",
    "print(X.isnull().sum())\n",
    "\n",
    "# 보간을 위해 FARM_ID와 MSRM_DT 제거\n",
    "X_imputed = X.drop(['FARM_ID', 'MSRM_DT'], axis=1)\n",
    "\n",
    "# MICE 초기화\n",
    "mice_imputer = IterativeImputer(max_iter=10, random_state=0)\n",
    "\n",
    "# 데이터에 맞춰 모델 학습 및 변환\n",
    "X_imputed = mice_imputer.fit_transform(X_imputed)\n",
    "\n",
    "# 보간된 값을 DataFrame으로 변환\n",
    "df_imputed = pd.DataFrame(X_imputed, columns=columns_to_impute)\n",
    "\n",
    "# 보간된 데이터 확인\n",
    "print(\"보간된 데이터 샘플:\")\n",
    "print(df_imputed.head())\n",
    "\n",
    "# 평균 제곱 오차 계산\n",
    "mse_scores = {}\n",
    "for col in columns_to_impute:\n",
    "    # 원본 값이 null이 아닌 경우만 평가\n",
    "    mask = original_values[col].notnull()\n",
    "    if mask.sum() > 0:  # 결측값이 있는 경우에만 MSE 계산\n",
    "        mse = mean_squared_error(original_values[col][mask], df_imputed[col][mask])\n",
    "        mse_scores[col] = mse\n",
    "\n",
    "print(\"각 변수에 대한 평균 제곱 오차:\")\n",
    "print(mse_scores)\n"
   ]
  },
  {
   "cell_type": "code",
   "execution_count": null,
   "metadata": {},
   "outputs": [],
   "source": [
    "#뭔가 이상해서 다른 방법 씀"
   ]
  },
  {
   "cell_type": "code",
   "execution_count": null,
   "metadata": {},
   "outputs": [
    {
     "name": "stdout",
     "output_type": "stream",
     "text": [
      "Evaluating performance for AREA_TPRT...\n",
      "MSE: 11.145270744313407\n",
      "RMSE: 3.338453346134016\n",
      "MAE: 1.308093629974486\n",
      "Evaluating performance for AREA_HMDT...\n",
      "MSE: 121.83700383051408\n",
      "RMSE: 11.037980061157661\n",
      "MAE: 4.574224901515536\n",
      "Evaluating performance for INNER_TPRT...\n",
      "MSE: 6.2621758928958515\n",
      "RMSE: 2.5024339937140905\n",
      "MAE: 0.9893433248732465\n",
      "Evaluating performance for INNER_HMDT...\n",
      "MSE: 52.173271764109224\n",
      "RMSE: 7.223106794455501\n",
      "MAE: 2.8291637702590573\n",
      "Evaluating performance for INNER_CBDX_CTRN...\n",
      "MSE: 13262.50576066512\n",
      "RMSE: 115.16295307374295\n",
      "MAE: 45.20474917978427\n"
     ]
    }
   ],
   "source": [
    "import pandas as pd\n",
    "import numpy as np\n",
    "from sklearn.experimental import enable_iterative_imputer\n",
    "from sklearn.impute import IterativeImputer\n",
    "from sklearn.metrics import mean_squared_error, mean_absolute_error\n",
    "import random\n",
    "\n",
    "# 결측값을 MICE 모델로 채우는 함수\n",
    "def fill_missing_with_mice(df, max_iter=10, random_state=0):\n",
    "    # IterativeImputer 초기화\n",
    "    imputer = IterativeImputer(max_iter=max_iter, random_state=random_state)\n",
    "\n",
    "    # 전체 데이터프레임에서 결측값 대체\n",
    "    imputed_data = imputer.fit_transform(df)\n",
    "\n",
    "    # 원래의 데이터프레임과 동일한 구조로 데이터프레임 생성\n",
    "    imputed_df = pd.DataFrame(imputed_data, columns=df.columns, index=df.index)\n",
    "\n",
    "    return imputed_df\n",
    "\n",
    "# 임의로 결측값 추가하는 함수\n",
    "def introduce_missing_values_randomly(df, missing_fraction=0.3, random_state=0):\n",
    "    np.random.seed(random_state)\n",
    "    df_with_missing = df.copy()\n",
    "\n",
    "    # 총 셀 수에서 결측값을 추가할 개수 계산\n",
    "    total_cells = df.size\n",
    "    num_missing = int(total_cells * missing_fraction)\n",
    "\n",
    "    # 랜덤하게 결측치를 추가할 위치 선택\n",
    "    for _ in range(num_missing):\n",
    "        row = random.randint(0, df.shape[0] - 1)\n",
    "        col = random.randint(0, df.shape[1] - 1)\n",
    "        df_with_missing.iat[row, col] = np.nan\n",
    "\n",
    "    return df_with_missing\n",
    "\n",
    "# 환경 변수 리스트 (사용자가 제공한 변수)\n",
    "env_vars = ['AREA_TPRT', 'AREA_HMDT', 'INNER_TPRT', 'INNER_HMDT', 'INNER_CBDX_CTRN']\n",
    "\n",
    "# 결측치가 없는 행만 필터링\n",
    "df_no_missing = df_9[env_vars].dropna()\n",
    "\n",
    "# 결측치 없는 데이터에서 일부 값을 임의로 결측치로 변환\n",
    "df_with_random_missing = introduce_missing_values_randomly(df_no_missing, missing_fraction=0.3)\n",
    "\n",
    "# MICE로 결측치를 채움\n",
    "df_imputed = fill_missing_with_mice(df_with_random_missing)\n",
    "\n",
    "# 결측치 없는 데이터의 인덱스를 원본 데이터에서 추출\n",
    "selected_indices = df_no_missing.index\n",
    "\n",
    "# 원본 데이터 df2에서 필터링된 인덱스만 뽑아 새로운 df3 생성\n",
    "df1 = df_9.loc[selected_indices]\n",
    "\n",
    "def evaluate_performance(original_series, imputed_series):\n",
    "\n",
    "    original_values = original_series\n",
    "    imputed_values = imputed_series\n",
    "\n",
    "    mse = mean_squared_error(original_values, imputed_values)\n",
    "    rmse = np.sqrt(mse)\n",
    "    mae = mean_absolute_error(original_values, imputed_values)\n",
    "\n",
    "    # 평가 결과 출력\n",
    "    print(f'MSE: {mse}')\n",
    "    print(f'RMSE: {rmse}')\n",
    "    print(f'MAE: {mae}')\n",
    "\n",
    "# 각 변수에 대해 성능 평가\n",
    "for var in env_vars:\n",
    "    print(f\"Evaluating performance for {var}...\")\n",
    "\n",
    "    # 성능 평가 (임의로 결측치로 만든 값들에 대해 원래 값과 대체된 값 비교)\n",
    "    evaluate_performance(df1[var], df_imputed[var])\n"
   ]
  },
  {
   "cell_type": "code",
   "execution_count": null,
   "metadata": {},
   "outputs": [
    {
     "name": "stdout",
     "output_type": "stream",
     "text": [
      "<class 'pandas.core.frame.DataFrame'>\n",
      "Index: 7295 entries, 180 to 14255\n",
      "Data columns (total 5 columns):\n",
      " #   Column           Non-Null Count  Dtype  \n",
      "---  ------           --------------  -----  \n",
      " 0   AREA_TPRT        7295 non-null   float64\n",
      " 1   AREA_HMDT        7295 non-null   float64\n",
      " 2   INNER_TPRT       7295 non-null   float64\n",
      " 3   INNER_HMDT       7295 non-null   float64\n",
      " 4   INNER_CBDX_CTRN  7295 non-null   float64\n",
      "dtypes: float64(5)\n",
      "memory usage: 342.0 KB\n"
     ]
    }
   ],
   "source": [
    "df_imputed.info()"
   ]
  },
  {
   "cell_type": "code",
   "execution_count": null,
   "metadata": {},
   "outputs": [
    {
     "data": {
      "text/html": [
       "<div>\n",
       "<style scoped>\n",
       "    .dataframe tbody tr th:only-of-type {\n",
       "        vertical-align: middle;\n",
       "    }\n",
       "\n",
       "    .dataframe tbody tr th {\n",
       "        vertical-align: top;\n",
       "    }\n",
       "\n",
       "    .dataframe thead th {\n",
       "        text-align: right;\n",
       "    }\n",
       "</style>\n",
       "<table border=\"1\" class=\"dataframe\">\n",
       "  <thead>\n",
       "    <tr style=\"text-align: right;\">\n",
       "      <th></th>\n",
       "      <th>AREA_TPRT</th>\n",
       "      <th>AREA_HMDT</th>\n",
       "      <th>INNER_TPRT</th>\n",
       "      <th>INNER_HMDT</th>\n",
       "      <th>INNER_CBDX_CTRN</th>\n",
       "      <th>AREA_WDSP</th>\n",
       "    </tr>\n",
       "  </thead>\n",
       "  <tbody>\n",
       "    <tr>\n",
       "      <th>0</th>\n",
       "      <td>7.394143</td>\n",
       "      <td>50.000000</td>\n",
       "      <td>19.1</td>\n",
       "      <td>87.0</td>\n",
       "      <td>730.400265</td>\n",
       "      <td>1.6000</td>\n",
       "    </tr>\n",
       "    <tr>\n",
       "      <th>1</th>\n",
       "      <td>-3.200000</td>\n",
       "      <td>59.919595</td>\n",
       "      <td>18.8</td>\n",
       "      <td>87.0</td>\n",
       "      <td>745.050935</td>\n",
       "      <td>1.7000</td>\n",
       "    </tr>\n",
       "    <tr>\n",
       "      <th>2</th>\n",
       "      <td>-2.500000</td>\n",
       "      <td>62.000000</td>\n",
       "      <td>18.5</td>\n",
       "      <td>87.0</td>\n",
       "      <td>762.913585</td>\n",
       "      <td>2.1000</td>\n",
       "    </tr>\n",
       "    <tr>\n",
       "      <th>3</th>\n",
       "      <td>-2.500000</td>\n",
       "      <td>62.000000</td>\n",
       "      <td>18.1</td>\n",
       "      <td>87.0</td>\n",
       "      <td>787.168055</td>\n",
       "      <td>1.6000</td>\n",
       "    </tr>\n",
       "    <tr>\n",
       "      <th>4</th>\n",
       "      <td>-3.600000</td>\n",
       "      <td>67.000000</td>\n",
       "      <td>17.8</td>\n",
       "      <td>88.0</td>\n",
       "      <td>823.299201</td>\n",
       "      <td>0.8233</td>\n",
       "    </tr>\n",
       "  </tbody>\n",
       "</table>\n",
       "</div>"
      ],
      "text/plain": [
       "   AREA_TPRT  AREA_HMDT  INNER_TPRT  INNER_HMDT  INNER_CBDX_CTRN  AREA_WDSP\n",
       "0   7.394143  50.000000        19.1        87.0       730.400265     1.6000\n",
       "1  -3.200000  59.919595        18.8        87.0       745.050935     1.7000\n",
       "2  -2.500000  62.000000        18.5        87.0       762.913585     2.1000\n",
       "3  -2.500000  62.000000        18.1        87.0       787.168055     1.6000\n",
       "4  -3.600000  67.000000        17.8        88.0       823.299201     0.8233"
      ]
     },
     "execution_count": 34,
     "metadata": {},
     "output_type": "execute_result"
    }
   ],
   "source": [
    "df_imputed.head()"
   ]
  },
  {
   "cell_type": "code",
   "execution_count": null,
   "metadata": {},
   "outputs": [
    {
     "name": "stdout",
     "output_type": "stream",
     "text": [
      "<class 'pandas.core.frame.DataFrame'>\n",
      "RangeIndex: 17544 entries, 0 to 17543\n",
      "Data columns (total 16 columns):\n",
      " #   Column           Non-Null Count  Dtype         \n",
      "---  ------           --------------  -----         \n",
      " 0   FARM_ID          17544 non-null  object        \n",
      " 1   MSRM_DT          17544 non-null  datetime64[ns]\n",
      " 2   AREA_TPRT        17539 non-null  float64       \n",
      " 3   AREA_HMDT        17517 non-null  float64       \n",
      " 4   AREA_WDSP        17544 non-null  float64       \n",
      " 5   INNER_TPRT       10100 non-null  float64       \n",
      " 6   INNER_HMDT       9615 non-null   float64       \n",
      " 7   INNER_CBDX_CTRN  7528 non-null   float64       \n",
      " 8   EXTN_TPRT        0 non-null      float64       \n",
      " 9   PLT_LNGTH        120 non-null    float64       \n",
      " 10  LEAF_LNGTH       1488 non-null   float64       \n",
      " 11  LEAF_WDTH        1488 non-null   float64       \n",
      " 12  STEM_THNS        1488 non-null   float64       \n",
      " 13  PLANT_AR_SQM     17544 non-null  int64         \n",
      " 14  SHPMN_QTY        2640 non-null   float64       \n",
      " 15  SHPMN_AMT        2640 non-null   float64       \n",
      "dtypes: datetime64[ns](1), float64(13), int64(1), object(1)\n",
      "memory usage: 2.1+ MB\n"
     ]
    }
   ],
   "source": [
    "df_7.info()"
   ]
  },
  {
   "cell_type": "code",
   "execution_count": null,
   "metadata": {},
   "outputs": [
    {
     "name": "stdout",
     "output_type": "stream",
     "text": [
      "<class 'pandas.core.frame.DataFrame'>\n",
      "RangeIndex: 17544 entries, 0 to 17543\n",
      "Data columns (total 16 columns):\n",
      " #   Column           Non-Null Count  Dtype         \n",
      "---  ------           --------------  -----         \n",
      " 0   FARM_ID          17544 non-null  object        \n",
      " 1   MSRM_DT          17544 non-null  datetime64[ns]\n",
      " 2   AREA_TPRT        17544 non-null  float64       \n",
      " 3   AREA_HMDT        17544 non-null  float64       \n",
      " 4   AREA_WDSP        17544 non-null  float64       \n",
      " 5   INNER_TPRT       17544 non-null  float64       \n",
      " 6   INNER_HMDT       17544 non-null  float64       \n",
      " 7   INNER_CBDX_CTRN  17544 non-null  float64       \n",
      " 8   EXTN_TPRT        0 non-null      float64       \n",
      " 9   PLT_LNGTH        120 non-null    float64       \n",
      " 10  LEAF_LNGTH       1488 non-null   float64       \n",
      " 11  LEAF_WDTH        1488 non-null   float64       \n",
      " 12  STEM_THNS        1488 non-null   float64       \n",
      " 13  PLANT_AR_SQM     17544 non-null  int64         \n",
      " 14  SHPMN_QTY        2640 non-null   float64       \n",
      " 15  SHPMN_AMT        2640 non-null   float64       \n",
      "dtypes: datetime64[ns](1), float64(13), int64(1), object(1)\n",
      "memory usage: 2.1+ MB\n",
      "None\n"
     ]
    }
   ],
   "source": [
    "# df_7의 결측값을 df_imputed로 채워넣기\n",
    "for var in env_vars:\n",
    "    # df_7의 원본 값이 결측치가 아닌 경우에만 df_imputed의 값으로 대체\n",
    "    df_7[var] = df_7[var].where(df_7[var].notna(), df_imputed[var])\n",
    "\n",
    "# 결과 확인\n",
    "print(df_7.info())\n"
   ]
  },
  {
   "cell_type": "code",
   "execution_count": null,
   "metadata": {},
   "outputs": [],
   "source": []
  },
  {
   "cell_type": "markdown",
   "metadata": {},
   "source": [
    "1.3 결측값 채우기- 외부온도 변수"
   ]
  },
  {
   "cell_type": "code",
   "execution_count": null,
   "metadata": {},
   "outputs": [],
   "source": [
    "f2 = \"C:\\\\Users\\\\kjhoe\\\\OneDrive\\\\바탕화~1-LAPTOP-VGOF9FJ7-25904429\\\\대외활동\\\\공모전\\\\2024 빅콘\\\\외부생산량.xlsx\"\n",
    "extp = pd.read_excel(f2)\n",
    "extp_1 = pd.read_excel(f2)\n",
    "extp_2 = pd.read_excel(f2)\n",
    "extp_3 = pd.read_excel(f2)\n",
    "extp_4 = pd.read_excel(f2)\n",
    "extp_5 = pd.read_excel(f2)"
   ]
  },
  {
   "cell_type": "code",
   "execution_count": null,
   "metadata": {},
   "outputs": [
    {
     "data": {
      "text/html": [
       "<div>\n",
       "<style scoped>\n",
       "    .dataframe tbody tr th:only-of-type {\n",
       "        vertical-align: middle;\n",
       "    }\n",
       "\n",
       "    .dataframe tbody tr th {\n",
       "        vertical-align: top;\n",
       "    }\n",
       "\n",
       "    .dataframe thead th {\n",
       "        text-align: right;\n",
       "    }\n",
       "</style>\n",
       "<table border=\"1\" class=\"dataframe\">\n",
       "  <thead>\n",
       "    <tr style=\"text-align: right;\">\n",
       "      <th></th>\n",
       "      <th>FARM_ID</th>\n",
       "      <th>MSRM_DT</th>\n",
       "      <th>AREA_NM</th>\n",
       "      <th>AREA_TPRT</th>\n",
       "      <th>AREA_HMDT</th>\n",
       "      <th>AREA_WDSP</th>\n",
       "      <th>EXTN_TPRT</th>\n",
       "      <th>EXTN_WDSP</th>\n",
       "      <th>EXTN_SRQT</th>\n",
       "      <th>SHPMN_QTY</th>\n",
       "    </tr>\n",
       "  </thead>\n",
       "  <tbody>\n",
       "    <tr>\n",
       "      <th>0</th>\n",
       "      <td>GBE_KRMLN_002000aa</td>\n",
       "      <td>2019-01-01 00:00:00</td>\n",
       "      <td>성주</td>\n",
       "      <td>-1.9</td>\n",
       "      <td>50</td>\n",
       "      <td>1.6</td>\n",
       "      <td>NaN</td>\n",
       "      <td>NaN</td>\n",
       "      <td>NaN</td>\n",
       "      <td>NaN</td>\n",
       "    </tr>\n",
       "    <tr>\n",
       "      <th>1</th>\n",
       "      <td>GBE_KRMLN_002000aa</td>\n",
       "      <td>2019-01-01 01:00:00</td>\n",
       "      <td>성주</td>\n",
       "      <td>-3.2</td>\n",
       "      <td>54</td>\n",
       "      <td>1.7</td>\n",
       "      <td>NaN</td>\n",
       "      <td>NaN</td>\n",
       "      <td>NaN</td>\n",
       "      <td>NaN</td>\n",
       "    </tr>\n",
       "    <tr>\n",
       "      <th>2</th>\n",
       "      <td>GBE_KRMLN_002000aa</td>\n",
       "      <td>2019-01-01 02:00:00</td>\n",
       "      <td>성주</td>\n",
       "      <td>-2.5</td>\n",
       "      <td>62</td>\n",
       "      <td>2.1</td>\n",
       "      <td>NaN</td>\n",
       "      <td>NaN</td>\n",
       "      <td>NaN</td>\n",
       "      <td>NaN</td>\n",
       "    </tr>\n",
       "    <tr>\n",
       "      <th>3</th>\n",
       "      <td>GBE_KRMLN_002000aa</td>\n",
       "      <td>2019-01-01 03:00:00</td>\n",
       "      <td>성주</td>\n",
       "      <td>-2.5</td>\n",
       "      <td>62</td>\n",
       "      <td>1.6</td>\n",
       "      <td>NaN</td>\n",
       "      <td>NaN</td>\n",
       "      <td>NaN</td>\n",
       "      <td>NaN</td>\n",
       "    </tr>\n",
       "    <tr>\n",
       "      <th>4</th>\n",
       "      <td>GBE_KRMLN_002000aa</td>\n",
       "      <td>2019-01-01 04:00:00</td>\n",
       "      <td>성주</td>\n",
       "      <td>-3.6</td>\n",
       "      <td>67</td>\n",
       "      <td>0.8</td>\n",
       "      <td>NaN</td>\n",
       "      <td>NaN</td>\n",
       "      <td>NaN</td>\n",
       "      <td>NaN</td>\n",
       "    </tr>\n",
       "  </tbody>\n",
       "</table>\n",
       "</div>"
      ],
      "text/plain": [
       "              FARM_ID             MSRM_DT AREA_NM  AREA_TPRT  AREA_HMDT  \\\n",
       "0  GBE_KRMLN_002000aa 2019-01-01 00:00:00      성주       -1.9         50   \n",
       "1  GBE_KRMLN_002000aa 2019-01-01 01:00:00      성주       -3.2         54   \n",
       "2  GBE_KRMLN_002000aa 2019-01-01 02:00:00      성주       -2.5         62   \n",
       "3  GBE_KRMLN_002000aa 2019-01-01 03:00:00      성주       -2.5         62   \n",
       "4  GBE_KRMLN_002000aa 2019-01-01 04:00:00      성주       -3.6         67   \n",
       "\n",
       "   AREA_WDSP  EXTN_TPRT  EXTN_WDSP  EXTN_SRQT  SHPMN_QTY  \n",
       "0        1.6        NaN        NaN        NaN        NaN  \n",
       "1        1.7        NaN        NaN        NaN        NaN  \n",
       "2        2.1        NaN        NaN        NaN        NaN  \n",
       "3        1.6        NaN        NaN        NaN        NaN  \n",
       "4        0.8        NaN        NaN        NaN        NaN  "
      ]
     },
     "execution_count": 172,
     "metadata": {},
     "output_type": "execute_result"
    }
   ],
   "source": [
    "extp.head()"
   ]
  },
  {
   "cell_type": "code",
   "execution_count": null,
   "metadata": {},
   "outputs": [
    {
     "name": "stdout",
     "output_type": "stream",
     "text": [
      "<class 'pandas.core.frame.DataFrame'>\n",
      "RangeIndex: 8760 entries, 0 to 8759\n",
      "Data columns (total 10 columns):\n",
      " #   Column     Non-Null Count  Dtype         \n",
      "---  ------     --------------  -----         \n",
      " 0   FARM_ID    8760 non-null   object        \n",
      " 1   MSRM_DT    8760 non-null   datetime64[ns]\n",
      " 2   AREA_NM    8760 non-null   object        \n",
      " 3   AREA_TPRT  8760 non-null   float64       \n",
      " 4   AREA_HMDT  8760 non-null   int64         \n",
      " 5   AREA_WDSP  8760 non-null   float64       \n",
      " 6   EXTN_TPRT  2316 non-null   float64       \n",
      " 7   EXTN_WDSP  0 non-null      float64       \n",
      " 8   EXTN_SRQT  0 non-null      float64       \n",
      " 9   SHPMN_QTY  1392 non-null   float64       \n",
      "dtypes: datetime64[ns](1), float64(6), int64(1), object(2)\n",
      "memory usage: 684.5+ KB\n"
     ]
    }
   ],
   "source": [
    "extp.info()"
   ]
  },
  {
   "cell_type": "code",
   "execution_count": null,
   "metadata": {},
   "outputs": [],
   "source": [
    "1.3.1 랜덤포레스트"
   ]
  },
  {
   "cell_type": "code",
   "execution_count": null,
   "metadata": {},
   "outputs": [],
   "source": [
    "import pandas as pd\n",
    "from sklearn.model_selection import train_test_split\n",
    "from sklearn.ensemble import RandomForestRegressor\n",
    "from sklearn.metrics import mean_squared_error\n",
    "\n",
    "\n",
    "# 결측값 제거 (예를 들어, EXTN_TPRT가 결측값인 행 제거)\n",
    "extp_clean = extp.dropna(subset=['EXTN_TPRT'])\n"
   ]
  },
  {
   "cell_type": "code",
   "execution_count": null,
   "metadata": {},
   "outputs": [
    {
     "data": {
      "text/html": [
       "<div>\n",
       "<style scoped>\n",
       "    .dataframe tbody tr th:only-of-type {\n",
       "        vertical-align: middle;\n",
       "    }\n",
       "\n",
       "    .dataframe tbody tr th {\n",
       "        vertical-align: top;\n",
       "    }\n",
       "\n",
       "    .dataframe thead th {\n",
       "        text-align: right;\n",
       "    }\n",
       "</style>\n",
       "<table border=\"1\" class=\"dataframe\">\n",
       "  <thead>\n",
       "    <tr style=\"text-align: right;\">\n",
       "      <th></th>\n",
       "      <th>FARM_ID</th>\n",
       "      <th>MSRM_DT</th>\n",
       "      <th>AREA_NM</th>\n",
       "      <th>AREA_TPRT</th>\n",
       "      <th>AREA_HMDT</th>\n",
       "      <th>AREA_WDSP</th>\n",
       "      <th>EXTN_TPRT</th>\n",
       "      <th>EXTN_WDSP</th>\n",
       "      <th>EXTN_SRQT</th>\n",
       "      <th>SHPMN_QTY</th>\n",
       "    </tr>\n",
       "  </thead>\n",
       "  <tbody>\n",
       "    <tr>\n",
       "      <th>180</th>\n",
       "      <td>GBE_KRMLN_002000aa</td>\n",
       "      <td>2019-01-08 12:00:00</td>\n",
       "      <td>성주</td>\n",
       "      <td>3.4</td>\n",
       "      <td>36</td>\n",
       "      <td>2.4</td>\n",
       "      <td>11.9</td>\n",
       "      <td>NaN</td>\n",
       "      <td>NaN</td>\n",
       "      <td>NaN</td>\n",
       "    </tr>\n",
       "    <tr>\n",
       "      <th>181</th>\n",
       "      <td>GBE_KRMLN_002000aa</td>\n",
       "      <td>2019-01-08 13:00:00</td>\n",
       "      <td>성주</td>\n",
       "      <td>4.1</td>\n",
       "      <td>33</td>\n",
       "      <td>2.6</td>\n",
       "      <td>7.5</td>\n",
       "      <td>NaN</td>\n",
       "      <td>NaN</td>\n",
       "      <td>NaN</td>\n",
       "    </tr>\n",
       "    <tr>\n",
       "      <th>182</th>\n",
       "      <td>GBE_KRMLN_002000aa</td>\n",
       "      <td>2019-01-08 14:00:00</td>\n",
       "      <td>성주</td>\n",
       "      <td>4.2</td>\n",
       "      <td>28</td>\n",
       "      <td>2.5</td>\n",
       "      <td>7.6</td>\n",
       "      <td>NaN</td>\n",
       "      <td>NaN</td>\n",
       "      <td>NaN</td>\n",
       "    </tr>\n",
       "    <tr>\n",
       "      <th>183</th>\n",
       "      <td>GBE_KRMLN_002000aa</td>\n",
       "      <td>2019-01-08 15:00:00</td>\n",
       "      <td>성주</td>\n",
       "      <td>4.4</td>\n",
       "      <td>24</td>\n",
       "      <td>2.8</td>\n",
       "      <td>8.0</td>\n",
       "      <td>NaN</td>\n",
       "      <td>NaN</td>\n",
       "      <td>NaN</td>\n",
       "    </tr>\n",
       "    <tr>\n",
       "      <th>184</th>\n",
       "      <td>GBE_KRMLN_002000aa</td>\n",
       "      <td>2019-01-08 16:00:00</td>\n",
       "      <td>성주</td>\n",
       "      <td>3.5</td>\n",
       "      <td>29</td>\n",
       "      <td>2.6</td>\n",
       "      <td>6.2</td>\n",
       "      <td>NaN</td>\n",
       "      <td>NaN</td>\n",
       "      <td>NaN</td>\n",
       "    </tr>\n",
       "  </tbody>\n",
       "</table>\n",
       "</div>"
      ],
      "text/plain": [
       "                FARM_ID             MSRM_DT AREA_NM  AREA_TPRT  AREA_HMDT  \\\n",
       "180  GBE_KRMLN_002000aa 2019-01-08 12:00:00      성주        3.4         36   \n",
       "181  GBE_KRMLN_002000aa 2019-01-08 13:00:00      성주        4.1         33   \n",
       "182  GBE_KRMLN_002000aa 2019-01-08 14:00:00      성주        4.2         28   \n",
       "183  GBE_KRMLN_002000aa 2019-01-08 15:00:00      성주        4.4         24   \n",
       "184  GBE_KRMLN_002000aa 2019-01-08 16:00:00      성주        3.5         29   \n",
       "\n",
       "     AREA_WDSP  EXTN_TPRT  EXTN_WDSP  EXTN_SRQT  SHPMN_QTY  \n",
       "180        2.4       11.9        NaN        NaN        NaN  \n",
       "181        2.6        7.5        NaN        NaN        NaN  \n",
       "182        2.5        7.6        NaN        NaN        NaN  \n",
       "183        2.8        8.0        NaN        NaN        NaN  \n",
       "184        2.6        6.2        NaN        NaN        NaN  "
      ]
     },
     "execution_count": 152,
     "metadata": {},
     "output_type": "execute_result"
    }
   ],
   "source": [
    "extp_clean.head()"
   ]
  },
  {
   "cell_type": "code",
   "execution_count": null,
   "metadata": {},
   "outputs": [],
   "source": [
    "# 특성 변수(X)와 목표 변수(y) 설정\n",
    "X = extp_clean[['MSRM_DT','AREA_TPRT', 'AREA_HMDT','AREA_WDSP']]\n",
    "y = extp_clean['EXTN_TPRT']\n",
    "\n",
    "# 날짜 변수 처리 (datetime 형식으로 변환)\n",
    "X['MSRM_DT'] = pd.to_datetime(X['MSRM_DT'])\n",
    "X['MSRM_DT'] = X['MSRM_DT'].map(pd.Timestamp.timestamp)  # timestamp로 변환\n"
   ]
  },
  {
   "cell_type": "code",
   "execution_count": null,
   "metadata": {},
   "outputs": [
    {
     "name": "stdout",
     "output_type": "stream",
     "text": [
      "Mean Squared Error: 10.461266384892085\n"
     ]
    }
   ],
   "source": [
    "# 훈련 및 테스트 데이터로 분할\n",
    "X_train, X_test, y_train, y_test = train_test_split(X, y, test_size=0.3, random_state=42)\n",
    "\n",
    "# 모델 선택 (랜덤 포레스트 회귀 사용)\n",
    "model = RandomForestRegressor(n_estimators=200, random_state=42)\n",
    "model.fit(X_train, y_train)\n",
    "\n",
    "# 테스트 데이터로 예측\n",
    "y_pred = model.predict(X_test)\n",
    "\n",
    "# 모델 성능 평가\n",
    "mse = mean_squared_error(y_test, y_pred)\n",
    "print(f'Mean Squared Error: {mse}')\n"
   ]
  },
  {
   "cell_type": "markdown",
   "metadata": {},
   "source": [
    "1.3.2 시계열 고려 (prophet 이용)"
   ]
  },
  {
   "cell_type": "code",
   "execution_count": null,
   "metadata": {},
   "outputs": [
    {
     "name": "stderr",
     "output_type": "stream",
     "text": [
      "15:46:59 - cmdstanpy - INFO - Chain [1] start processing\n",
      "15:46:59 - cmdstanpy - INFO - Chain [1] done processing\n"
     ]
    },
    {
     "name": "stdout",
     "output_type": "stream",
     "text": [
      "Evaluating performance...\n",
      "MSE: 10.92817172089267\n",
      "RMSE: 3.3057785347619206\n",
      "MAE: 2.624586650633001\n",
      "                   ds      yhat  yhat_lower  yhat_upper\n",
      "0 2019-01-01 00:00:00  0.831858   -3.294376    5.284053\n",
      "1 2019-01-01 01:00:00  0.119924   -4.090285    4.295041\n",
      "2 2019-01-01 02:00:00 -0.841713   -5.520390    3.419636\n",
      "3 2019-01-01 03:00:00 -1.175238   -5.718889    2.685259\n",
      "4 2019-01-01 04:00:00 -1.351625   -5.513632    3.054594\n"
     ]
    }
   ],
   "source": [
    "import pandas as pd\n",
    "from prophet import Prophet\n",
    "from sklearn.metrics import mean_squared_error, mean_absolute_error\n",
    "import numpy as np\n",
    "\n",
    "# 데이터 준비\n",
    "extp_1['MSRM_DT'] = pd.to_datetime(extp_1['MSRM_DT'])  # 날짜 변수를 datetime 형식으로 변환\n",
    "extp_1 = extp_1.set_index('MSRM_DT')  # MSRM_DT를 인덱스로 설정\n",
    "\n",
    "# Prophet을 사용하여 EXTN_TPRT 예측하는 함수\n",
    "def predict_extn_tprt(data):\n",
    "    # 결측값이 없는 행만 사용\n",
    "    data_non_null = data.dropna(subset=['EXTN_TPRT'])\n",
    "\n",
    "    # 데이터 준비: Prophet에 맞는 형식으로 변환\n",
    "    df_prophet = pd.DataFrame({\n",
    "        'ds': data_non_null.index,  # 시간 데이터\n",
    "        'y': data_non_null['EXTN_TPRT'],  # 예측할 목표 값\n",
    "    })\n",
    "    \n",
    "    # 추가 변수 (regressors) 추가\n",
    "    df_prophet['AREA_HMDT'] = data_non_null['AREA_HMDT'].values\n",
    "    df_prophet['AREA_WDSP'] = data_non_null['AREA_WDSP'].values\n",
    "    df_prophet['AREA_TPRT'] = data_non_null['AREA_TPRT'].values\n",
    "\n",
    "    # Prophet 모델 초기화\n",
    "    model2 = Prophet(daily_seasonality=True, yearly_seasonality=True)\n",
    "\n",
    "    # 부가 변수(regressors) 추가\n",
    "    model2.add_regressor('AREA_HMDT')\n",
    "    model2.add_regressor('AREA_WDSP')\n",
    "    model2.add_regressor('AREA_TPRT')\n",
    "\n",
    "    # 모델 학습\n",
    "    model2.fit(df_prophet)\n",
    "\n",
    "    # 전체 기간에 대해 예측할 데이터 준비\n",
    "    future = pd.DataFrame({'ds': data.index})  # 전체 시간 데이터\n",
    "    future['AREA_HMDT'] = data['AREA_HMDT'].values\n",
    "    future['AREA_WDSP'] = data['AREA_WDSP'].values\n",
    "    future['AREA_TPRT'] = data['AREA_TPRT'].values\n",
    "\n",
    "    # 전체 데이터를 대상으로 예측 수행\n",
    "    forecast = model2.predict(future)\n",
    "\n",
    "    return forecast\n",
    "\n",
    "# EXTN_TPRT 예측\n",
    "forecast = predict_extn_tprt(extp_1)\n",
    "\n",
    "# 성능 평가 함수 (MSE, RMSE, MAE 계산)\n",
    "def evaluate_performance(original_series, predicted_values):\n",
    "    # 예측값과 실제값의 인덱스를 맞춤\n",
    "    predicted_series = pd.Series(predicted_values.values, index=original_series.index)\n",
    "\n",
    "    # 결측값이 아닌 부분에 대해 평가\n",
    "    mask = original_series.notnull() & predicted_series.notnull()\n",
    "\n",
    "    mse = mean_squared_error(original_series[mask], predicted_series[mask])\n",
    "    rmse = np.sqrt(mse)\n",
    "    mae = mean_absolute_error(original_series[mask], predicted_series[mask])\n",
    "    \n",
    "    print(f'MSE: {mse}')\n",
    "    print(f'RMSE: {rmse}')\n",
    "    print(f'MAE: {mae}')\n",
    "\n",
    "# 성능 평가\n",
    "print(\"Evaluating performance...\")\n",
    "evaluate_performance(extp_1['EXTN_TPRT'], forecast['yhat'])\n",
    "\n",
    "# 결과 확인\n",
    "print(forecast[['ds', 'yhat', 'yhat_lower', 'yhat_upper']].head())\n"
   ]
  },
  {
   "cell_type": "markdown",
   "metadata": {},
   "source": [
    "1.3.3 SARIMA 이용"
   ]
  },
  {
   "cell_type": "code",
   "execution_count": null,
   "metadata": {},
   "outputs": [
    {
     "name": "stdout",
     "output_type": "stream",
     "text": [
      "MSE: 28.393952555655925\n",
      "RMSE: 5.328597616226611\n",
      "MAE: 4.252481351203562\n"
     ]
    }
   ],
   "source": [
    "import pandas as pd\n",
    "from sklearn.model_selection import train_test_split\n",
    "from sklearn.linear_model import LinearRegression\n",
    "from sklearn.metrics import mean_squared_error, mean_absolute_error\n",
    "\n",
    "\n",
    "# 필요한 컬럼만 선택\n",
    "features = extp_3[['AREA_HMDT', 'AREA_WDSP', 'AREA_TPRT']]\n",
    "target = extp_3['EXTN_TPRT']\n",
    "\n",
    "# 결측값이 있는 행 제거\n",
    "# features와 target 모두에서 결측값이 있는 행을 제거\n",
    "data_cleaned = extp_3.dropna(subset=['EXTN_TPRT', 'AREA_HMDT', 'AREA_WDSP', 'AREA_TPRT'])\n",
    "features_cleaned = data_cleaned[['AREA_HMDT', 'AREA_WDSP', 'AREA_TPRT']]\n",
    "target_cleaned = data_cleaned['EXTN_TPRT']\n",
    "\n",
    "# 훈련 세트와 테스트 세트로 분할\n",
    "X_train, X_test, y_train, y_test = train_test_split(features_cleaned, target_cleaned, test_size=0.2, random_state=42)\n",
    "\n",
    "# 회귀 모델 초기화 및 학습\n",
    "model3 = LinearRegression()\n",
    "model3.fit(X_train, y_train)\n",
    "\n",
    "# 예측\n",
    "predictions = model3.predict(X_test)\n",
    "\n",
    "# 성능 평가\n",
    "mse = mean_squared_error(y_test, predictions)\n",
    "rmse = mse ** 0.5\n",
    "mae = mean_absolute_error(y_test, predictions)\n",
    "\n",
    "print(f'MSE: {mse}')\n",
    "print(f'RMSE: {rmse}')\n",
    "print(f'MAE: {mae}')\n"
   ]
  },
  {
   "cell_type": "markdown",
   "metadata": {},
   "source": [
    "1.3.4  MICE로 결측값 채우고 prophet으로 예측"
   ]
  },
  {
   "cell_type": "code",
   "execution_count": null,
   "metadata": {},
   "outputs": [
    {
     "ename": "DateParseError",
     "evalue": "day is out of range for month: 0, at position 0",
     "output_type": "error",
     "traceback": [
      "\u001b[1;31m---------------------------------------------------------------------------\u001b[0m",
      "\u001b[1;31mValueError\u001b[0m                                Traceback (most recent call last)",
      "File \u001b[1;32mc:\\Users\\kjhoe\\anaconda3\\Lib\\site-packages\\pandas\\_libs\\tslibs\\parsing.pyx:679\u001b[0m, in \u001b[0;36mpandas._libs.tslibs.parsing.dateutil_parse\u001b[1;34m()\u001b[0m\n",
      "\u001b[1;31mValueError\u001b[0m: day is out of range for month",
      "\nThe above exception was the direct cause of the following exception:\n",
      "\u001b[1;31mDateParseError\u001b[0m                            Traceback (most recent call last)",
      "Cell \u001b[1;32mIn[14], line 61\u001b[0m\n\u001b[0;32m     58\u001b[0m     \u001b[38;5;28;01mreturn\u001b[39;00m forecast\n\u001b[0;32m     60\u001b[0m \u001b[38;5;66;03m# EXTN_TPRT 예측\u001b[39;00m\n\u001b[1;32m---> 61\u001b[0m forecast \u001b[38;5;241m=\u001b[39m predict_extn_tprt(extp_1_imputed)\n\u001b[0;32m     63\u001b[0m \u001b[38;5;66;03m# 성능 평가 함수 (MSE, RMSE, MAE 계산)\u001b[39;00m\n\u001b[0;32m     64\u001b[0m \u001b[38;5;28;01mdef\u001b[39;00m \u001b[38;5;21mevaluate_performance\u001b[39m(original_series, predicted_values):\n\u001b[0;32m     65\u001b[0m     \u001b[38;5;66;03m# 예측값과 실제값의 인덱스를 맞춤\u001b[39;00m\n",
      "Cell \u001b[1;32mIn[14], line 47\u001b[0m, in \u001b[0;36mpredict_extn_tprt\u001b[1;34m(data)\u001b[0m\n\u001b[0;32m     44\u001b[0m model2\u001b[38;5;241m.\u001b[39madd_regressor(\u001b[38;5;124m'\u001b[39m\u001b[38;5;124mAREA_TPRT\u001b[39m\u001b[38;5;124m'\u001b[39m)\n\u001b[0;32m     46\u001b[0m \u001b[38;5;66;03m# 모델 학습\u001b[39;00m\n\u001b[1;32m---> 47\u001b[0m model2\u001b[38;5;241m.\u001b[39mfit(df_prophet)\n\u001b[0;32m     49\u001b[0m \u001b[38;5;66;03m# 전체 기간에 대해 예측할 데이터 준비\u001b[39;00m\n\u001b[0;32m     50\u001b[0m future \u001b[38;5;241m=\u001b[39m pd\u001b[38;5;241m.\u001b[39mDataFrame({\u001b[38;5;124m'\u001b[39m\u001b[38;5;124mds\u001b[39m\u001b[38;5;124m'\u001b[39m: data\u001b[38;5;241m.\u001b[39mindex})  \u001b[38;5;66;03m# 전체 시간 데이터\u001b[39;00m\n",
      "File \u001b[1;32mc:\\Users\\kjhoe\\anaconda3\\Lib\\site-packages\\prophet\\forecaster.py:1217\u001b[0m, in \u001b[0;36mProphet.fit\u001b[1;34m(self, df, **kwargs)\u001b[0m\n\u001b[0;32m   1213\u001b[0m \u001b[38;5;28;01mif\u001b[39;00m \u001b[38;5;28mself\u001b[39m\u001b[38;5;241m.\u001b[39mhistory \u001b[38;5;129;01mis\u001b[39;00m \u001b[38;5;129;01mnot\u001b[39;00m \u001b[38;5;28;01mNone\u001b[39;00m:\n\u001b[0;32m   1214\u001b[0m     \u001b[38;5;28;01mraise\u001b[39;00m \u001b[38;5;167;01mException\u001b[39;00m(\u001b[38;5;124m'\u001b[39m\u001b[38;5;124mProphet object can only be fit once. \u001b[39m\u001b[38;5;124m'\u001b[39m\n\u001b[0;32m   1215\u001b[0m                     \u001b[38;5;124m'\u001b[39m\u001b[38;5;124mInstantiate a new object.\u001b[39m\u001b[38;5;124m'\u001b[39m)\n\u001b[1;32m-> 1217\u001b[0m model_inputs \u001b[38;5;241m=\u001b[39m \u001b[38;5;28mself\u001b[39m\u001b[38;5;241m.\u001b[39mpreprocess(df, \u001b[38;5;241m*\u001b[39m\u001b[38;5;241m*\u001b[39mkwargs)\n\u001b[0;32m   1218\u001b[0m initial_params \u001b[38;5;241m=\u001b[39m \u001b[38;5;28mself\u001b[39m\u001b[38;5;241m.\u001b[39mcalculate_initial_params(model_inputs\u001b[38;5;241m.\u001b[39mK)\n\u001b[0;32m   1220\u001b[0m dat \u001b[38;5;241m=\u001b[39m dataclasses\u001b[38;5;241m.\u001b[39masdict(model_inputs)\n",
      "File \u001b[1;32mc:\\Users\\kjhoe\\anaconda3\\Lib\\site-packages\\prophet\\forecaster.py:1135\u001b[0m, in \u001b[0;36mProphet.preprocess\u001b[1;34m(self, df, **kwargs)\u001b[0m\n\u001b[0;32m   1132\u001b[0m     \u001b[38;5;28;01mraise\u001b[39;00m \u001b[38;5;167;01mValueError\u001b[39;00m(\u001b[38;5;124m'\u001b[39m\u001b[38;5;124mDataframe has less than 2 non-NaN rows.\u001b[39m\u001b[38;5;124m'\u001b[39m)\n\u001b[0;32m   1133\u001b[0m \u001b[38;5;28mself\u001b[39m\u001b[38;5;241m.\u001b[39mhistory_dates \u001b[38;5;241m=\u001b[39m pd\u001b[38;5;241m.\u001b[39mto_datetime(pd\u001b[38;5;241m.\u001b[39mSeries(history[\u001b[38;5;124m'\u001b[39m\u001b[38;5;124mds\u001b[39m\u001b[38;5;124m'\u001b[39m]\u001b[38;5;241m.\u001b[39munique(), name\u001b[38;5;241m=\u001b[39m\u001b[38;5;124m'\u001b[39m\u001b[38;5;124mds\u001b[39m\u001b[38;5;124m'\u001b[39m))\u001b[38;5;241m.\u001b[39msort_values()\n\u001b[1;32m-> 1135\u001b[0m \u001b[38;5;28mself\u001b[39m\u001b[38;5;241m.\u001b[39mhistory \u001b[38;5;241m=\u001b[39m \u001b[38;5;28mself\u001b[39m\u001b[38;5;241m.\u001b[39msetup_dataframe(history, initialize_scales\u001b[38;5;241m=\u001b[39m\u001b[38;5;28;01mTrue\u001b[39;00m)\n\u001b[0;32m   1136\u001b[0m \u001b[38;5;28mself\u001b[39m\u001b[38;5;241m.\u001b[39mset_auto_seasonalities()\n\u001b[0;32m   1137\u001b[0m seasonal_features, prior_scales, component_cols, modes \u001b[38;5;241m=\u001b[39m (\n\u001b[0;32m   1138\u001b[0m     \u001b[38;5;28mself\u001b[39m\u001b[38;5;241m.\u001b[39mmake_all_seasonality_features(\u001b[38;5;28mself\u001b[39m\u001b[38;5;241m.\u001b[39mhistory))\n",
      "File \u001b[1;32mc:\\Users\\kjhoe\\anaconda3\\Lib\\site-packages\\prophet\\forecaster.py:287\u001b[0m, in \u001b[0;36mProphet.setup_dataframe\u001b[1;34m(self, df, initialize_scales)\u001b[0m\n\u001b[0;32m    285\u001b[0m \u001b[38;5;28;01mif\u001b[39;00m df[\u001b[38;5;124m'\u001b[39m\u001b[38;5;124mds\u001b[39m\u001b[38;5;124m'\u001b[39m]\u001b[38;5;241m.\u001b[39mdtype \u001b[38;5;241m==\u001b[39m np\u001b[38;5;241m.\u001b[39mint64:\n\u001b[0;32m    286\u001b[0m     df[\u001b[38;5;124m'\u001b[39m\u001b[38;5;124mds\u001b[39m\u001b[38;5;124m'\u001b[39m] \u001b[38;5;241m=\u001b[39m df[\u001b[38;5;124m'\u001b[39m\u001b[38;5;124mds\u001b[39m\u001b[38;5;124m'\u001b[39m]\u001b[38;5;241m.\u001b[39mastype(\u001b[38;5;28mstr\u001b[39m)\n\u001b[1;32m--> 287\u001b[0m df[\u001b[38;5;124m'\u001b[39m\u001b[38;5;124mds\u001b[39m\u001b[38;5;124m'\u001b[39m] \u001b[38;5;241m=\u001b[39m pd\u001b[38;5;241m.\u001b[39mto_datetime(df[\u001b[38;5;124m'\u001b[39m\u001b[38;5;124mds\u001b[39m\u001b[38;5;124m'\u001b[39m])\n\u001b[0;32m    288\u001b[0m \u001b[38;5;28;01mif\u001b[39;00m df[\u001b[38;5;124m'\u001b[39m\u001b[38;5;124mds\u001b[39m\u001b[38;5;124m'\u001b[39m]\u001b[38;5;241m.\u001b[39mdt\u001b[38;5;241m.\u001b[39mtz \u001b[38;5;129;01mis\u001b[39;00m \u001b[38;5;129;01mnot\u001b[39;00m \u001b[38;5;28;01mNone\u001b[39;00m:\n\u001b[0;32m    289\u001b[0m     \u001b[38;5;28;01mraise\u001b[39;00m \u001b[38;5;167;01mValueError\u001b[39;00m(\n\u001b[0;32m    290\u001b[0m         \u001b[38;5;124m'\u001b[39m\u001b[38;5;124mColumn ds has timezone specified, which is not supported. \u001b[39m\u001b[38;5;124m'\u001b[39m\n\u001b[0;32m    291\u001b[0m         \u001b[38;5;124m'\u001b[39m\u001b[38;5;124mRemove timezone.\u001b[39m\u001b[38;5;124m'\u001b[39m\n\u001b[0;32m    292\u001b[0m     )\n",
      "File \u001b[1;32mc:\\Users\\kjhoe\\anaconda3\\Lib\\site-packages\\pandas\\core\\tools\\datetimes.py:1050\u001b[0m, in \u001b[0;36mto_datetime\u001b[1;34m(arg, errors, dayfirst, yearfirst, utc, format, exact, unit, infer_datetime_format, origin, cache)\u001b[0m\n\u001b[0;32m   1048\u001b[0m         result \u001b[38;5;241m=\u001b[39m arg\u001b[38;5;241m.\u001b[39mmap(cache_array)\n\u001b[0;32m   1049\u001b[0m     \u001b[38;5;28;01melse\u001b[39;00m:\n\u001b[1;32m-> 1050\u001b[0m         values \u001b[38;5;241m=\u001b[39m convert_listlike(arg\u001b[38;5;241m.\u001b[39m_values, \u001b[38;5;28mformat\u001b[39m)\n\u001b[0;32m   1051\u001b[0m         result \u001b[38;5;241m=\u001b[39m arg\u001b[38;5;241m.\u001b[39m_constructor(values, index\u001b[38;5;241m=\u001b[39marg\u001b[38;5;241m.\u001b[39mindex, name\u001b[38;5;241m=\u001b[39marg\u001b[38;5;241m.\u001b[39mname)\n\u001b[0;32m   1052\u001b[0m \u001b[38;5;28;01melif\u001b[39;00m \u001b[38;5;28misinstance\u001b[39m(arg, (ABCDataFrame, abc\u001b[38;5;241m.\u001b[39mMutableMapping)):\n",
      "File \u001b[1;32mc:\\Users\\kjhoe\\anaconda3\\Lib\\site-packages\\pandas\\core\\tools\\datetimes.py:455\u001b[0m, in \u001b[0;36m_convert_listlike_datetimes\u001b[1;34m(arg, format, name, utc, unit, errors, dayfirst, yearfirst, exact)\u001b[0m\n\u001b[0;32m    452\u001b[0m \u001b[38;5;28;01mif\u001b[39;00m \u001b[38;5;28mformat\u001b[39m \u001b[38;5;129;01mis\u001b[39;00m \u001b[38;5;129;01mnot\u001b[39;00m \u001b[38;5;28;01mNone\u001b[39;00m \u001b[38;5;129;01mand\u001b[39;00m \u001b[38;5;28mformat\u001b[39m \u001b[38;5;241m!=\u001b[39m \u001b[38;5;124m\"\u001b[39m\u001b[38;5;124mmixed\u001b[39m\u001b[38;5;124m\"\u001b[39m:\n\u001b[0;32m    453\u001b[0m     \u001b[38;5;28;01mreturn\u001b[39;00m _array_strptime_with_fallback(arg, name, utc, \u001b[38;5;28mformat\u001b[39m, exact, errors)\n\u001b[1;32m--> 455\u001b[0m result, tz_parsed \u001b[38;5;241m=\u001b[39m objects_to_datetime64ns(\n\u001b[0;32m    456\u001b[0m     arg,\n\u001b[0;32m    457\u001b[0m     dayfirst\u001b[38;5;241m=\u001b[39mdayfirst,\n\u001b[0;32m    458\u001b[0m     yearfirst\u001b[38;5;241m=\u001b[39myearfirst,\n\u001b[0;32m    459\u001b[0m     utc\u001b[38;5;241m=\u001b[39mutc,\n\u001b[0;32m    460\u001b[0m     errors\u001b[38;5;241m=\u001b[39merrors,\n\u001b[0;32m    461\u001b[0m     allow_object\u001b[38;5;241m=\u001b[39m\u001b[38;5;28;01mTrue\u001b[39;00m,\n\u001b[0;32m    462\u001b[0m )\n\u001b[0;32m    464\u001b[0m \u001b[38;5;28;01mif\u001b[39;00m tz_parsed \u001b[38;5;129;01mis\u001b[39;00m \u001b[38;5;129;01mnot\u001b[39;00m \u001b[38;5;28;01mNone\u001b[39;00m:\n\u001b[0;32m    465\u001b[0m     \u001b[38;5;66;03m# We can take a shortcut since the datetime64 numpy array\u001b[39;00m\n\u001b[0;32m    466\u001b[0m     \u001b[38;5;66;03m# is in UTC\u001b[39;00m\n\u001b[0;32m    467\u001b[0m     dta \u001b[38;5;241m=\u001b[39m DatetimeArray(result, dtype\u001b[38;5;241m=\u001b[39mtz_to_dtype(tz_parsed))\n",
      "File \u001b[1;32mc:\\Users\\kjhoe\\anaconda3\\Lib\\site-packages\\pandas\\core\\arrays\\datetimes.py:2177\u001b[0m, in \u001b[0;36mobjects_to_datetime64ns\u001b[1;34m(data, dayfirst, yearfirst, utc, errors, allow_object)\u001b[0m\n\u001b[0;32m   2174\u001b[0m \u001b[38;5;66;03m# if str-dtype, convert\u001b[39;00m\n\u001b[0;32m   2175\u001b[0m data \u001b[38;5;241m=\u001b[39m np\u001b[38;5;241m.\u001b[39marray(data, copy\u001b[38;5;241m=\u001b[39m\u001b[38;5;28;01mFalse\u001b[39;00m, dtype\u001b[38;5;241m=\u001b[39mnp\u001b[38;5;241m.\u001b[39mobject_)\n\u001b[1;32m-> 2177\u001b[0m result, tz_parsed \u001b[38;5;241m=\u001b[39m tslib\u001b[38;5;241m.\u001b[39marray_to_datetime(\n\u001b[0;32m   2178\u001b[0m     data,\n\u001b[0;32m   2179\u001b[0m     errors\u001b[38;5;241m=\u001b[39merrors,\n\u001b[0;32m   2180\u001b[0m     utc\u001b[38;5;241m=\u001b[39mutc,\n\u001b[0;32m   2181\u001b[0m     dayfirst\u001b[38;5;241m=\u001b[39mdayfirst,\n\u001b[0;32m   2182\u001b[0m     yearfirst\u001b[38;5;241m=\u001b[39myearfirst,\n\u001b[0;32m   2183\u001b[0m )\n\u001b[0;32m   2185\u001b[0m \u001b[38;5;28;01mif\u001b[39;00m tz_parsed \u001b[38;5;129;01mis\u001b[39;00m \u001b[38;5;129;01mnot\u001b[39;00m \u001b[38;5;28;01mNone\u001b[39;00m:\n\u001b[0;32m   2186\u001b[0m     \u001b[38;5;66;03m# We can take a shortcut since the datetime64 numpy array\u001b[39;00m\n\u001b[0;32m   2187\u001b[0m     \u001b[38;5;66;03m#  is in UTC\u001b[39;00m\n\u001b[0;32m   2188\u001b[0m     \u001b[38;5;66;03m# Return i8 values to denote unix timestamps\u001b[39;00m\n\u001b[0;32m   2189\u001b[0m     \u001b[38;5;28;01mreturn\u001b[39;00m result\u001b[38;5;241m.\u001b[39mview(\u001b[38;5;124m\"\u001b[39m\u001b[38;5;124mi8\u001b[39m\u001b[38;5;124m\"\u001b[39m), tz_parsed\n",
      "File \u001b[1;32mc:\\Users\\kjhoe\\anaconda3\\Lib\\site-packages\\pandas\\_libs\\tslib.pyx:402\u001b[0m, in \u001b[0;36mpandas._libs.tslib.array_to_datetime\u001b[1;34m()\u001b[0m\n",
      "File \u001b[1;32mc:\\Users\\kjhoe\\anaconda3\\Lib\\site-packages\\pandas\\_libs\\tslib.pyx:551\u001b[0m, in \u001b[0;36mpandas._libs.tslib.array_to_datetime\u001b[1;34m()\u001b[0m\n",
      "File \u001b[1;32mc:\\Users\\kjhoe\\anaconda3\\Lib\\site-packages\\pandas\\_libs\\tslib.pyx:516\u001b[0m, in \u001b[0;36mpandas._libs.tslib.array_to_datetime\u001b[1;34m()\u001b[0m\n",
      "File \u001b[1;32mc:\\Users\\kjhoe\\anaconda3\\Lib\\site-packages\\pandas\\_libs\\tslibs\\conversion.pyx:557\u001b[0m, in \u001b[0;36mpandas._libs.tslibs.conversion.convert_str_to_tsobject\u001b[1;34m()\u001b[0m\n",
      "File \u001b[1;32mc:\\Users\\kjhoe\\anaconda3\\Lib\\site-packages\\pandas\\_libs\\tslibs\\parsing.pyx:329\u001b[0m, in \u001b[0;36mpandas._libs.tslibs.parsing.parse_datetime_string\u001b[1;34m()\u001b[0m\n",
      "File \u001b[1;32mc:\\Users\\kjhoe\\anaconda3\\Lib\\site-packages\\pandas\\_libs\\tslibs\\parsing.pyx:683\u001b[0m, in \u001b[0;36mpandas._libs.tslibs.parsing.dateutil_parse\u001b[1;34m()\u001b[0m\n",
      "\u001b[1;31mDateParseError\u001b[0m: day is out of range for month: 0, at position 0"
     ]
    }
   ],
   "source": [
    "import pandas as pd\n",
    "import numpy as np\n",
    "from sklearn.experimental import enable_iterative_imputer  # IterativeImputer 활성화\n",
    "from sklearn.impute import IterativeImputer\n",
    "from prophet import Prophet\n",
    "from sklearn.metrics import mean_squared_error, mean_absolute_error\n",
    "\n",
    "# 데이터 준비\n",
    "extp_4['MSRM_DT'] = pd.to_datetime(extp_4['MSRM_DT'])  # 날짜 변수를 datetime 형식으로 변환\n",
    "extp_4 = extp_4.set_index('MSRM_DT')  # MSRM_DT를 인덱스로 설정\n",
    "\n",
    "# 결측값을 MICE로 채우는 함수\n",
    "def fill_missing_with_mice(df, max_iter=10, random_state=0):\n",
    "    imputer = IterativeImputer(max_iter=max_iter, random_state=random_state)\n",
    "    imputed_data = imputer.fit_transform(df)\n",
    "    return pd.DataFrame(imputed_data, columns=df.columns, index=df.index)\n",
    "\n",
    "# 결측값 채우기\n",
    "cols_to_impute = ['EXTN_TPRT', 'AREA_HMDT', 'AREA_WDSP', 'AREA_TPRT']\n",
    "extp_1_imputed = fill_missing_with_mice(extp_1[cols_to_impute])\n",
    "\n",
    "# Prophet을 사용하여 EXTN_TPRT 예측하는 함수\n",
    "def predict_extn_tprt(data):\n",
    "    # 결측값이 없는 행만 사용\n",
    "    data_non_null = data.dropna(subset=['EXTN_TPRT'])\n",
    "\n",
    "    # 데이터 준비: Prophet에 맞는 형식으로 변환\n",
    "    df_prophet = pd.DataFrame({\n",
    "        'ds': data_non_null.index,  # 시간 데이터\n",
    "        'y': data_non_null['EXTN_TPRT'],  # 예측할 목표 값\n",
    "    })\n",
    "    \n",
    "    # 추가 변수 (regressors) 추가\n",
    "    df_prophet['AREA_HMDT'] = data_non_null['AREA_HMDT'].values\n",
    "    df_prophet['AREA_WDSP'] = data_non_null['AREA_WDSP'].values\n",
    "    df_prophet['AREA_TPRT'] = data_non_null['AREA_TPRT'].values\n",
    "\n",
    "    # Prophet 모델 초기화\n",
    "    model2 = Prophet(daily_seasonality=True, yearly_seasonality=True)\n",
    "\n",
    "    # 부가 변수(regressors) 추가\n",
    "    model2.add_regressor('AREA_HMDT')\n",
    "    model2.add_regressor('AREA_WDSP')\n",
    "    model2.add_regressor('AREA_TPRT')\n",
    "\n",
    "    # 모델 학습\n",
    "    model2.fit(df_prophet)\n",
    "\n",
    "    # 전체 기간에 대해 예측할 데이터 준비\n",
    "    future = pd.DataFrame({'ds': data.index})  # 전체 시간 데이터\n",
    "    future['AREA_HMDT'] = data['AREA_HMDT'].values\n",
    "    future['AREA_WDSP'] = data['AREA_WDSP'].values\n",
    "    future['AREA_TPRT'] = data['AREA_TPRT'].values\n",
    "\n",
    "    # 전체 데이터를 대상으로 예측 수행\n",
    "    forecast = model2.predict(future)\n",
    "\n",
    "    return forecast\n",
    "\n",
    "# EXTN_TPRT 예측\n",
    "forecast = predict_extn_tprt(extp_1_imputed)\n",
    "\n",
    "# 성능 평가 함수 (MSE, RMSE, MAE 계산)\n",
    "def evaluate_performance(original_series, predicted_values):\n",
    "    # 예측값과 실제값의 인덱스를 맞춤\n",
    "    predicted_series = pd.Series(predicted_values.values, index=original_series.index)\n",
    "\n",
    "    # 결측값이 아닌 부분에 대해 평가\n",
    "    mask = original_series.notnull() & predicted_series.notnull()\n",
    "\n",
    "    mse = mean_squared_error(original_series[mask], predicted_series[mask])\n",
    "    rmse = np.sqrt(mse)\n",
    "    mae = mean_absolute_error(original_series[mask], predicted_series[mask])\n",
    "    \n",
    "    print(f'MSE: {mse}')\n",
    "    print(f'RMSE: {rmse}')\n",
    "    print(f'MAE: {mae}')\n",
    "\n",
    "# 성능 평가\n",
    "print(\"Evaluating performance...\")\n",
    "evaluate_performance(extp_4['EXTN_TPRT'], forecast['yhat'])\n",
    "\n",
    "# 결과 확인\n",
    "print(forecast[['ds', 'yhat', 'yhat_lower', 'yhat_upper']].head())\n"
   ]
  },
  {
   "cell_type": "markdown",
   "metadata": {},
   "source": [
    "1.3.5 df_4 EXRN_TPRT에 추가\n",
    "랜덤포레스트가 젤 나아보임"
   ]
  },
  {
   "cell_type": "code",
   "execution_count": null,
   "metadata": {},
   "outputs": [
    {
     "name": "stdout",
     "output_type": "stream",
     "text": [
      "<class 'pandas.core.frame.DataFrame'>\n",
      "RangeIndex: 17544 entries, 0 to 17543\n",
      "Data columns (total 16 columns):\n",
      " #   Column           Non-Null Count  Dtype  \n",
      "---  ------           --------------  -----  \n",
      " 0   FARM_ID          17544 non-null  object \n",
      " 1   MSRM_DT          17544 non-null  float64\n",
      " 2   AREA_TPRT        17544 non-null  float64\n",
      " 3   AREA_HMDT        17544 non-null  float64\n",
      " 4   AREA_WDSP        17544 non-null  float64\n",
      " 5   INNER_TPRT       17544 non-null  float64\n",
      " 6   INNER_HMDT       17544 non-null  float64\n",
      " 7   INNER_CBDX_CTRN  17544 non-null  float64\n",
      " 8   EXTN_TPRT        0 non-null      float64\n",
      " 9   PLT_LNGTH        120 non-null    float64\n",
      " 10  LEAF_LNGTH       1488 non-null   float64\n",
      " 11  LEAF_WDTH        1488 non-null   float64\n",
      " 12  STEM_THNS        1488 non-null   float64\n",
      " 13  PLANT_AR_SQM     17544 non-null  int64  \n",
      " 14  SHPMN_QTY        2640 non-null   float64\n",
      " 15  SHPMN_AMT        2640 non-null   float64\n",
      "dtypes: float64(14), int64(1), object(1)\n",
      "memory usage: 2.1+ MB\n"
     ]
    }
   ],
   "source": [
    "df_4.info()"
   ]
  },
  {
   "cell_type": "code",
   "execution_count": null,
   "metadata": {},
   "outputs": [
    {
     "data": {
      "text/html": [
       "<div>\n",
       "<style scoped>\n",
       "    .dataframe tbody tr th:only-of-type {\n",
       "        vertical-align: middle;\n",
       "    }\n",
       "\n",
       "    .dataframe tbody tr th {\n",
       "        vertical-align: top;\n",
       "    }\n",
       "\n",
       "    .dataframe thead th {\n",
       "        text-align: right;\n",
       "    }\n",
       "</style>\n",
       "<table border=\"1\" class=\"dataframe\">\n",
       "  <thead>\n",
       "    <tr style=\"text-align: right;\">\n",
       "      <th></th>\n",
       "      <th>FARM_ID</th>\n",
       "      <th>MSRM_DT</th>\n",
       "      <th>AREA_TPRT</th>\n",
       "      <th>AREA_HMDT</th>\n",
       "      <th>AREA_WDSP</th>\n",
       "      <th>INNER_TPRT</th>\n",
       "      <th>INNER_HMDT</th>\n",
       "      <th>INNER_CBDX_CTRN</th>\n",
       "      <th>EXTN_TPRT</th>\n",
       "      <th>PLT_LNGTH</th>\n",
       "      <th>LEAF_LNGTH</th>\n",
       "      <th>LEAF_WDTH</th>\n",
       "      <th>STEM_THNS</th>\n",
       "      <th>PLANT_AR_SQM</th>\n",
       "      <th>SHPMN_QTY</th>\n",
       "      <th>SHPMN_AMT</th>\n",
       "    </tr>\n",
       "  </thead>\n",
       "  <tbody>\n",
       "    <tr>\n",
       "      <th>0</th>\n",
       "      <td>GBE_KRMLN_002000at</td>\n",
       "      <td>2019-01-01 00:00:00</td>\n",
       "      <td>-1.9</td>\n",
       "      <td>50.0</td>\n",
       "      <td>1.6</td>\n",
       "      <td>19.1</td>\n",
       "      <td>87.0</td>\n",
       "      <td>599.970101</td>\n",
       "      <td>-0.9055</td>\n",
       "      <td>NaN</td>\n",
       "      <td>NaN</td>\n",
       "      <td>NaN</td>\n",
       "      <td>NaN</td>\n",
       "      <td>19800</td>\n",
       "      <td>NaN</td>\n",
       "      <td>NaN</td>\n",
       "    </tr>\n",
       "    <tr>\n",
       "      <th>1</th>\n",
       "      <td>GBE_KRMLN_002000at</td>\n",
       "      <td>2019-01-01 01:00:00</td>\n",
       "      <td>-3.2</td>\n",
       "      <td>54.0</td>\n",
       "      <td>1.7</td>\n",
       "      <td>18.8</td>\n",
       "      <td>87.0</td>\n",
       "      <td>619.101362</td>\n",
       "      <td>-0.5880</td>\n",
       "      <td>NaN</td>\n",
       "      <td>NaN</td>\n",
       "      <td>NaN</td>\n",
       "      <td>NaN</td>\n",
       "      <td>19800</td>\n",
       "      <td>NaN</td>\n",
       "      <td>NaN</td>\n",
       "    </tr>\n",
       "    <tr>\n",
       "      <th>2</th>\n",
       "      <td>GBE_KRMLN_002000at</td>\n",
       "      <td>2019-01-01 02:00:00</td>\n",
       "      <td>-2.5</td>\n",
       "      <td>62.0</td>\n",
       "      <td>2.1</td>\n",
       "      <td>18.5</td>\n",
       "      <td>87.0</td>\n",
       "      <td>608.119516</td>\n",
       "      <td>-2.2235</td>\n",
       "      <td>NaN</td>\n",
       "      <td>NaN</td>\n",
       "      <td>NaN</td>\n",
       "      <td>NaN</td>\n",
       "      <td>19800</td>\n",
       "      <td>NaN</td>\n",
       "      <td>NaN</td>\n",
       "    </tr>\n",
       "    <tr>\n",
       "      <th>3</th>\n",
       "      <td>GBE_KRMLN_002000at</td>\n",
       "      <td>2019-01-01 03:00:00</td>\n",
       "      <td>-2.5</td>\n",
       "      <td>62.0</td>\n",
       "      <td>1.6</td>\n",
       "      <td>18.1</td>\n",
       "      <td>87.0</td>\n",
       "      <td>629.073283</td>\n",
       "      <td>-1.8605</td>\n",
       "      <td>NaN</td>\n",
       "      <td>NaN</td>\n",
       "      <td>NaN</td>\n",
       "      <td>NaN</td>\n",
       "      <td>19800</td>\n",
       "      <td>NaN</td>\n",
       "      <td>NaN</td>\n",
       "    </tr>\n",
       "    <tr>\n",
       "      <th>4</th>\n",
       "      <td>GBE_KRMLN_002000at</td>\n",
       "      <td>2019-01-01 04:00:00</td>\n",
       "      <td>-3.6</td>\n",
       "      <td>67.0</td>\n",
       "      <td>0.8</td>\n",
       "      <td>17.8</td>\n",
       "      <td>88.0</td>\n",
       "      <td>675.384569</td>\n",
       "      <td>-3.8485</td>\n",
       "      <td>NaN</td>\n",
       "      <td>NaN</td>\n",
       "      <td>NaN</td>\n",
       "      <td>NaN</td>\n",
       "      <td>19800</td>\n",
       "      <td>NaN</td>\n",
       "      <td>NaN</td>\n",
       "    </tr>\n",
       "  </tbody>\n",
       "</table>\n",
       "</div>"
      ],
      "text/plain": [
       "              FARM_ID             MSRM_DT  AREA_TPRT  AREA_HMDT  AREA_WDSP  \\\n",
       "0  GBE_KRMLN_002000at 2019-01-01 00:00:00       -1.9       50.0        1.6   \n",
       "1  GBE_KRMLN_002000at 2019-01-01 01:00:00       -3.2       54.0        1.7   \n",
       "2  GBE_KRMLN_002000at 2019-01-01 02:00:00       -2.5       62.0        2.1   \n",
       "3  GBE_KRMLN_002000at 2019-01-01 03:00:00       -2.5       62.0        1.6   \n",
       "4  GBE_KRMLN_002000at 2019-01-01 04:00:00       -3.6       67.0        0.8   \n",
       "\n",
       "   INNER_TPRT  INNER_HMDT  INNER_CBDX_CTRN  EXTN_TPRT  PLT_LNGTH  LEAF_LNGTH  \\\n",
       "0        19.1        87.0       599.970101    -0.9055        NaN         NaN   \n",
       "1        18.8        87.0       619.101362    -0.5880        NaN         NaN   \n",
       "2        18.5        87.0       608.119516    -2.2235        NaN         NaN   \n",
       "3        18.1        87.0       629.073283    -1.8605        NaN         NaN   \n",
       "4        17.8        88.0       675.384569    -3.8485        NaN         NaN   \n",
       "\n",
       "   LEAF_WDTH  STEM_THNS  PLANT_AR_SQM  SHPMN_QTY  SHPMN_AMT  \n",
       "0        NaN        NaN         19800        NaN        NaN  \n",
       "1        NaN        NaN         19800        NaN        NaN  \n",
       "2        NaN        NaN         19800        NaN        NaN  \n",
       "3        NaN        NaN         19800        NaN        NaN  \n",
       "4        NaN        NaN         19800        NaN        NaN  "
      ]
     },
     "execution_count": 194,
     "metadata": {},
     "output_type": "execute_result"
    }
   ],
   "source": [
    "# df 데이터셋에서도 동일한 전처리 수행\n",
    "df_4['MSRM_DT'] = pd.to_datetime(df_4['MSRM_DT'])\n",
    "df_4['MSRM_DT'] = df_4['MSRM_DT'].map(pd.Timestamp.timestamp)  # timestamp로 변환\n",
    "\n",
    "# 예측할 특성 변수 설정\n",
    "X_df = df_4[['MSRM_DT','AREA_TPRT', 'AREA_HMDT','AREA_WDSP']]\n",
    "\n",
    "# 모델을 사용하여 EXTN_TPRT 예측\n",
    "df_4['EXTN_TPRT'] = model.predict(X_df)\n",
    "\n",
    "df_4['MSRM_DT'] = df_1['MSRM_DT']\n",
    "# 결과 확인\n",
    "df_4.head()"
   ]
  },
  {
   "cell_type": "code",
   "execution_count": null,
   "metadata": {},
   "outputs": [],
   "source": [
    "1.4.3 결측값 채우기- 생육변수 중 잎길이, 잎넓이, 줄기"
   ]
  },
  {
   "cell_type": "markdown",
   "metadata": {},
   "source": [
    "1.4 결측값 채우기- 생육 변수"
   ]
  },
  {
   "cell_type": "code",
   "execution_count": null,
   "metadata": {},
   "outputs": [],
   "source": [
    "#plt_lngth 제외한 변수들 먼저 채워넣고 그 생육 변수들까지 모두 고려해서 plt_lngth 예측"
   ]
  },
  {
   "cell_type": "code",
   "execution_count": null,
   "metadata": {},
   "outputs": [
    {
     "name": "stdout",
     "output_type": "stream",
     "text": [
      "<class 'pandas.core.frame.DataFrame'>\n",
      "RangeIndex: 17544 entries, 0 to 17543\n",
      "Data columns (total 16 columns):\n",
      " #   Column           Non-Null Count  Dtype         \n",
      "---  ------           --------------  -----         \n",
      " 0   FARM_ID          17544 non-null  object        \n",
      " 1   MSRM_DT          17544 non-null  datetime64[ns]\n",
      " 2   AREA_TPRT        17544 non-null  float64       \n",
      " 3   AREA_HMDT        17544 non-null  float64       \n",
      " 4   AREA_WDSP        17544 non-null  float64       \n",
      " 5   INNER_TPRT       17544 non-null  float64       \n",
      " 6   INNER_HMDT       17544 non-null  float64       \n",
      " 7   INNER_CBDX_CTRN  17544 non-null  float64       \n",
      " 8   EXTN_TPRT        17544 non-null  float64       \n",
      " 9   PLT_LNGTH        120 non-null    float64       \n",
      " 10  LEAF_LNGTH       1488 non-null   float64       \n",
      " 11  LEAF_WDTH        1488 non-null   float64       \n",
      " 12  STEM_THNS        1488 non-null   float64       \n",
      " 13  PLANT_AR_SQM     17544 non-null  int64         \n",
      " 14  SHPMN_QTY        2640 non-null   float64       \n",
      " 15  SHPMN_AMT        2640 non-null   float64       \n",
      "dtypes: datetime64[ns](1), float64(13), int64(1), object(1)\n",
      "memory usage: 2.1+ MB\n"
     ]
    }
   ],
   "source": [
    "df_4.info()"
   ]
  },
  {
   "cell_type": "markdown",
   "metadata": {},
   "source": [
    "1.4.1 PLT_LNGTH "
   ]
  },
  {
   "cell_type": "code",
   "execution_count": null,
   "metadata": {},
   "outputs": [],
   "source": [
    "#PLT_LNGTH 혼자서만 결측값 너무 많아서 따로함"
   ]
  },
  {
   "cell_type": "code",
   "execution_count": null,
   "metadata": {},
   "outputs": [],
   "source": [
    "# 예측할 변수와 특성 변수 설정\n",
    "y = df_4['PLT_LNGTH']\n",
    "X = df_4[['AREA_TPRT', 'AREA_HMDT', 'AREA_WDSP', 'INNER_TPRT', 'INNER_HMDT', 'INNER_CBDX_CTRN', 'EXTN_TPRT']]\n",
    "\n",
    "# 결측값이 없는 데이터로만 필터링\n",
    "x_non_null = X[y.notnull()]\n",
    "y_non_null = y[y.notnull()]"
   ]
  },
  {
   "cell_type": "code",
   "execution_count": null,
   "metadata": {},
   "outputs": [],
   "source": [
    "# 훈련 및 테스트 데이터로 분할 (non-null 데이터에서 25%를 테스트로 사용)\n",
    "X_train, X_test, y_train, y_test = train_test_split(x_non_null, y_non_null, test_size=0.20, random_state=42)\n"
   ]
  },
  {
   "cell_type": "markdown",
   "metadata": {},
   "source": [
    "1.4.1.(1) 다중선형회귀"
   ]
  },
  {
   "cell_type": "code",
   "execution_count": null,
   "metadata": {},
   "outputs": [
    {
     "name": "stdout",
     "output_type": "stream",
     "text": [
      "Mean Squared Error on the test set: 699.4897605373438\n"
     ]
    }
   ],
   "source": [
    "import pandas as pd\n",
    "from sklearn.model_selection import train_test_split\n",
    "from sklearn.linear_model import LinearRegression\n",
    "from sklearn.ensemble import RandomForestRegressor\n",
    "from sklearn.metrics import mean_squared_error\n",
    "\n",
    "\n",
    "# 다중 회귀 모델 생성 및 훈련\n",
    "model1 = LinearRegression()\n",
    "model1.fit(X_train, y_train)\n",
    "\n",
    "# 테스트 데이터에 대한 예측 수행\n",
    "y_pred1 = model1.predict(X_test)\n",
    "\n",
    "# MSE 평가\n",
    "mse = mean_squared_error(y_test, y_pred1)\n",
    "print(f'Mean Squared Error on the test set: {mse}')"
   ]
  },
  {
   "cell_type": "markdown",
   "metadata": {},
   "source": [
    "1.4.1.(2) 랜덤포레스트"
   ]
  },
  {
   "cell_type": "code",
   "execution_count": null,
   "metadata": {},
   "outputs": [
    {
     "name": "stdout",
     "output_type": "stream",
     "text": [
      "Mean Squared Error on the test set (Random Forest): 604.6975495891965\n"
     ]
    }
   ],
   "source": [
    "# 랜덤 포레스트 모델 생성 및 훈련\n",
    "rf_model = RandomForestRegressor(n_estimators=200, random_state=42)\n",
    "rf_model.fit(X_train, y_train)\n",
    "\n",
    "# 테스트 데이터에 대한 예측 수행\n",
    "y_pred2 = rf_model.predict(X_test)\n",
    "\n",
    "# MSE 평가\n",
    "mse = mean_squared_error(y_test, y_pred2)\n",
    "print(f'Mean Squared Error on the test set (Random Forest): {mse}')\n"
   ]
  },
  {
   "cell_type": "markdown",
   "metadata": {},
   "source": [
    "1.4.1.(3) prophet"
   ]
  },
  {
   "cell_type": "code",
   "execution_count": null,
   "metadata": {},
   "outputs": [
    {
     "name": "stderr",
     "output_type": "stream",
     "text": [
      "16:19:53 - cmdstanpy - INFO - Chain [1] start processing\n",
      "16:19:53 - cmdstanpy - INFO - Chain [1] done processing\n"
     ]
    },
    {
     "name": "stdout",
     "output_type": "stream",
     "text": [
      "MSE: 44.593434231309494\n",
      "RMSE: 6.677831551582407\n",
      "MAE: 5.716168247310047\n"
     ]
    }
   ],
   "source": [
    "import pandas as pd\n",
    "from prophet import Prophet\n",
    "from sklearn.metrics import mean_squared_error, mean_absolute_error\n",
    "import numpy as np\n",
    "\n",
    "# Prophet을 사용하여 결측값을 채우는 함수\n",
    "def fill_missing_with_prophet(target_series, regressors_df):\n",
    "    # 결측값이 없는 행들만 Prophet 모델에 사용\n",
    "    non_null_indices = target_series.dropna().index\n",
    "    target_series_non_null = target_series.loc[non_null_indices]\n",
    "    regressors_non_null = regressors_df.loc[non_null_indices]\n",
    "\n",
    "    # Prophet에 맞는 형식으로 변환\n",
    "    df_prophet = pd.DataFrame({\n",
    "        'ds': pd.to_datetime(target_series_non_null.index),  # 시간 데이터를 datetime 형식으로 변환\n",
    "        'y': target_series_non_null.values  # 예측할 목표 값 \n",
    "    })\n",
    "\n",
    "    # 각 부가 변수(regressor)를 추가\n",
    "    for col in regressors_df.columns:\n",
    "        df_prophet[col] = regressors_non_null[col].values\n",
    "\n",
    "    # Prophet 모델 초기화 (계절성 추가)\n",
    "    model_pr = Prophet(daily_seasonality=5, yearly_seasonality=20, weekly_seasonality=10)\n",
    "\n",
    "    # 부가 변수(regressor) 추가\n",
    "    for col in regressors_df.columns:\n",
    "        model_pr.add_regressor(col)\n",
    "\n",
    "    # 모델 학습\n",
    "    model_pr.fit(df_prophet)\n",
    "\n",
    "    # 전체 기간에 대해 예측할 데이터 준비\n",
    "    future = pd.DataFrame({'ds': pd.to_datetime(target_series.index)})\n",
    "    for col in regressors_df.columns:\n",
    "        future[col] = regressors_df[col].values\n",
    "\n",
    "    # 예측 수행\n",
    "    forecast = model_pr.predict(future)\n",
    "\n",
    "    # 예측 결과에서 'yhat' 값 사용\n",
    "    predicted_values = forecast['yhat'].values\n",
    "\n",
    "    # 결측값만 Prophet 예측값으로 채우기\n",
    "    filled_series = target_series.copy()\n",
    "    filled_series[target_series.isnull()] = predicted_values[target_series.isnull()]\n",
    "\n",
    "    return filled_series, predicted_values, model_pr  # 모델도 반환\n",
    "\n",
    "\n",
    "\n",
    "# 성능 평가 함수 (MSE, RMSE, MAE 계산)\n",
    "def evaluate_performance(original_series, predicted_values):\n",
    "    # 결측값이 아닌 부분에 대해 평가\n",
    "    mask = original_series.notnull()\n",
    "    \n",
    "    mse = mean_squared_error(original_series[mask], predicted_values[mask])\n",
    "    rmse = np.sqrt(mse)\n",
    "    mae = mean_absolute_error(original_series[mask], predicted_values[mask])\n",
    "    \n",
    "    print(f'MSE: {mse}')\n",
    "    print(f'RMSE: {rmse}')\n",
    "    print(f'MAE: {mae}')\n",
    "\n",
    "# 반응 변수 (예측할 변수)와 예측 변수 설정\n",
    "target_var = 'PLT_LNGTH'  # 반응 변수\n",
    "regressors = ['AREA_WDSP', 'AREA_TPRT', 'AREA_HMDT', 'INNER_TPRT', 'INNER_HMDT', 'INNER_CBDX_CTRN', 'EXTN_TPRT']  # 예측 변수\n",
    "\n",
    "# Prophet을 사용하여 결측값 채우기\n",
    "filled_series, predicted_values, model_pr = fill_missing_with_prophet(df_4[target_var], df_4[regressors])\n",
    "\n",
    "\n",
    "# 성능 평가\n",
    "evaluate_performance(df_4[target_var], predicted_values)"
   ]
  },
  {
   "cell_type": "markdown",
   "metadata": {},
   "source": [
    "1.4.1.(4) SARIMA"
   ]
  },
  {
   "cell_type": "code",
   "execution_count": null,
   "metadata": {},
   "outputs": [
    {
     "name": "stdout",
     "output_type": "stream",
     "text": [
      "MSE: 699.4897605373286\n",
      "RMSE: 26.44786873336543\n",
      "MAE: 22.448543067813784\n"
     ]
    }
   ],
   "source": [
    "import pandas as pd\n",
    "from sklearn.model_selection import train_test_split\n",
    "from sklearn.linear_model import LinearRegression\n",
    "from sklearn.metrics import mean_squared_error, mean_absolute_error\n",
    "\n",
    "# 필요한 컬럼만 선택\n",
    "features = df_4[['AREA_HMDT', 'AREA_WDSP', 'AREA_TPRT', 'INNER_TPRT', 'INNER_HMDT', 'INNER_CBDX_CTRN', 'EXTN_TPRT']]\n",
    "target = df_4['PLT_LNGTH']\n",
    "\n",
    "# 결측값이 있는 행 제거\n",
    "# features와 target 모두에서 결측값이 있는 행을 제거\n",
    "data_cleaned = df_4.dropna(subset=features.columns.tolist() + ['PLT_LNGTH'])\n",
    "\n",
    "# 새로운 features와 target 생성\n",
    "features_cleaned = data_cleaned[features.columns]\n",
    "target_cleaned = data_cleaned['PLT_LNGTH']\n",
    "\n",
    "# 훈련 세트와 테스트 세트로 분할\n",
    "X_train, X_test, y_train, y_test = train_test_split(features_cleaned, target_cleaned, test_size=0.2, random_state=42)\n",
    "\n",
    "# 회귀 모델 초기화 및 학습\n",
    "model3 = LinearRegression()\n",
    "model3.fit(X_train, y_train)\n",
    "\n",
    "# 예측\n",
    "predictions = model3.predict(X_test)\n",
    "\n",
    "# 성능 평가\n",
    "mse = mean_squared_error(y_test, predictions)\n",
    "rmse = mse ** 0.5\n",
    "mae = mean_absolute_error(y_test, predictions)\n",
    "\n",
    "print(f'MSE: {mse}')\n",
    "print(f'RMSE: {rmse}')\n",
    "print(f'MAE: {mae}')\n"
   ]
  },
  {
   "cell_type": "markdown",
   "metadata": {},
   "source": [
    "1.4.2 plt_lngth 채우기"
   ]
  },
  {
   "cell_type": "code",
   "execution_count": null,
   "metadata": {},
   "outputs": [],
   "source": [
    "#prophet 이용"
   ]
  },
  {
   "cell_type": "code",
   "execution_count": null,
   "metadata": {},
   "outputs": [
    {
     "name": "stdout",
     "output_type": "stream",
     "text": [
      "              FARM_ID             MSRM_DT  AREA_TPRT  AREA_HMDT  AREA_WDSP  \\\n",
      "0  GBE_KRMLN_002000at 2019-01-01 00:00:00       -1.9       50.0        1.6   \n",
      "1  GBE_KRMLN_002000at 2019-01-01 01:00:00       -3.2       54.0        1.7   \n",
      "2  GBE_KRMLN_002000at 2019-01-01 02:00:00       -2.5       62.0        2.1   \n",
      "3  GBE_KRMLN_002000at 2019-01-01 03:00:00       -2.5       62.0        1.6   \n",
      "4  GBE_KRMLN_002000at 2019-01-01 04:00:00       -3.6       67.0        0.8   \n",
      "\n",
      "   INNER_TPRT  INNER_HMDT  INNER_CBDX_CTRN  EXTN_TPRT  PLT_LNGTH  LEAF_LNGTH  \\\n",
      "0        19.1        87.0       599.970101    -0.9055  77.677549         NaN   \n",
      "1        18.8        87.0       619.101362    -0.5880  73.778712         NaN   \n",
      "2        18.5        87.0       608.119516    -2.2235  75.191118         NaN   \n",
      "3        18.1        87.0       629.073283    -1.8605  77.524357         NaN   \n",
      "4        17.8        88.0       675.384569    -3.8485  78.815984         NaN   \n",
      "\n",
      "   LEAF_WDTH  STEM_THNS  PLANT_AR_SQM  SHPMN_QTY  SHPMN_AMT  \n",
      "0        NaN        NaN         19800        NaN        NaN  \n",
      "1        NaN        NaN         19800        NaN        NaN  \n",
      "2        NaN        NaN         19800        NaN        NaN  \n",
      "3        NaN        NaN         19800        NaN        NaN  \n",
      "4        NaN        NaN         19800        NaN        NaN  \n"
     ]
    }
   ],
   "source": [
    "# 결측값이 있는 행 추출\n",
    "missing_mask = df_4['PLT_LNGTH'].isnull()\n",
    "X_missing = df_4[missing_mask][regressors]\n",
    "\n",
    "# X_missing에서 결측값이 있는 행 제거 (결측값이 있는 X변수는 예측할 수 없으므로 제외)\n",
    "X_missing_cleaned = X_missing.dropna()\n",
    "\n",
    "# 결측값만 예측\n",
    "# 예측할 데이터셋 준비\n",
    "future_missing = pd.DataFrame({'ds': pd.to_datetime(X_missing_cleaned.index)})\n",
    "for col in regressors:\n",
    "    future_missing[col] = X_missing_cleaned[col].values\n",
    "\n",
    "# 기존 PLT_LNGTH 값을 유지하고 결측값만 모델의 예측 값으로 채워넣음\n",
    "forecast_missing = model_pr.predict(future_missing)\n",
    "df_4.loc[missing_mask, 'PLT_LNGTH'] = forecast_missing['yhat'].values\n",
    "\n",
    "# 결과 확인\n",
    "print(df_4.head())"
   ]
  },
  {
   "cell_type": "markdown",
   "metadata": {},
   "source": [
    "1.4.3 결측값 채우기- 생육변수 중 잎길이, 잎넓이, 줄기"
   ]
  },
  {
   "cell_type": "code",
   "execution_count": null,
   "metadata": {},
   "outputs": [],
   "source": [
    "# 식물길이 제외 나머지 생육변수 예측"
   ]
  },
  {
   "cell_type": "markdown",
   "metadata": {},
   "source": [
    "1.4.3.(1) 랜덤포레스트"
   ]
  },
  {
   "cell_type": "code",
   "execution_count": null,
   "metadata": {},
   "outputs": [],
   "source": [
    "from sklearn.model_selection import train_test_split\n",
    "from sklearn.ensemble import RandomForestRegressor\n",
    "from sklearn.multioutput import MultiOutputRegressor\n",
    "from sklearn.metrics import mean_squared_error"
   ]
  },
  {
   "cell_type": "code",
   "execution_count": null,
   "metadata": {},
   "outputs": [],
   "source": [
    "# 예측할 y 변수와 X 변수 설정\n",
    "y_variables = ['LEAF_LNGTH', 'LEAF_WDTH', 'STEM_THNS']\n",
    "X = df_4[['AREA_TPRT', 'AREA_HMDT', 'AREA_WDSP', 'INNER_TPRT', 'INNER_HMDT', 'INNER_CBDX_CTRN', 'EXTN_TPRT']]\n",
    "\n",
    "# y 변수로 설정\n",
    "y = df_4[y_variables]\n",
    "\n",
    "# 결측값이 없는 데이터로만 필터링\n",
    "X_non_null = X[y.notnull().any(axis=1)]\n",
    "y_non_null = y[y.notnull().any(axis=1)]\n"
   ]
  },
  {
   "cell_type": "code",
   "execution_count": null,
   "metadata": {},
   "outputs": [],
   "source": [
    "# 훈련 및 테스트 데이터로 분할 (non-null 데이터에서 25%를 테스트로 사용)\n",
    "X_train, X_test, y_train, y_test = train_test_split(X_non_null, y_non_null, test_size=0.25, random_state=42)\n",
    "\n",
    "# MultiOutputRegressor를 사용하여 랜덤 포레스트 모델 생성 및 훈련\n",
    "rf_model = RandomForestRegressor(n_estimators=200, random_state=42)\n",
    "multi_output_model = MultiOutputRegressor(rf_model)\n",
    "multi_output_model.fit(X_train, y_train)\n",
    "\n",
    "# 테스트 데이터에 대한 예측 수행\n",
    "y_pred = multi_output_model.predict(X_test)\n"
   ]
  },
  {
   "cell_type": "code",
   "execution_count": null,
   "metadata": {},
   "outputs": [
    {
     "name": "stdout",
     "output_type": "stream",
     "text": [
      "Mean Squared Error on the test set (LEAF_LNGTH): 1.1905267819220424\n",
      "Mean Squared Error on the test set (LEAF_WDTH): 0.8574039489854001\n",
      "Mean Squared Error on the test set (STEM_THNS): 0.224298281967172\n"
     ]
    }
   ],
   "source": [
    "# MSE 평가 및 출력\n",
    "for i, var in enumerate(y_variables):\n",
    "    mse = mean_squared_error(y_test.iloc[:, i], y_pred[:, i])\n",
    "    print(f'Mean Squared Error on the test set ({var}): {mse}')\n"
   ]
  },
  {
   "cell_type": "markdown",
   "metadata": {},
   "source": [
    "1.4.3.(2) prophet"
   ]
  },
  {
   "cell_type": "code",
   "execution_count": null,
   "metadata": {},
   "outputs": [
    {
     "name": "stdout",
     "output_type": "stream",
     "text": [
      "Filling missing values for LEAF_LNGTH...\n"
     ]
    },
    {
     "name": "stderr",
     "output_type": "stream",
     "text": [
      "16:26:42 - cmdstanpy - INFO - Chain [1] start processing\n",
      "16:26:44 - cmdstanpy - INFO - Chain [1] done processing\n"
     ]
    },
    {
     "name": "stdout",
     "output_type": "stream",
     "text": [
      "Evaluating performance for LEAF_LNGTH...\n",
      "MSE: 0.5899238553709366\n",
      "RMSE: 0.768065007255855\n",
      "MAE: 0.5973240357457946\n",
      "Filling missing values for LEAF_WDTH...\n"
     ]
    },
    {
     "name": "stderr",
     "output_type": "stream",
     "text": [
      "16:26:54 - cmdstanpy - INFO - Chain [1] start processing\n",
      "16:26:57 - cmdstanpy - INFO - Chain [1] done processing\n"
     ]
    },
    {
     "name": "stdout",
     "output_type": "stream",
     "text": [
      "Evaluating performance for LEAF_WDTH...\n",
      "MSE: 0.5181259847179521\n",
      "RMSE: 0.7198096864574358\n",
      "MAE: 0.5458900052730833\n",
      "Filling missing values for STEM_THNS...\n"
     ]
    },
    {
     "name": "stderr",
     "output_type": "stream",
     "text": [
      "16:27:07 - cmdstanpy - INFO - Chain [1] start processing\n",
      "16:27:08 - cmdstanpy - INFO - Chain [1] done processing\n"
     ]
    },
    {
     "name": "stdout",
     "output_type": "stream",
     "text": [
      "Evaluating performance for STEM_THNS...\n",
      "MSE: 0.19990892569829938\n",
      "RMSE: 0.447111759740559\n",
      "MAE: 0.34537029735220875\n",
      "              FARM_ID             MSRM_DT  AREA_TPRT  AREA_HMDT  AREA_WDSP  \\\n",
      "0  GBE_KRMLN_002000at 2019-01-01 00:00:00       -1.9       50.0        1.6   \n",
      "1  GBE_KRMLN_002000at 2019-01-01 01:00:00       -3.2       54.0        1.7   \n",
      "2  GBE_KRMLN_002000at 2019-01-01 02:00:00       -2.5       62.0        2.1   \n",
      "3  GBE_KRMLN_002000at 2019-01-01 03:00:00       -2.5       62.0        1.6   \n",
      "4  GBE_KRMLN_002000at 2019-01-01 04:00:00       -3.6       67.0        0.8   \n",
      "\n",
      "   INNER_TPRT  INNER_HMDT  INNER_CBDX_CTRN  EXTN_TPRT  PLT_LNGTH  LEAF_LNGTH  \\\n",
      "0        19.1        87.0       599.970101    -0.9055  77.677549    9.660666   \n",
      "1        18.8        87.0       619.101362    -0.5880  73.778712    9.690083   \n",
      "2        18.5        87.0       608.119516    -2.2235  75.191118    9.668782   \n",
      "3        18.1        87.0       629.073283    -1.8605  77.524357    9.647800   \n",
      "4        17.8        88.0       675.384569    -3.8485  78.815984    9.640558   \n",
      "\n",
      "   LEAF_WDTH  STEM_THNS  PLANT_AR_SQM  SHPMN_QTY  SHPMN_AMT  \n",
      "0   9.846513   4.474028         19800        NaN        NaN  \n",
      "1   9.834747   4.505524         19800        NaN        NaN  \n",
      "2   9.803180   4.535360         19800        NaN        NaN  \n",
      "3   9.797766   4.549164         19800        NaN        NaN  \n",
      "4   9.786944   4.578204         19800        NaN        NaN  \n"
     ]
    }
   ],
   "source": [
    "import pandas as pd\n",
    "from prophet import Prophet\n",
    "from sklearn.metrics import mean_squared_error, mean_absolute_error\n",
    "import numpy as np\n",
    "\n",
    "# Prophet을 사용하여 결측값을 채우는 함수\n",
    "def fill_missing_with_prophet(target_series, regressors_df):\n",
    "    # 결측값이 없는 행들만 Prophet 모델에 사용\n",
    "    non_null_indices = target_series.dropna().index\n",
    "    target_series_non_null = target_series.loc[non_null_indices]\n",
    "    regressors_non_null = regressors_df.loc[non_null_indices]\n",
    "\n",
    "    # Prophet에 맞는 형식으로 변환\n",
    "    df_prophet = pd.DataFrame({\n",
    "        'ds': pd.to_datetime(target_series_non_null.index),  # 시간 데이터를 datetime 형식으로 변환\n",
    "        'y': target_series_non_null.values  # 예측할 목표 값 \n",
    "    })\n",
    "\n",
    "    # 각 부가 변수(regressor)를 추가\n",
    "    for col in regressors_df.columns:\n",
    "        df_prophet[col] = regressors_non_null[col].values\n",
    "\n",
    "    # Prophet 모델 초기화 (계절성 추가)\n",
    "    model_pr = Prophet(daily_seasonality=5, yearly_seasonality=20, weekly_seasonality=10)\n",
    "\n",
    "    # 부가 변수(regressor) 추가\n",
    "    for col in regressors_df.columns:\n",
    "        model_pr.add_regressor(col)\n",
    "\n",
    "    # 모델 학습\n",
    "    model_pr.fit(df_prophet)\n",
    "\n",
    "    # 전체 기간에 대해 예측할 데이터 준비\n",
    "    future = pd.DataFrame({'ds': pd.to_datetime(target_series.index)})\n",
    "    for col in regressors_df.columns:\n",
    "        future[col] = regressors_df[col].values\n",
    "\n",
    "    # 예측 수행\n",
    "    forecast = model_pr.predict(future)\n",
    "\n",
    "    # 예측 결과에서 'yhat' 값 사용\n",
    "    predicted_values = forecast['yhat'].values\n",
    "\n",
    "    # 결측값만 Prophet 예측값으로 채우기\n",
    "    filled_series = target_series.copy()\n",
    "    filled_series[target_series.isnull()] = predicted_values[target_series.isnull()]\n",
    "\n",
    "    return filled_series, predicted_values, model_pr  # 모델도 반환\n",
    "\n",
    "\n",
    "# 성능 평가 함수 (MSE, RMSE, MAE 계산)\n",
    "def evaluate_performance(original_series, predicted_values):\n",
    "    # 결측값이 아닌 부분에 대해 평가\n",
    "    mask = original_series.notnull()\n",
    "    \n",
    "    mse = mean_squared_error(original_series[mask], predicted_values[mask])\n",
    "    rmse = np.sqrt(mse)\n",
    "    mae = mean_absolute_error(original_series[mask], predicted_values[mask])\n",
    "    \n",
    "    print(f'MSE: {mse}')\n",
    "    print(f'RMSE: {rmse}')\n",
    "    print(f'MAE: {mae}')\n",
    "\n",
    "# 반응 변수 (예측할 변수)와 예측 변수 설정\n",
    "target_vars = ['LEAF_LNGTH', 'LEAF_WDTH', 'STEM_THNS']  # 반응 변수\n",
    "regressors = ['AREA_WDSP', 'AREA_TPRT', 'AREA_HMDT', 'INNER_TPRT', 'INNER_HMDT', 'INNER_CBDX_CTRN', 'EXTN_TPRT']  # 예측 변수\n",
    "\n",
    "# 각 반응 변수에 대해 결측값 채우기 및 성능 평가\n",
    "for target_var in target_vars:\n",
    "    print(f'Filling missing values for {target_var}...')\n",
    "    filled_series, predicted_values, model_pr = fill_missing_with_prophet(df_4[target_var], df_4[regressors])\n",
    "\n",
    "    # 성능 평가\n",
    "    print(f'Evaluating performance for {target_var}...')\n",
    "    evaluate_performance(df_4[target_var], predicted_values)\n",
    "    \n",
    "    # 채운 시리즈를 원본 DataFrame에 저장\n",
    "    df_4[target_var] = filled_series\n",
    "\n",
    "# 결과 확인\n",
    "print(df_4.head())\n"
   ]
  },
  {
   "cell_type": "markdown",
   "metadata": {},
   "source": [
    "1.4.4 변수들 채워짐"
   ]
  },
  {
   "cell_type": "code",
   "execution_count": null,
   "metadata": {},
   "outputs": [
    {
     "name": "stdout",
     "output_type": "stream",
     "text": [
      "              FARM_ID             MSRM_DT  AREA_TPRT  AREA_HMDT  AREA_WDSP  \\\n",
      "0  GBE_KRMLN_002000at 2019-01-01 00:00:00       -1.9       50.0        1.6   \n",
      "1  GBE_KRMLN_002000at 2019-01-01 01:00:00       -3.2       54.0        1.7   \n",
      "2  GBE_KRMLN_002000at 2019-01-01 02:00:00       -2.5       62.0        2.1   \n",
      "3  GBE_KRMLN_002000at 2019-01-01 03:00:00       -2.5       62.0        1.6   \n",
      "4  GBE_KRMLN_002000at 2019-01-01 04:00:00       -3.6       67.0        0.8   \n",
      "5  GBE_KRMLN_002000at 2019-01-01 05:00:00       -2.4       64.0        1.7   \n",
      "6  GBE_KRMLN_002000at 2019-01-01 06:00:00       -3.3       69.0        2.3   \n",
      "7  GBE_KRMLN_002000at 2019-01-01 07:00:00       -2.0       64.0        1.0   \n",
      "8  GBE_KRMLN_002000at 2019-01-01 08:00:00       -2.5       67.0        0.3   \n",
      "9  GBE_KRMLN_002000at 2019-01-01 09:00:00       -1.3       62.0        0.8   \n",
      "\n",
      "   INNER_TPRT  INNER_HMDT  INNER_CBDX_CTRN  EXTN_TPRT  PLT_LNGTH  LEAF_LNGTH  \\\n",
      "0        19.1        87.0       599.970101    -0.9055  77.677549    9.660666   \n",
      "1        18.8        87.0       619.101362    -0.5880  73.778712    9.690083   \n",
      "2        18.5        87.0       608.119516    -2.2235  75.191118    9.668782   \n",
      "3        18.1        87.0       629.073283    -1.8605  77.524357    9.647800   \n",
      "4        17.8        88.0       675.384569    -3.8485  78.815984    9.640558   \n",
      "5        17.6        89.0       631.530032    -1.8115  77.855367    9.639783   \n",
      "6        17.5        89.0       628.262238    -1.4255  72.896243    9.673770   \n",
      "7        17.6        91.0       648.945528    -3.7655  82.670642    9.608561   \n",
      "8        17.6        91.0       680.227696    -3.8620  84.560926    9.584754   \n",
      "9        17.5        96.0       644.788359    -4.5240  85.911863    9.579144   \n",
      "\n",
      "   LEAF_WDTH  STEM_THNS  PLANT_AR_SQM  SHPMN_QTY  SHPMN_AMT  \n",
      "0   9.846513   4.474028         19800        NaN        NaN  \n",
      "1   9.834747   4.505524         19800        NaN        NaN  \n",
      "2   9.803180   4.535360         19800        NaN        NaN  \n",
      "3   9.797766   4.549164         19800        NaN        NaN  \n",
      "4   9.786944   4.578204         19800        NaN        NaN  \n",
      "5   9.780106   4.547869         19800        NaN        NaN  \n",
      "6   9.761199   4.573861         19800        NaN        NaN  \n",
      "7   9.779371   4.529949         19800        NaN        NaN  \n",
      "8   9.757990   4.558641         19800        NaN        NaN  \n",
      "9   9.766651   4.475102         19800        NaN        NaN  \n"
     ]
    }
   ],
   "source": [
    "print(df_4.head(10))"
   ]
  },
  {
   "cell_type": "markdown",
   "metadata": {},
   "source": [
    "1.4.5 다른 생육변수들 사용해서 plt_lngth 다시 예측"
   ]
  },
  {
   "cell_type": "code",
   "execution_count": null,
   "metadata": {},
   "outputs": [],
   "source": [
    "#prophet"
   ]
  },
  {
   "cell_type": "code",
   "execution_count": null,
   "metadata": {},
   "outputs": [
    {
     "name": "stdout",
     "output_type": "stream",
     "text": [
      "Filling missing values for PLT_LNGTH...\n"
     ]
    },
    {
     "name": "stderr",
     "output_type": "stream",
     "text": [
      "16:42:45 - cmdstanpy - INFO - Chain [1] start processing\n",
      "16:42:46 - cmdstanpy - INFO - Chain [1] done processing\n"
     ]
    },
    {
     "name": "stdout",
     "output_type": "stream",
     "text": [
      "Evaluating performance for PLT_LNGTH...\n",
      "MSE: 0.00011148131603961172\n",
      "RMSE: 0.01055847129273986\n",
      "MAE: 0.007847843440941797\n",
      "              FARM_ID             MSRM_DT  AREA_TPRT  AREA_HMDT  AREA_WDSP  \\\n",
      "0  GBE_KRMLN_002000at 2019-01-01 00:00:00       -1.9       50.0        1.6   \n",
      "1  GBE_KRMLN_002000at 2019-01-01 01:00:00       -3.2       54.0        1.7   \n",
      "2  GBE_KRMLN_002000at 2019-01-01 02:00:00       -2.5       62.0        2.1   \n",
      "3  GBE_KRMLN_002000at 2019-01-01 03:00:00       -2.5       62.0        1.6   \n",
      "4  GBE_KRMLN_002000at 2019-01-01 04:00:00       -3.6       67.0        0.8   \n",
      "\n",
      "   INNER_TPRT  INNER_HMDT  INNER_CBDX_CTRN  EXTN_TPRT  PLT_LNGTH  LEAF_LNGTH  \\\n",
      "0        19.1        87.0       599.970101    -0.9055  77.677549    9.660666   \n",
      "1        18.8        87.0       619.101362    -0.5880  73.778712    9.690083   \n",
      "2        18.5        87.0       608.119516    -2.2235  75.191118    9.668782   \n",
      "3        18.1        87.0       629.073283    -1.8605  77.524357    9.647800   \n",
      "4        17.8        88.0       675.384569    -3.8485  78.815984    9.640558   \n",
      "\n",
      "   LEAF_WDTH  STEM_THNS  PLANT_AR_SQM  SHPMN_QTY  SHPMN_AMT  \n",
      "0   9.846513   4.474028         19800        NaN        NaN  \n",
      "1   9.834747   4.505524         19800        NaN        NaN  \n",
      "2   9.803180   4.535360         19800        NaN        NaN  \n",
      "3   9.797766   4.549164         19800        NaN        NaN  \n",
      "4   9.786944   4.578204         19800        NaN        NaN  \n"
     ]
    }
   ],
   "source": [
    "import pandas as pd\n",
    "from prophet import Prophet\n",
    "from sklearn.metrics import mean_squared_error, mean_absolute_error\n",
    "import numpy as np\n",
    "\n",
    "# Prophet을 사용하여 결측값을 채우는 함수\n",
    "def fill_missing_with_prophet(target_series, regressors_df):\n",
    "    # 결측값이 없는 행들만 Prophet 모델에 사용\n",
    "    non_null_indices = target_series.dropna().index\n",
    "    target_series_non_null = target_series.loc[non_null_indices]\n",
    "    regressors_non_null = regressors_df.loc[non_null_indices]\n",
    "\n",
    "    # Prophet에 맞는 형식으로 변환\n",
    "    df_prophet = pd.DataFrame({\n",
    "        'ds': pd.to_datetime(target_series_non_null.index),  # 시간 데이터를 datetime 형식으로 변환\n",
    "        'y': target_series_non_null.values  # 예측할 목표 값 \n",
    "    })\n",
    "\n",
    "    # 각 부가 변수(regressor)를 추가\n",
    "    for col in regressors_df.columns:\n",
    "        df_prophet[col] = regressors_non_null[col].values\n",
    "\n",
    "    # Prophet 모델 초기화 (계절성 추가)\n",
    "    model_pr = Prophet(daily_seasonality=5, yearly_seasonality=20, weekly_seasonality=10)\n",
    "\n",
    "    # 부가 변수(regressor) 추가\n",
    "    for col in regressors_df.columns:\n",
    "        model_pr.add_regressor(col)\n",
    "\n",
    "    # 모델 학습\n",
    "    model_pr.fit(df_prophet)\n",
    "\n",
    "    # 전체 기간에 대해 예측할 데이터 준비\n",
    "    future = pd.DataFrame({'ds': pd.to_datetime(target_series.index)})\n",
    "    for col in regressors_df.columns:\n",
    "        future[col] = regressors_df[col].values\n",
    "\n",
    "    # 예측 수행\n",
    "    forecast = model_pr.predict(future)\n",
    "\n",
    "    # 예측 결과에서 'yhat' 값 사용\n",
    "    predicted_values = forecast['yhat'].values\n",
    "\n",
    "    # 결측값만 Prophet 예측값으로 채우기\n",
    "    filled_series = target_series.copy()\n",
    "    filled_series[target_series.isnull()] = predicted_values[target_series.isnull()]\n",
    "\n",
    "    return filled_series, predicted_values, model_pr  # 모델도 반환\n",
    "\n",
    "\n",
    "# 성능 평가 함수 (MSE, RMSE, MAE 계산)\n",
    "def evaluate_performance(original_series, predicted_values):\n",
    "    # 결측값이 아닌 부분에 대해 평가\n",
    "    mask = original_series.notnull()\n",
    "    \n",
    "    mse = mean_squared_error(original_series[mask], predicted_values[mask])\n",
    "    rmse = np.sqrt(mse)\n",
    "    mae = mean_absolute_error(original_series[mask], predicted_values[mask])\n",
    "    \n",
    "    print(f'MSE: {mse}')\n",
    "    print(f'RMSE: {rmse}')\n",
    "    print(f'MAE: {mae}')\n",
    "\n",
    "# 반응 변수 (예측할 변수)와 예측 변수 설정\n",
    "target_vars = ['PLT_LNGTH']  # 반응 변수\n",
    "regressors = ['AREA_WDSP', 'AREA_TPRT', 'AREA_HMDT', 'INNER_TPRT', 'INNER_HMDT', 'INNER_CBDX_CTRN', 'EXTN_TPRT','LEAF_LNGTH', 'LEAF_WDTH', 'STEM_THNS']  # 예측 변수\n",
    "\n",
    "# 각 반응 변수에 대해 결측값 채우기 및 성능 평가\n",
    "for target_var in target_vars:\n",
    "    print(f'Filling missing values for {target_var}...')\n",
    "    filled_series, predicted_values, model_pr = fill_missing_with_prophet(df_5[target_var], df_4[regressors])\n",
    "\n",
    "    # 성능 평가\n",
    "    print(f'Evaluating performance for {target_var}...')\n",
    "    evaluate_performance(df_5[target_var], predicted_values)\n",
    "    \n",
    "    # 채운 시리즈를 원본 DataFrame에 저장\n",
    "    df_5[target_var] = filled_series\n",
    "\n",
    "# 결과 확인\n",
    "print(df_4.head())\n"
   ]
  },
  {
   "cell_type": "code",
   "execution_count": null,
   "metadata": {},
   "outputs": [],
   "source": [
    "1.4.6 위에 다시 한게 더 나아 보이니까 df_4 plt_lngth 교체"
   ]
  },
  {
   "cell_type": "code",
   "execution_count": null,
   "metadata": {},
   "outputs": [],
   "source": [
    "df_4['PLT_LNGTH']=df_5['PLT_LNGTH']"
   ]
  },
  {
   "cell_type": "code",
   "execution_count": null,
   "metadata": {},
   "outputs": [
    {
     "name": "stdout",
     "output_type": "stream",
     "text": [
      "              FARM_ID             MSRM_DT  AREA_TPRT  AREA_HMDT  AREA_WDSP  \\\n",
      "0  GBE_KRMLN_002000at 2019-01-01 00:00:00       -1.9       50.0        1.6   \n",
      "1  GBE_KRMLN_002000at 2019-01-01 01:00:00       -3.2       54.0        1.7   \n",
      "2  GBE_KRMLN_002000at 2019-01-01 02:00:00       -2.5       62.0        2.1   \n",
      "3  GBE_KRMLN_002000at 2019-01-01 03:00:00       -2.5       62.0        1.6   \n",
      "4  GBE_KRMLN_002000at 2019-01-01 04:00:00       -3.6       67.0        0.8   \n",
      "5  GBE_KRMLN_002000at 2019-01-01 05:00:00       -2.4       64.0        1.7   \n",
      "6  GBE_KRMLN_002000at 2019-01-01 06:00:00       -3.3       69.0        2.3   \n",
      "7  GBE_KRMLN_002000at 2019-01-01 07:00:00       -2.0       64.0        1.0   \n",
      "8  GBE_KRMLN_002000at 2019-01-01 08:00:00       -2.5       67.0        0.3   \n",
      "9  GBE_KRMLN_002000at 2019-01-01 09:00:00       -1.3       62.0        0.8   \n",
      "\n",
      "   INNER_TPRT  INNER_HMDT  INNER_CBDX_CTRN  EXTN_TPRT  PLT_LNGTH  LEAF_LNGTH  \\\n",
      "0        19.1        87.0       599.970101    -0.9055  90.592448    9.660666   \n",
      "1        18.8        87.0       619.101362    -0.5880  91.493658    9.690083   \n",
      "2        18.5        87.0       608.119516    -2.2235  91.856841    9.668782   \n",
      "3        18.1        87.0       629.073283    -1.8605  91.640466    9.647800   \n",
      "4        17.8        88.0       675.384569    -3.8485  91.843434    9.640558   \n",
      "5        17.6        89.0       631.530032    -1.8115  91.836728    9.639783   \n",
      "6        17.5        89.0       628.262238    -1.4255  92.938854    9.673770   \n",
      "7        17.6        91.0       648.945528    -3.7655  91.205976    9.608561   \n",
      "8        17.6        91.0       680.227696    -3.8620  91.313003    9.584754   \n",
      "9        17.5        96.0       644.788359    -4.5240  90.683105    9.579144   \n",
      "\n",
      "   LEAF_WDTH  STEM_THNS  PLANT_AR_SQM  SHPMN_QTY  SHPMN_AMT  \n",
      "0   9.846513   4.474028         19800        NaN        NaN  \n",
      "1   9.834747   4.505524         19800        NaN        NaN  \n",
      "2   9.803180   4.535360         19800        NaN        NaN  \n",
      "3   9.797766   4.549164         19800        NaN        NaN  \n",
      "4   9.786944   4.578204         19800        NaN        NaN  \n",
      "5   9.780106   4.547869         19800        NaN        NaN  \n",
      "6   9.761199   4.573861         19800        NaN        NaN  \n",
      "7   9.779371   4.529949         19800        NaN        NaN  \n",
      "8   9.757990   4.558641         19800        NaN        NaN  \n",
      "9   9.766651   4.475102         19800        NaN        NaN  \n"
     ]
    }
   ],
   "source": [
    "print(df_4.head(10))"
   ]
  }
 ],
 "metadata": {
  "kernelspec": {
   "display_name": "base",
   "language": "python",
   "name": "python3"
  },
  "language_info": {
   "codemirror_mode": {
    "name": "ipython",
    "version": 3
   },
   "file_extension": ".py",
   "mimetype": "text/x-python",
   "name": "python",
   "nbconvert_exporter": "python",
   "pygments_lexer": "ipython3",
   "version": "3.11.5"
  }
 },
 "nbformat": 4,
 "nbformat_minor": 2
}
