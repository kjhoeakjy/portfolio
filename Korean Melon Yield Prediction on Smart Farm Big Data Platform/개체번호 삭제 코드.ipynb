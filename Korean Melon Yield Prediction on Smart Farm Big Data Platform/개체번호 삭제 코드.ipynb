{
 "cells": [
  {
   "cell_type": "code",
   "execution_count": 1,
   "metadata": {},
   "outputs": [],
   "source": [
    "import random\n",
    "import pandas as pd\n",
    "import numpy as np\n",
    "import os\n",
    "\n",
    "from sklearn.ensemble import RandomForestRegressor\n",
    "from sklearn.preprocessing import LabelEncoder\n",
    "\n",
    "import warnings\n",
    "warnings.filterwarnings(action='ignore')"
   ]
  },
  {
   "cell_type": "code",
   "execution_count": 2,
   "metadata": {},
   "outputs": [],
   "source": [
    "##개체번호 없애기"
   ]
  },
  {
   "cell_type": "code",
   "execution_count": 3,
   "metadata": {},
   "outputs": [],
   "source": [
    "f1 = \"C:\\\\Users\\\\kjhoe\\\\OneDrive\\\\바탕화~1-LAPTOP-VGOF9FJ7-25904429\\\\대외활동\\\\공모전\\\\2024 빅콘\\\\외부생육.xlsx\"\n",
    "df = pd.read_excel(f1)"
   ]
  },
  {
   "cell_type": "code",
   "execution_count": 4,
   "metadata": {},
   "outputs": [
    {
     "name": "stdout",
     "output_type": "stream",
     "text": [
      "                 MSRM_DT  PLT_LNGTH  LEAF_LNGTH  LEAF_WDTH  STEM_THNS  \\\n",
      "0    2019-01-01 00:00:00        NaN         NaN        NaN        NaN   \n",
      "1    2019-01-01 01:00:00        NaN         NaN        NaN        NaN   \n",
      "2    2019-01-01 02:00:00        NaN         NaN        NaN        NaN   \n",
      "3    2019-01-01 03:00:00        NaN         NaN        NaN        NaN   \n",
      "4    2019-01-01 04:00:00        NaN         NaN        NaN        NaN   \n",
      "...                  ...        ...         ...        ...        ...   \n",
      "8755 2019-12-31 19:00:00        NaN         NaN        NaN        NaN   \n",
      "8756 2019-12-31 20:00:00        NaN         NaN        NaN        NaN   \n",
      "8757 2019-12-31 21:00:00        NaN         NaN        NaN        NaN   \n",
      "8758 2019-12-31 22:00:00        NaN         NaN        NaN        NaN   \n",
      "8759 2019-12-31 23:00:00        NaN         NaN        NaN        NaN   \n",
      "\n",
      "      AREA_TPRT  AREA_HMDT  AREA_WDSP  EXTN_TPRT  INDVD_NO  \n",
      "0          -1.9       50.0        1.6        NaN       NaN  \n",
      "1          -3.2       54.0        1.7        NaN       NaN  \n",
      "2          -2.5       62.0        2.1        NaN       NaN  \n",
      "3          -2.5       62.0        1.6        NaN       NaN  \n",
      "4          -3.6       67.0        0.8        NaN       NaN  \n",
      "...         ...        ...        ...        ...       ...  \n",
      "8755       -2.5       34.0        2.4        NaN       NaN  \n",
      "8756       -3.2       38.0        1.2        NaN       NaN  \n",
      "8757       -4.3       43.0        1.0        NaN       NaN  \n",
      "8758       -3.9       39.0        1.8        NaN       NaN  \n",
      "8759       -4.4       40.0        1.6        NaN       NaN  \n",
      "\n",
      "[8760 rows x 10 columns]\n"
     ]
    }
   ],
   "source": [
    "#'MSRM_DT'를 기준으로 그룹화하고 생육 변수의 평균을 계산\n",
    "df_aggregated = df.groupby('MSRM_DT', as_index=False).agg({\n",
    "    'PLT_LNGTH': 'mean',\n",
    "    'LEAF_LNGTH': 'mean',\n",
    "    'LEAF_WDTH': 'mean',\n",
    "    'STEM_THNS': 'mean',\n",
    "    'AREA_TPRT': 'mean',  \n",
    "    'AREA_HMDT': 'mean',\n",
    "    'AREA_WDSP': 'mean',\n",
    "    'EXTN_TPRT': 'mean',\n",
    "    'INDVD_NO': 'first' # 개체번호는 첫 번째 값으로 유지\n",
    "})\n",
    "\n",
    "# 2. 결과 확인\n",
    "print(df_aggregated)\n",
    "\n",
    "df_aggregated.to_excel(\"C:\\\\Users\\\\kjhoe\\\\OneDrive\\\\바탕화~1-LAPTOP-VGOF9FJ7-25904429\\\\대외활동\\\\공모전\\\\2024 빅콘\\\\외부생육 수정.xlsx\"\n",
    ", index=False)\n",
    "\n"
   ]
  },
  {
   "cell_type": "code",
   "execution_count": 5,
   "metadata": {},
   "outputs": [],
   "source": [
    "f2 = \"C:\\\\Users\\\\kjhoe\\\\OneDrive\\\\바탕화~1-LAPTOP-VGOF9FJ7-25904429\\\\대외활동\\\\공모전\\\\2024 빅콘\\\\내부생육.xlsx\"\n",
    "df2 = pd.read_excel(f2)"
   ]
  },
  {
   "cell_type": "code",
   "execution_count": 6,
   "metadata": {},
   "outputs": [
    {
     "name": "stdout",
     "output_type": "stream",
     "text": [
      "                 MSRM_DT  PLT_LNGTH  LEAF_LNGTH  LEAF_WDTH  STEM_THNS  \\\n",
      "0    2020-01-01 00:00:00        NaN         NaN        NaN        NaN   \n",
      "1    2020-01-01 01:00:00        NaN         NaN        NaN        NaN   \n",
      "2    2020-01-01 02:00:00        NaN         NaN        NaN        NaN   \n",
      "3    2020-01-01 03:00:00        NaN         NaN        NaN        NaN   \n",
      "4    2020-01-01 04:00:00        NaN         NaN        NaN        NaN   \n",
      "...                  ...        ...         ...        ...        ...   \n",
      "8779 2020-12-31 19:00:00        NaN         NaN        NaN        NaN   \n",
      "8780 2020-12-31 20:00:00        NaN         NaN        NaN        NaN   \n",
      "8781 2020-12-31 21:00:00        NaN         NaN        NaN        NaN   \n",
      "8782 2020-12-31 22:00:00        NaN         NaN        NaN        NaN   \n",
      "8783 2020-12-31 23:00:00        NaN         NaN        NaN        NaN   \n",
      "\n",
      "      INNER_TPRT  INNER_HMDT  INNER_CBDX_CTRN  INDVD_NO  \n",
      "0           14.1        63.0            776.0       NaN  \n",
      "1           13.6        65.9            744.0       NaN  \n",
      "2           12.9        67.3            725.0       NaN  \n",
      "3           12.7        67.3            766.0       NaN  \n",
      "4           12.0        64.3            774.0       NaN  \n",
      "...          ...         ...              ...       ...  \n",
      "8779         NaN         NaN              NaN       NaN  \n",
      "8780         NaN         NaN              NaN       NaN  \n",
      "8781         NaN         NaN              NaN       NaN  \n",
      "8782         NaN         NaN              NaN       NaN  \n",
      "8783         NaN         NaN              NaN       NaN  \n",
      "\n",
      "[8784 rows x 9 columns]\n"
     ]
    }
   ],
   "source": [
    "#'MSRM_DT'를 기준으로 그룹화하고 생육 변수의 평균을 계산\n",
    "df_aggregated = df2.groupby('MSRM_DT', as_index=False).agg({\n",
    "    'PLT_LNGTH': 'mean',\n",
    "    'LEAF_LNGTH': 'mean',\n",
    "    'LEAF_WDTH': 'mean',\n",
    "    'STEM_THNS': 'mean',\n",
    "    'INNER_TPRT': 'mean',\n",
    "    'INNER_HMDT': 'mean',\n",
    "    'INNER_CBDX_CTRN': 'mean',\n",
    "    'INDVD_NO': 'first'  # 개체번호는 첫 번째 값으로 유지\n",
    "})\n",
    "\n",
    "# 2. 결과 확인\n",
    "print(df_aggregated)\n",
    "\n",
    "df_aggregated.to_excel(\"C:\\\\Users\\\\kjhoe\\\\OneDrive\\\\바탕화~1-LAPTOP-VGOF9FJ7-25904429\\\\대외활동\\\\공모전\\\\2024 빅콘\\\\내부생육 수정.xlsx\"\n",
    ", index=False)"
   ]
  },
  {
   "cell_type": "code",
   "execution_count": null,
   "metadata": {},
   "outputs": [],
   "source": []
  },
  {
   "cell_type": "code",
   "execution_count": 7,
   "metadata": {},
   "outputs": [],
   "source": [
    "##"
   ]
  },
  {
   "cell_type": "code",
   "execution_count": null,
   "metadata": {},
   "outputs": [],
   "source": []
  }
 ],
 "metadata": {
  "kernelspec": {
   "display_name": "base",
   "language": "python",
   "name": "python3"
  },
  "language_info": {
   "codemirror_mode": {
    "name": "ipython",
    "version": 3
   },
   "file_extension": ".py",
   "mimetype": "text/x-python",
   "name": "python",
   "nbconvert_exporter": "python",
   "pygments_lexer": "ipython3",
   "version": "3.11.5"
  }
 },
 "nbformat": 4,
 "nbformat_minor": 2
}
