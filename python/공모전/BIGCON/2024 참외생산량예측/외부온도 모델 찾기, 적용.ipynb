{
 "cells": [
  {
   "cell_type": "code",
   "execution_count": 1,
   "metadata": {},
   "outputs": [],
   "source": [
    "import random\n",
    "import pandas as pd\n",
    "import numpy as np\n",
    "import os\n",
    "\n",
    "from sklearn.ensemble import RandomForestRegressor\n",
    "from sklearn.preprocessing import LabelEncoder\n",
    "\n",
    "import warnings\n",
    "warnings.filterwarnings(action='ignore')"
   ]
  },
  {
   "cell_type": "code",
   "execution_count": 2,
   "metadata": {},
   "outputs": [],
   "source": [
    "f1 = \"C:\\\\Users\\\\kjhoe\\\\OneDrive\\\\바탕화~1-LAPTOP-VGOF9FJ7-25904429\\\\대외활동\\\\공모전\\\\2024 빅콘\\\\개체번호, 연도 통합.xlsx\"\n",
    "df= pd.read_excel(f1, sheet_name='combined')"
   ]
  },
  {
   "cell_type": "code",
   "execution_count": 3,
   "metadata": {},
   "outputs": [],
   "source": [
    "def seed_everything(seed):\n",
    "    random.seed(seed)\n",
    "    os.environ['PYTHONHASHSEED'] = str(seed)\n",
    "    np.random.seed(seed)\n",
    "\n",
    "seed_everything(42) # Seed 고정"
   ]
  },
  {
   "cell_type": "code",
   "execution_count": 4,
   "metadata": {},
   "outputs": [
    {
     "name": "stdout",
     "output_type": "stream",
     "text": [
      "<class 'pandas.core.frame.DataFrame'>\n",
      "RangeIndex: 17544 entries, 0 to 17543\n",
      "Data columns (total 16 columns):\n",
      " #   Column           Non-Null Count  Dtype         \n",
      "---  ------           --------------  -----         \n",
      " 0   FARM_ID          17544 non-null  object        \n",
      " 1   MSRM_DT          17544 non-null  datetime64[ns]\n",
      " 2   AREA_TPRT        17539 non-null  float64       \n",
      " 3   AREA_HMDT        17517 non-null  float64       \n",
      " 4   AREA_WDSP        17544 non-null  float64       \n",
      " 5   INNER_TPRT       10100 non-null  float64       \n",
      " 6   INNER_HMDT       9615 non-null   float64       \n",
      " 7   INNER_CBDX_CTRN  7528 non-null   float64       \n",
      " 8   EXTN_TPRT        0 non-null      float64       \n",
      " 9   PLT_LNGTH        120 non-null    float64       \n",
      " 10  LEAF_LNGTH       1488 non-null   float64       \n",
      " 11  LEAF_WDTH        1488 non-null   float64       \n",
      " 12  STEM_THNS        1488 non-null   float64       \n",
      " 13  PLANT_AR_SQM     17544 non-null  int64         \n",
      " 14  SHPMN_QTY        2640 non-null   float64       \n",
      " 15  SHPMN_AMT        2640 non-null   float64       \n",
      "dtypes: datetime64[ns](1), float64(13), int64(1), object(1)\n",
      "memory usage: 2.1+ MB\n"
     ]
    }
   ],
   "source": [
    "df.info()"
   ]
  },
  {
   "cell_type": "code",
   "execution_count": 5,
   "metadata": {},
   "outputs": [],
   "source": [
    "# 날짜 컬럼을 datetime 형식으로 변환\n",
    "df['MSRM_DT'] = pd.to_datetime(df['MSRM_DT'])\n"
   ]
  },
  {
   "cell_type": "code",
   "execution_count": 6,
   "metadata": {},
   "outputs": [
    {
     "name": "stdout",
     "output_type": "stream",
     "text": [
      "결측치 비율:\n",
      " FARM_ID              0.000000\n",
      "MSRM_DT              0.000000\n",
      "AREA_TPRT            0.028500\n",
      "AREA_HMDT            0.153899\n",
      "AREA_WDSP            0.000000\n",
      "INNER_TPRT          42.430461\n",
      "INNER_HMDT          45.194938\n",
      "INNER_CBDX_CTRN     57.090743\n",
      "EXTN_TPRT          100.000000\n",
      "PLT_LNGTH           99.316005\n",
      "LEAF_LNGTH          91.518468\n",
      "LEAF_WDTH           91.518468\n",
      "STEM_THNS           91.518468\n",
      "PLANT_AR_SQM         0.000000\n",
      "SHPMN_QTY           84.952120\n",
      "SHPMN_AMT           84.952120\n",
      "dtype: float64\n"
     ]
    }
   ],
   "source": [
    "# 각 컬럼의 결측치 비율 확인\n",
    "missing_values = df.isnull().sum() / len(df) * 100\n",
    "print(\"결측치 비율:\\n\", missing_values)\n"
   ]
  },
  {
   "cell_type": "code",
   "execution_count": 7,
   "metadata": {},
   "outputs": [],
   "source": [
    "#MICE 이용하여 지역, 내부환경 결측값 채우기"
   ]
  },
  {
   "cell_type": "code",
   "execution_count": 8,
   "metadata": {},
   "outputs": [],
   "source": [
    "df2 = df.copy(deep=True)"
   ]
  },
  {
   "cell_type": "code",
   "execution_count": 9,
   "metadata": {},
   "outputs": [
    {
     "name": "stdout",
     "output_type": "stream",
     "text": [
      "<class 'pandas.core.frame.DataFrame'>\n",
      "RangeIndex: 17544 entries, 0 to 17543\n",
      "Data columns (total 16 columns):\n",
      " #   Column           Non-Null Count  Dtype         \n",
      "---  ------           --------------  -----         \n",
      " 0   FARM_ID          17544 non-null  object        \n",
      " 1   MSRM_DT          17544 non-null  datetime64[ns]\n",
      " 2   AREA_TPRT        17539 non-null  float64       \n",
      " 3   AREA_HMDT        17517 non-null  float64       \n",
      " 4   AREA_WDSP        17544 non-null  float64       \n",
      " 5   INNER_TPRT       10100 non-null  float64       \n",
      " 6   INNER_HMDT       9615 non-null   float64       \n",
      " 7   INNER_CBDX_CTRN  7528 non-null   float64       \n",
      " 8   EXTN_TPRT        0 non-null      float64       \n",
      " 9   PLT_LNGTH        120 non-null    float64       \n",
      " 10  LEAF_LNGTH       1488 non-null   float64       \n",
      " 11  LEAF_WDTH        1488 non-null   float64       \n",
      " 12  STEM_THNS        1488 non-null   float64       \n",
      " 13  PLANT_AR_SQM     17544 non-null  int64         \n",
      " 14  SHPMN_QTY        2640 non-null   float64       \n",
      " 15  SHPMN_AMT        2640 non-null   float64       \n",
      "dtypes: datetime64[ns](1), float64(13), int64(1), object(1)\n",
      "memory usage: 2.1+ MB\n"
     ]
    }
   ],
   "source": [
    "df2.info()"
   ]
  },
  {
   "cell_type": "code",
   "execution_count": 46,
   "metadata": {},
   "outputs": [
    {
     "name": "stdout",
     "output_type": "stream",
     "text": [
      "Evaluating performance for AREA_TPRT...\n",
      "MSE: 10.50634397927865\n",
      "RMSE: 3.24134909864375\n",
      "MAE: 1.28538396131081\n",
      "Evaluating performance for AREA_HMDT...\n",
      "MSE: 117.36257883754323\n",
      "RMSE: 10.833401074341484\n",
      "MAE: 4.367617277745367\n",
      "Evaluating performance for INNER_TPRT...\n",
      "MSE: 6.3165672538162045\n",
      "RMSE: 2.513278188704188\n",
      "MAE: 0.9929431520089682\n",
      "Evaluating performance for INNER_HMDT...\n",
      "MSE: 51.733554156781956\n",
      "RMSE: 7.192604129019055\n",
      "MAE: 2.85891968967636\n",
      "Evaluating performance for INNER_CBDX_CTRN...\n",
      "MSE: 13247.83113916402\n",
      "RMSE: 115.09922301720381\n",
      "MAE: 45.89280280765964\n"
     ]
    }
   ],
   "source": [
    "import pandas as pd\n",
    "import numpy as np\n",
    "from sklearn.experimental import enable_iterative_imputer\n",
    "from sklearn.impute import IterativeImputer\n",
    "from sklearn.metrics import mean_squared_error, mean_absolute_error\n",
    "import random\n",
    "\n",
    "# 결측값을 MICE 모델로 채우는 함수\n",
    "def fill_missing_with_mice(df, max_iter=100, random_state=0):\n",
    "    # IterativeImputer 초기화\n",
    "    imputer = IterativeImputer(max_iter=max_iter, random_state=random_state)\n",
    "\n",
    "    # 전체 데이터프레임에서 결측값 대체\n",
    "    imputed_data = imputer.fit_transform(df)\n",
    "\n",
    "    # 원래의 데이터프레임과 동일한 구조로 데이터프레임 생성\n",
    "    imputed_df = pd.DataFrame(imputed_data, columns=df.columns, index=df.index)\n",
    "\n",
    "    return imputed_df\n",
    "\n",
    "# 임의로 결측값 추가하는 함수\n",
    "def introduce_missing_values_randomly(df, missing_fraction=0.2, random_state=0):\n",
    "    np.random.seed(random_state)\n",
    "    df_with_missing = df.copy()\n",
    "\n",
    "    # 총 셀 수에서 결측값을 추가할 개수 계산\n",
    "    total_cells = df.size\n",
    "    num_missing = int(total_cells * missing_fraction)\n",
    "\n",
    "    # 랜덤하게 결측치를 추가할 위치 선택\n",
    "    for _ in range(num_missing):\n",
    "        row = random.randint(0, df.shape[0] - 1)\n",
    "        col = random.randint(0, df.shape[1] - 1)\n",
    "        df_with_missing.iat[row, col] = np.nan\n",
    "\n",
    "    return df_with_missing\n",
    "\n",
    "# 환경 변수 리스트 (사용자가 제공한 변수)\n",
    "env_vars = ['AREA_TPRT', 'AREA_HMDT', 'INNER_TPRT', 'INNER_HMDT', 'INNER_CBDX_CTRN']\n",
    "\n",
    "# 결측치가 없는 행만 필터링\n",
    "df_no_missing = df2[env_vars].dropna()\n",
    "\n",
    "# 결측치 없는 데이터에서 일부 값을 임의로 결측치로 변환\n",
    "df_with_random_missing = introduce_missing_values_randomly(df_no_missing, missing_fraction=0.3)\n",
    "\n",
    "# MICE로 결측치를 채움\n",
    "df_imputed = fill_missing_with_mice(df_with_random_missing)\n",
    "# 결측치 없는 데이터의 인덱스를 원본 데이터에서 추출\n",
    "selected_indices = df_no_missing.index\n",
    "\n",
    "# 원본 데이터 df2에서 필터링된 인덱스만 뽑아 새로운 df3 생성\n",
    "df3 = df2.loc[selected_indices]\n",
    "\n",
    "def evaluate_performance(original_series, imputed_series):\n",
    "\n",
    "    original_values = original_series\n",
    "    imputed_values = imputed_series\n",
    "\n",
    "    mse = mean_squared_error(original_values, imputed_values)\n",
    "    rmse = np.sqrt(mse)\n",
    "    mae = mean_absolute_error(original_values, imputed_values)\n",
    "\n",
    "    # 평가 결과 출력\n",
    "    print(f'MSE: {mse}')\n",
    "    print(f'RMSE: {rmse}')\n",
    "    print(f'MAE: {mae}')\n",
    "\n",
    "# 각 변수에 대해 성능 평가\n",
    "for var in env_vars:\n",
    "    print(f\"Evaluating performance for {var}...\")\n",
    "\n",
    "    # 성능 평가 (임의로 결측치로 만든 값들에 대해 원래 값과 대체된 값 비교)\n",
    "    evaluate_performance(df3[var], df_imputed[var])\n"
   ]
  },
  {
   "cell_type": "code",
   "execution_count": 47,
   "metadata": {},
   "outputs": [
    {
     "data": {
      "text/html": [
       "<div>\n",
       "<style scoped>\n",
       "    .dataframe tbody tr th:only-of-type {\n",
       "        vertical-align: middle;\n",
       "    }\n",
       "\n",
       "    .dataframe tbody tr th {\n",
       "        vertical-align: top;\n",
       "    }\n",
       "\n",
       "    .dataframe thead th {\n",
       "        text-align: right;\n",
       "    }\n",
       "</style>\n",
       "<table border=\"1\" class=\"dataframe\">\n",
       "  <thead>\n",
       "    <tr style=\"text-align: right;\">\n",
       "      <th></th>\n",
       "      <th>AREA_TPRT</th>\n",
       "      <th>AREA_HMDT</th>\n",
       "      <th>INNER_TPRT</th>\n",
       "      <th>INNER_HMDT</th>\n",
       "      <th>INNER_CBDX_CTRN</th>\n",
       "    </tr>\n",
       "  </thead>\n",
       "  <tbody>\n",
       "    <tr>\n",
       "      <th>180</th>\n",
       "      <td>3.400000</td>\n",
       "      <td>54.406624</td>\n",
       "      <td>22.1</td>\n",
       "      <td>72.000000</td>\n",
       "      <td>765.0</td>\n",
       "    </tr>\n",
       "    <tr>\n",
       "      <th>181</th>\n",
       "      <td>4.100000</td>\n",
       "      <td>33.000000</td>\n",
       "      <td>34.3</td>\n",
       "      <td>87.000000</td>\n",
       "      <td>601.0</td>\n",
       "    </tr>\n",
       "    <tr>\n",
       "      <th>182</th>\n",
       "      <td>4.200000</td>\n",
       "      <td>28.000000</td>\n",
       "      <td>40.6</td>\n",
       "      <td>61.000000</td>\n",
       "      <td>985.0</td>\n",
       "    </tr>\n",
       "    <tr>\n",
       "      <th>183</th>\n",
       "      <td>4.400000</td>\n",
       "      <td>24.000000</td>\n",
       "      <td>35.7</td>\n",
       "      <td>28.946526</td>\n",
       "      <td>868.0</td>\n",
       "    </tr>\n",
       "    <tr>\n",
       "      <th>184</th>\n",
       "      <td>3.500000</td>\n",
       "      <td>29.000000</td>\n",
       "      <td>27.8</td>\n",
       "      <td>58.000000</td>\n",
       "      <td>813.0</td>\n",
       "    </tr>\n",
       "    <tr>\n",
       "      <th>...</th>\n",
       "      <td>...</td>\n",
       "      <td>...</td>\n",
       "      <td>...</td>\n",
       "      <td>...</td>\n",
       "      <td>...</td>\n",
       "    </tr>\n",
       "    <tr>\n",
       "      <th>14241</th>\n",
       "      <td>28.100000</td>\n",
       "      <td>94.000000</td>\n",
       "      <td>24.8</td>\n",
       "      <td>95.300000</td>\n",
       "      <td>632.0</td>\n",
       "    </tr>\n",
       "    <tr>\n",
       "      <th>14242</th>\n",
       "      <td>22.074922</td>\n",
       "      <td>78.000000</td>\n",
       "      <td>25.0</td>\n",
       "      <td>96.700000</td>\n",
       "      <td>858.0</td>\n",
       "    </tr>\n",
       "    <tr>\n",
       "      <th>14243</th>\n",
       "      <td>18.543066</td>\n",
       "      <td>71.000000</td>\n",
       "      <td>26.1</td>\n",
       "      <td>69.891969</td>\n",
       "      <td>944.0</td>\n",
       "    </tr>\n",
       "    <tr>\n",
       "      <th>14244</th>\n",
       "      <td>32.100000</td>\n",
       "      <td>64.000000</td>\n",
       "      <td>28.2</td>\n",
       "      <td>89.500000</td>\n",
       "      <td>937.0</td>\n",
       "    </tr>\n",
       "    <tr>\n",
       "      <th>14255</th>\n",
       "      <td>27.000000</td>\n",
       "      <td>61.678197</td>\n",
       "      <td>35.3</td>\n",
       "      <td>63.500000</td>\n",
       "      <td>575.0</td>\n",
       "    </tr>\n",
       "  </tbody>\n",
       "</table>\n",
       "<p>7295 rows × 5 columns</p>\n",
       "</div>"
      ],
      "text/plain": [
       "       AREA_TPRT  AREA_HMDT  INNER_TPRT  INNER_HMDT  INNER_CBDX_CTRN\n",
       "180     3.400000  54.406624        22.1   72.000000            765.0\n",
       "181     4.100000  33.000000        34.3   87.000000            601.0\n",
       "182     4.200000  28.000000        40.6   61.000000            985.0\n",
       "183     4.400000  24.000000        35.7   28.946526            868.0\n",
       "184     3.500000  29.000000        27.8   58.000000            813.0\n",
       "...          ...        ...         ...         ...              ...\n",
       "14241  28.100000  94.000000        24.8   95.300000            632.0\n",
       "14242  22.074922  78.000000        25.0   96.700000            858.0\n",
       "14243  18.543066  71.000000        26.1   69.891969            944.0\n",
       "14244  32.100000  64.000000        28.2   89.500000            937.0\n",
       "14255  27.000000  61.678197        35.3   63.500000            575.0\n",
       "\n",
       "[7295 rows x 5 columns]"
      ]
     },
     "execution_count": 47,
     "metadata": {},
     "output_type": "execute_result"
    }
   ],
   "source": [
    "df_imputed"
   ]
  },
  {
   "cell_type": "code",
   "execution_count": 48,
   "metadata": {},
   "outputs": [
    {
     "name": "stdout",
     "output_type": "stream",
     "text": [
      "<class 'pandas.core.frame.DataFrame'>\n",
      "Index: 7295 entries, 180 to 14255\n",
      "Data columns (total 5 columns):\n",
      " #   Column           Non-Null Count  Dtype  \n",
      "---  ------           --------------  -----  \n",
      " 0   AREA_TPRT        7295 non-null   float64\n",
      " 1   AREA_HMDT        7295 non-null   float64\n",
      " 2   INNER_TPRT       7295 non-null   float64\n",
      " 3   INNER_HMDT       7295 non-null   float64\n",
      " 4   INNER_CBDX_CTRN  7295 non-null   float64\n",
      "dtypes: float64(5)\n",
      "memory usage: 342.0 KB\n"
     ]
    }
   ],
   "source": [
    "df_imputed.info()"
   ]
  },
  {
   "cell_type": "code",
   "execution_count": 49,
   "metadata": {},
   "outputs": [],
   "source": [
    "df4 = df.copy(deep=True)"
   ]
  },
  {
   "cell_type": "code",
   "execution_count": 50,
   "metadata": {},
   "outputs": [
    {
     "name": "stdout",
     "output_type": "stream",
     "text": [
      "Data After Imputing Missing Values for Selected Columns with MICE:\n",
      "              FARM_ID             MSRM_DT  AREA_TPRT  AREA_HMDT  AREA_WDSP  \\\n",
      "0  GBE_KRMLN_002000at 2019-01-01 00:00:00       -1.9       50.0        1.6   \n",
      "1  GBE_KRMLN_002000at 2019-01-01 01:00:00       -3.2       54.0        1.7   \n",
      "2  GBE_KRMLN_002000at 2019-01-01 02:00:00       -2.5       62.0        2.1   \n",
      "3  GBE_KRMLN_002000at 2019-01-01 03:00:00       -2.5       62.0        1.6   \n",
      "4  GBE_KRMLN_002000at 2019-01-01 04:00:00       -3.6       67.0        0.8   \n",
      "\n",
      "   INNER_TPRT  INNER_HMDT  INNER_CBDX_CTRN  EXTN_TPRT  PLT_LNGTH  LEAF_LNGTH  \\\n",
      "0        19.1        87.0       840.911874        NaN        NaN         NaN   \n",
      "1        18.8        87.0       856.601990        NaN        NaN         NaN   \n",
      "2        18.5        87.0       871.298626        NaN        NaN         NaN   \n",
      "3        18.1        87.0       878.309889        NaN        NaN         NaN   \n",
      "4        17.8        88.0       893.520363        NaN        NaN         NaN   \n",
      "\n",
      "   LEAF_WDTH  STEM_THNS  PLANT_AR_SQM  SHPMN_QTY  SHPMN_AMT  \n",
      "0        NaN        NaN         19800        NaN        NaN  \n",
      "1        NaN        NaN         19800        NaN        NaN  \n",
      "2        NaN        NaN         19800        NaN        NaN  \n",
      "3        NaN        NaN         19800        NaN        NaN  \n",
      "4        NaN        NaN         19800        NaN        NaN  \n"
     ]
    }
   ],
   "source": [
    "import pandas as pd\n",
    "from sklearn.experimental import enable_iterative_imputer  # Required to enable the IterativeImputer\n",
    "from sklearn.impute import IterativeImputer\n",
    "\n",
    "# Defining the environmental variables\n",
    "env_vars = ['AREA_TPRT', 'AREA_HMDT', 'INNER_TPRT', 'INNER_HMDT', 'INNER_CBDX_CTRN']\n",
    "\n",
    "# Applying MICE using IterativeImputer only to the selected columns\n",
    "imputer = IterativeImputer(max_iter=10, random_state=0)\n",
    "\n",
    "# Fit the imputer on env_vars and transform the data\n",
    "imputed_values = imputer.fit_transform(df2[env_vars])\n",
    "\n",
    "# Update the original DataFrame with the imputed values for the specified columns\n",
    "df4[env_vars] = imputed_values\n",
    "\n",
    "# Results\n",
    "print(\"Data After Imputing Missing Values for Selected Columns with MICE:\")\n",
    "print(df4.head())"
   ]
  },
  {
   "cell_type": "code",
   "execution_count": 51,
   "metadata": {},
   "outputs": [
    {
     "name": "stdout",
     "output_type": "stream",
     "text": [
      "결측치 비율:\n",
      " FARM_ID              0.000000\n",
      "MSRM_DT              0.000000\n",
      "AREA_TPRT            0.000000\n",
      "AREA_HMDT            0.000000\n",
      "AREA_WDSP            0.000000\n",
      "INNER_TPRT           0.000000\n",
      "INNER_HMDT           0.000000\n",
      "INNER_CBDX_CTRN      0.000000\n",
      "EXTN_TPRT          100.000000\n",
      "PLT_LNGTH           99.316005\n",
      "LEAF_LNGTH          91.518468\n",
      "LEAF_WDTH           91.518468\n",
      "STEM_THNS           91.518468\n",
      "PLANT_AR_SQM         0.000000\n",
      "SHPMN_QTY           84.952120\n",
      "SHPMN_AMT           84.952120\n",
      "dtype: float64\n"
     ]
    }
   ],
   "source": [
    "# 각 컬럼의 결측치 비율 확인\n",
    "missing_values = df4.isnull().sum() / len(df) * 100\n",
    "print(\"결측치 비율:\\n\", missing_values)"
   ]
  },
  {
   "cell_type": "code",
   "execution_count": null,
   "metadata": {},
   "outputs": [],
   "source": []
  },
  {
   "cell_type": "code",
   "execution_count": null,
   "metadata": {},
   "outputs": [],
   "source": []
  }
 ],
 "metadata": {
  "kernelspec": {
   "display_name": "base",
   "language": "python",
   "name": "python3"
  },
  "language_info": {
   "codemirror_mode": {
    "name": "ipython",
    "version": 3
   },
   "file_extension": ".py",
   "mimetype": "text/x-python",
   "name": "python",
   "nbconvert_exporter": "python",
   "pygments_lexer": "ipython3",
   "version": "3.11.5"
  }
 },
 "nbformat": 4,
 "nbformat_minor": 2
}
