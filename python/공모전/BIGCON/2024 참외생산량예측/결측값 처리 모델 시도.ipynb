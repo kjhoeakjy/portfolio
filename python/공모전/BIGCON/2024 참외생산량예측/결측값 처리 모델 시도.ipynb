{
 "cells": [
  {
   "cell_type": "code",
   "execution_count": 1,
   "metadata": {},
   "outputs": [],
   "source": [
    "import random\n",
    "import pandas as pd\n",
    "import numpy as np\n",
    "import os\n",
    "\n",
    "from sklearn.ensemble import RandomForestRegressor\n",
    "from sklearn.preprocessing import LabelEncoder\n",
    "\n",
    "import warnings\n",
    "warnings.filterwarnings(action='ignore')"
   ]
  },
  {
   "cell_type": "code",
   "execution_count": 2,
   "metadata": {},
   "outputs": [],
   "source": [
    "f1 = \"C:\\\\Users\\\\kjhoe\\\\OneDrive\\\\바탕화~1-LAPTOP-VGOF9FJ7-25904429\\\\대외활동\\\\공모전\\\\2024 빅콘\\\\개체번호, 연도 통합.xlsx\"\n",
    "df= pd.read_excel(f1, sheet_name='combined')\n",
    "df_1 = pd.read_excel(f1, sheet_name='combined')\n",
    "df_2 = pd.read_excel(f1, sheet_name='combined')\n",
    "df_3 = pd.read_excel(f1, sheet_name='combined')\n",
    "df_4 = pd.read_excel(f1, sheet_name='combined')\n",
    "df_5 = pd.read_excel(f1, sheet_name='combined')\n",
    "df_6 = pd.read_excel(f1, sheet_name='combined')\n",
    "df_7 = pd.read_excel(f1, sheet_name='combined')\n",
    "df_8 = pd.read_excel(f1, sheet_name='combined')\n",
    "df_9 = pd.read_excel(f1, sheet_name='combined')\n",
    "df_10 = pd.read_excel(f1, sheet_name='combined')\n",
    "df_11 = pd.read_excel(f1, sheet_name='combined')\n",
    "df_12 = pd.read_excel(f1, sheet_name='combined')\n",
    "df_13 = pd.read_excel(f1, sheet_name='combined')"
   ]
  },
  {
   "cell_type": "code",
   "execution_count": 3,
   "metadata": {},
   "outputs": [],
   "source": [
    "def seed_everything(seed):\n",
    "    random.seed(seed)\n",
    "    os.environ['PYTHONHASHSEED'] = str(seed)\n",
    "    np.random.seed(seed)\n",
    "\n",
    "seed_everything(42) # Seed 고정"
   ]
  },
  {
   "cell_type": "code",
   "execution_count": 4,
   "metadata": {},
   "outputs": [
    {
     "name": "stdout",
     "output_type": "stream",
     "text": [
      "결측치 비율:\n",
      " MSRM_DT              0.000000\n",
      "AREA_TPRT            0.028500\n",
      "AREA_HMDT            0.153899\n",
      "AREA_WDSP            0.000000\n",
      "INNER_TPRT          42.430461\n",
      "INNER_HMDT          45.194938\n",
      "INNER_CBDX_CTRN     57.090743\n",
      "EXTN_TPRT          100.000000\n",
      "PLT_LNGTH           99.316005\n",
      "LEAF_LNGTH          91.518468\n",
      "LEAF_WDTH           91.518468\n",
      "STEM_THNS           91.518468\n",
      "SHPMN_QTY           84.952120\n",
      "SHPMN_AMT           84.952120\n",
      "dtype: float64\n"
     ]
    }
   ],
   "source": [
    "# 각 컬럼의 결측치 비율 확인\n",
    "missing_values = df.isnull().sum() / len(df) * 100\n",
    "print(\"결측치 비율:\\n\", missing_values)\n"
   ]
  },
  {
   "cell_type": "markdown",
   "metadata": {},
   "source": [
    "1.2 결측값 채우기- 지역환경, 내부환경 변수"
   ]
  },
  {
   "cell_type": "code",
   "execution_count": 5,
   "metadata": {},
   "outputs": [],
   "source": [
    "#ARIMA"
   ]
  },
  {
   "cell_type": "code",
   "execution_count": 6,
   "metadata": {},
   "outputs": [
    {
     "name": "stderr",
     "output_type": "stream",
     "text": [
      "c:\\Users\\kjhoe\\anaconda3\\Lib\\site-packages\\statsmodels\\tsa\\base\\tsa_model.py:473: ValueWarning: An unsupported index was provided and will be ignored when e.g. forecasting.\n",
      "  self._init_dates(dates, freq)\n",
      "c:\\Users\\kjhoe\\anaconda3\\Lib\\site-packages\\statsmodels\\tsa\\base\\tsa_model.py:473: ValueWarning: An unsupported index was provided and will be ignored when e.g. forecasting.\n",
      "  self._init_dates(dates, freq)\n",
      "c:\\Users\\kjhoe\\anaconda3\\Lib\\site-packages\\statsmodels\\tsa\\base\\tsa_model.py:473: ValueWarning: An unsupported index was provided and will be ignored when e.g. forecasting.\n",
      "  self._init_dates(dates, freq)\n",
      "c:\\Users\\kjhoe\\anaconda3\\Lib\\site-packages\\statsmodels\\tsa\\base\\tsa_model.py:836: ValueWarning: No supported index is available. Prediction results will be given with an integer index beginning at `start`.\n",
      "  return get_prediction_index(\n",
      "c:\\Users\\kjhoe\\anaconda3\\Lib\\site-packages\\statsmodels\\tsa\\base\\tsa_model.py:836: ValueWarning: No supported index is available. Prediction results will be given with an integer index beginning at `start`.\n",
      "  return get_prediction_index(\n"
     ]
    },
    {
     "name": "stdout",
     "output_type": "stream",
     "text": [
      "Performance for AREA_TPRT:\n",
      "Mean Squared Error: 12.04533669599647\n",
      "Root Mean Squared Error: 3.4706392344921806\n",
      "\n"
     ]
    },
    {
     "name": "stderr",
     "output_type": "stream",
     "text": [
      "c:\\Users\\kjhoe\\anaconda3\\Lib\\site-packages\\statsmodels\\tsa\\base\\tsa_model.py:473: ValueWarning: An unsupported index was provided and will be ignored when e.g. forecasting.\n",
      "  self._init_dates(dates, freq)\n",
      "c:\\Users\\kjhoe\\anaconda3\\Lib\\site-packages\\statsmodels\\tsa\\base\\tsa_model.py:473: ValueWarning: An unsupported index was provided and will be ignored when e.g. forecasting.\n",
      "  self._init_dates(dates, freq)\n",
      "c:\\Users\\kjhoe\\anaconda3\\Lib\\site-packages\\statsmodels\\tsa\\base\\tsa_model.py:473: ValueWarning: An unsupported index was provided and will be ignored when e.g. forecasting.\n",
      "  self._init_dates(dates, freq)\n",
      "c:\\Users\\kjhoe\\anaconda3\\Lib\\site-packages\\statsmodels\\tsa\\base\\tsa_model.py:836: ValueWarning: No supported index is available. Prediction results will be given with an integer index beginning at `start`.\n",
      "  return get_prediction_index(\n",
      "c:\\Users\\kjhoe\\anaconda3\\Lib\\site-packages\\statsmodels\\tsa\\base\\tsa_model.py:836: ValueWarning: No supported index is available. Prediction results will be given with an integer index beginning at `start`.\n",
      "  return get_prediction_index(\n"
     ]
    },
    {
     "name": "stdout",
     "output_type": "stream",
     "text": [
      "Performance for AREA_HMDT:\n",
      "Mean Squared Error: 261.3080969074286\n",
      "Root Mean Squared Error: 16.16502696896694\n",
      "\n"
     ]
    },
    {
     "name": "stderr",
     "output_type": "stream",
     "text": [
      "c:\\Users\\kjhoe\\anaconda3\\Lib\\site-packages\\statsmodels\\tsa\\base\\tsa_model.py:473: ValueWarning: An unsupported index was provided and will be ignored when e.g. forecasting.\n",
      "  self._init_dates(dates, freq)\n",
      "c:\\Users\\kjhoe\\anaconda3\\Lib\\site-packages\\statsmodels\\tsa\\base\\tsa_model.py:473: ValueWarning: An unsupported index was provided and will be ignored when e.g. forecasting.\n",
      "  self._init_dates(dates, freq)\n",
      "c:\\Users\\kjhoe\\anaconda3\\Lib\\site-packages\\statsmodels\\tsa\\base\\tsa_model.py:473: ValueWarning: An unsupported index was provided and will be ignored when e.g. forecasting.\n",
      "  self._init_dates(dates, freq)\n",
      "c:\\Users\\kjhoe\\anaconda3\\Lib\\site-packages\\statsmodels\\tsa\\base\\tsa_model.py:836: ValueWarning: No supported index is available. Prediction results will be given with an integer index beginning at `start`.\n",
      "  return get_prediction_index(\n",
      "c:\\Users\\kjhoe\\anaconda3\\Lib\\site-packages\\statsmodels\\tsa\\base\\tsa_model.py:836: ValueWarning: No supported index is available. Prediction results will be given with an integer index beginning at `start`.\n",
      "  return get_prediction_index(\n"
     ]
    },
    {
     "name": "stdout",
     "output_type": "stream",
     "text": [
      "Performance for INNER_TPRT:\n",
      "Mean Squared Error: 35.012559620562676\n",
      "Root Mean Squared Error: 5.917141169565137\n",
      "\n"
     ]
    },
    {
     "name": "stderr",
     "output_type": "stream",
     "text": [
      "c:\\Users\\kjhoe\\anaconda3\\Lib\\site-packages\\statsmodels\\tsa\\base\\tsa_model.py:473: ValueWarning: An unsupported index was provided and will be ignored when e.g. forecasting.\n",
      "  self._init_dates(dates, freq)\n",
      "c:\\Users\\kjhoe\\anaconda3\\Lib\\site-packages\\statsmodels\\tsa\\base\\tsa_model.py:473: ValueWarning: An unsupported index was provided and will be ignored when e.g. forecasting.\n",
      "  self._init_dates(dates, freq)\n",
      "c:\\Users\\kjhoe\\anaconda3\\Lib\\site-packages\\statsmodels\\tsa\\base\\tsa_model.py:473: ValueWarning: An unsupported index was provided and will be ignored when e.g. forecasting.\n",
      "  self._init_dates(dates, freq)\n",
      "c:\\Users\\kjhoe\\anaconda3\\Lib\\site-packages\\statsmodels\\tsa\\base\\tsa_model.py:836: ValueWarning: No supported index is available. Prediction results will be given with an integer index beginning at `start`.\n",
      "  return get_prediction_index(\n",
      "c:\\Users\\kjhoe\\anaconda3\\Lib\\site-packages\\statsmodels\\tsa\\base\\tsa_model.py:836: ValueWarning: No supported index is available. Prediction results will be given with an integer index beginning at `start`.\n",
      "  return get_prediction_index(\n"
     ]
    },
    {
     "name": "stdout",
     "output_type": "stream",
     "text": [
      "Performance for INNER_HMDT:\n",
      "Mean Squared Error: 522.783218291666\n",
      "Root Mean Squared Error: 22.864453159690175\n",
      "\n"
     ]
    },
    {
     "name": "stderr",
     "output_type": "stream",
     "text": [
      "c:\\Users\\kjhoe\\anaconda3\\Lib\\site-packages\\statsmodels\\tsa\\base\\tsa_model.py:473: ValueWarning: An unsupported index was provided and will be ignored when e.g. forecasting.\n",
      "  self._init_dates(dates, freq)\n",
      "c:\\Users\\kjhoe\\anaconda3\\Lib\\site-packages\\statsmodels\\tsa\\base\\tsa_model.py:473: ValueWarning: An unsupported index was provided and will be ignored when e.g. forecasting.\n",
      "  self._init_dates(dates, freq)\n",
      "c:\\Users\\kjhoe\\anaconda3\\Lib\\site-packages\\statsmodels\\tsa\\base\\tsa_model.py:473: ValueWarning: An unsupported index was provided and will be ignored when e.g. forecasting.\n",
      "  self._init_dates(dates, freq)\n",
      "c:\\Users\\kjhoe\\anaconda3\\Lib\\site-packages\\statsmodels\\tsa\\base\\tsa_model.py:836: ValueWarning: No supported index is available. Prediction results will be given with an integer index beginning at `start`.\n",
      "  return get_prediction_index(\n",
      "c:\\Users\\kjhoe\\anaconda3\\Lib\\site-packages\\statsmodels\\tsa\\base\\tsa_model.py:836: ValueWarning: No supported index is available. Prediction results will be given with an integer index beginning at `start`.\n",
      "  return get_prediction_index(\n"
     ]
    },
    {
     "name": "stdout",
     "output_type": "stream",
     "text": [
      "Performance for INNER_CBDX_CTRN:\n",
      "Mean Squared Error: 60415.96049390276\n",
      "Root Mean Squared Error: 245.79658356841082\n",
      "\n",
      "   AREA_TPRT  AREA_HMDT  INNER_TPRT  INNER_HMDT  INNER_CBDX_CTRN\n",
      "0       -1.9       50.0        19.1        87.0         0.000000\n",
      "1       -3.2       54.0        18.8        87.0       767.366314\n",
      "2       -2.5       62.0        18.5        87.0       577.774520\n",
      "3       -2.5       62.0        18.1        87.0      1064.589829\n",
      "4       -3.6       67.0        17.8        88.0       799.506240\n"
     ]
    }
   ],
   "source": [
    "import pandas as pd\n",
    "from statsmodels.tsa.arima.model import ARIMA\n",
    "from sklearn.metrics import mean_squared_error\n",
    "import numpy as np\n",
    "\n",
    "# 결측치를 채우는 함수 (ARIMA 사용)\n",
    "def fill_missing_with_arima(series, X, order=(5, 1, 0)):\n",
    "    # X에서 결측값이 없는 행만 추출\n",
    "    non_null_indices = X.dropna().index\n",
    "    series_non_null = series.loc[non_null_indices]\n",
    "\n",
    "    # 훈련 데이터와 테스트 데이터 분할\n",
    "    train_size = int(len(series_non_null) * 0.8)\n",
    "    train, test = series_non_null[:train_size], series_non_null[train_size:]\n",
    "\n",
    "    # ARIMA 모델 적용\n",
    "    model = ARIMA(train, order=order)\n",
    "    fit_model = model.fit()\n",
    "\n",
    "    # 모델을 이용해 테스트 데이터 예측\n",
    "    predictions = fit_model.predict(start=train_size, end=len(series_non_null)-1, dynamic=False)\n",
    "\n",
    "    # MSE 및 RMSE 평가\n",
    "    mse = mean_squared_error(test, predictions)\n",
    "    rmse = np.sqrt(mse)\n",
    "\n",
    "    print(f'Performance for {series.name}:')\n",
    "    print(f'Mean Squared Error: {mse}')\n",
    "    print(f'Root Mean Squared Error: {rmse}\\n')\n",
    "\n",
    "    # 예측된 값을 사용하여 결측값만 채우기\n",
    "    filled_series = series.copy()\n",
    "    filled_series.loc[series.isnull()] = fit_model.predict(start=0, end=len(series)-1, dynamic=False)[series.isnull()]\n",
    "\n",
    "    return filled_series\n",
    "\n",
    "# 환경 변수 리스트\n",
    "env_vars = ['AREA_TPRT', 'AREA_HMDT', 'INNER_TPRT', 'INNER_HMDT', 'INNER_CBDX_CTRN']\n",
    "\n",
    "# 각 변수의 결측치를 ARIMA 모델로 채움 및 성능 평가\n",
    "for var in env_vars:\n",
    "    df[var] = fill_missing_with_arima(df[var], df[['AREA_TPRT', 'AREA_HMDT', 'INNER_TPRT', 'INNER_HMDT', 'INNER_CBDX_CTRN']])\n",
    "\n",
    "# 결과 확인\n",
    "print(df[env_vars].head())\n"
   ]
  },
  {
   "cell_type": "code",
   "execution_count": 7,
   "metadata": {},
   "outputs": [],
   "source": [
    "#SARIMA (계절성 반영)"
   ]
  },
  {
   "cell_type": "code",
   "execution_count": 8,
   "metadata": {},
   "outputs": [],
   "source": [
    "import pandas as pd\n",
    "from statsmodels.tsa.statespace.sarimax import SARIMAX\n",
    "from sklearn.metrics import mean_squared_error\n",
    "import numpy as np\n",
    "\n",
    "\n",
    "# SARIMA를 사용하여 결측치를 채우는 함수\n",
    "def fill_missing_with_sarima(series, X, order=(1, 1, 1), seasonal_order=(1, 1, 1, 24)):\n",
    "    # X에서 결측값이 없는 행만 추출\n",
    "    non_null_indices = X.dropna().index\n",
    "    series_non_null = series.loc[non_null_indices]\n",
    "\n",
    "    # 훈련 데이터와 테스트 데이터 분할\n",
    "    train_size = int(len(series_non_null) * 0.8)\n",
    "    train, test = series_non_null[:train_size], series_non_null[train_size:]\n",
    "\n",
    "    # SARIMA 모델 적용\n",
    "    model = SARIMAX(train, order=order, seasonal_order=seasonal_order)\n",
    "    fit_model = model.fit(disp=False)\n",
    "\n",
    "    # 모델을 이용해 테스트 데이터 예측\n",
    "    predictions = fit_model.predict(start=train_size, end=len(series_non_null)-1, dynamic=False)\n",
    "\n",
    "    # MSE 및 RMSE 평가\n",
    "    mse = mean_squared_error(test, predictions)\n",
    "    rmse = np.sqrt(mse)\n",
    "\n",
    "    print(f'Performance for {series.name}:')\n",
    "    print(f'Mean Squared Error: {mse}')\n",
    "    print(f'Root Mean Squared Error: {rmse}\\n')\n",
    "\n",
    "    # 예측된 값을 사용하여 결측값만 채우기\n",
    "    filled_series = series.copy()\n",
    "    filled_series.loc[series.isnull()] = fit_model.predict(start=0, end=len(series)-1, dynamic=False)[series.isnull()]\n",
    "\n",
    "    return filled_series"
   ]
  },
  {
   "cell_type": "code",
   "execution_count": 9,
   "metadata": {},
   "outputs": [
    {
     "name": "stderr",
     "output_type": "stream",
     "text": [
      "c:\\Users\\kjhoe\\anaconda3\\Lib\\site-packages\\statsmodels\\tsa\\base\\tsa_model.py:473: ValueWarning: An unsupported index was provided and will be ignored when e.g. forecasting.\n",
      "  self._init_dates(dates, freq)\n",
      "c:\\Users\\kjhoe\\anaconda3\\Lib\\site-packages\\statsmodels\\tsa\\base\\tsa_model.py:473: ValueWarning: An unsupported index was provided and will be ignored when e.g. forecasting.\n",
      "  self._init_dates(dates, freq)\n",
      "c:\\Users\\kjhoe\\anaconda3\\Lib\\site-packages\\statsmodels\\tsa\\base\\tsa_model.py:836: ValueWarning: No supported index is available. Prediction results will be given with an integer index beginning at `start`.\n",
      "  return get_prediction_index(\n"
     ]
    },
    {
     "name": "stdout",
     "output_type": "stream",
     "text": [
      "Performance for AREA_TPRT:\n",
      "Mean Squared Error: 14.448310176121167\n",
      "Root Mean Squared Error: 3.8010932869532637\n",
      "\n"
     ]
    },
    {
     "name": "stderr",
     "output_type": "stream",
     "text": [
      "c:\\Users\\kjhoe\\anaconda3\\Lib\\site-packages\\statsmodels\\tsa\\base\\tsa_model.py:836: ValueWarning: No supported index is available. Prediction results will be given with an integer index beginning at `start`.\n",
      "  return get_prediction_index(\n",
      "c:\\Users\\kjhoe\\anaconda3\\Lib\\site-packages\\statsmodels\\tsa\\base\\tsa_model.py:473: ValueWarning: An unsupported index was provided and will be ignored when e.g. forecasting.\n",
      "  self._init_dates(dates, freq)\n",
      "c:\\Users\\kjhoe\\anaconda3\\Lib\\site-packages\\statsmodels\\tsa\\base\\tsa_model.py:473: ValueWarning: An unsupported index was provided and will be ignored when e.g. forecasting.\n",
      "  self._init_dates(dates, freq)\n",
      "c:\\Users\\kjhoe\\anaconda3\\Lib\\site-packages\\statsmodels\\tsa\\base\\tsa_model.py:836: ValueWarning: No supported index is available. Prediction results will be given with an integer index beginning at `start`.\n",
      "  return get_prediction_index(\n"
     ]
    },
    {
     "name": "stdout",
     "output_type": "stream",
     "text": [
      "Performance for AREA_HMDT:\n",
      "Mean Squared Error: 717.633565516666\n",
      "Root Mean Squared Error: 26.788683534594714\n",
      "\n"
     ]
    },
    {
     "name": "stderr",
     "output_type": "stream",
     "text": [
      "c:\\Users\\kjhoe\\anaconda3\\Lib\\site-packages\\statsmodels\\tsa\\base\\tsa_model.py:836: ValueWarning: No supported index is available. Prediction results will be given with an integer index beginning at `start`.\n",
      "  return get_prediction_index(\n",
      "c:\\Users\\kjhoe\\anaconda3\\Lib\\site-packages\\statsmodels\\tsa\\base\\tsa_model.py:473: ValueWarning: An unsupported index was provided and will be ignored when e.g. forecasting.\n",
      "  self._init_dates(dates, freq)\n",
      "c:\\Users\\kjhoe\\anaconda3\\Lib\\site-packages\\statsmodels\\tsa\\base\\tsa_model.py:473: ValueWarning: An unsupported index was provided and will be ignored when e.g. forecasting.\n",
      "  self._init_dates(dates, freq)\n",
      "c:\\Users\\kjhoe\\anaconda3\\Lib\\site-packages\\statsmodels\\tsa\\base\\tsa_model.py:836: ValueWarning: No supported index is available. Prediction results will be given with an integer index beginning at `start`.\n",
      "  return get_prediction_index(\n"
     ]
    },
    {
     "name": "stdout",
     "output_type": "stream",
     "text": [
      "Performance for INNER_TPRT:\n",
      "Mean Squared Error: 30.58166880187486\n",
      "Root Mean Squared Error: 5.53006951148671\n",
      "\n"
     ]
    },
    {
     "name": "stderr",
     "output_type": "stream",
     "text": [
      "c:\\Users\\kjhoe\\anaconda3\\Lib\\site-packages\\statsmodels\\tsa\\base\\tsa_model.py:836: ValueWarning: No supported index is available. Prediction results will be given with an integer index beginning at `start`.\n",
      "  return get_prediction_index(\n",
      "c:\\Users\\kjhoe\\anaconda3\\Lib\\site-packages\\statsmodels\\tsa\\base\\tsa_model.py:473: ValueWarning: An unsupported index was provided and will be ignored when e.g. forecasting.\n",
      "  self._init_dates(dates, freq)\n",
      "c:\\Users\\kjhoe\\anaconda3\\Lib\\site-packages\\statsmodels\\tsa\\base\\tsa_model.py:473: ValueWarning: An unsupported index was provided and will be ignored when e.g. forecasting.\n",
      "  self._init_dates(dates, freq)\n",
      "c:\\Users\\kjhoe\\anaconda3\\Lib\\site-packages\\statsmodels\\tsa\\base\\tsa_model.py:836: ValueWarning: No supported index is available. Prediction results will be given with an integer index beginning at `start`.\n",
      "  return get_prediction_index(\n"
     ]
    },
    {
     "name": "stdout",
     "output_type": "stream",
     "text": [
      "Performance for INNER_HMDT:\n",
      "Mean Squared Error: 253.66338892752034\n",
      "Root Mean Squared Error: 15.926813520837127\n",
      "\n"
     ]
    },
    {
     "name": "stderr",
     "output_type": "stream",
     "text": [
      "c:\\Users\\kjhoe\\anaconda3\\Lib\\site-packages\\statsmodels\\tsa\\base\\tsa_model.py:836: ValueWarning: No supported index is available. Prediction results will be given with an integer index beginning at `start`.\n",
      "  return get_prediction_index(\n",
      "c:\\Users\\kjhoe\\anaconda3\\Lib\\site-packages\\statsmodels\\tsa\\base\\tsa_model.py:473: ValueWarning: An unsupported index was provided and will be ignored when e.g. forecasting.\n",
      "  self._init_dates(dates, freq)\n",
      "c:\\Users\\kjhoe\\anaconda3\\Lib\\site-packages\\statsmodels\\tsa\\base\\tsa_model.py:473: ValueWarning: An unsupported index was provided and will be ignored when e.g. forecasting.\n",
      "  self._init_dates(dates, freq)\n",
      "c:\\Users\\kjhoe\\anaconda3\\Lib\\site-packages\\statsmodels\\tsa\\base\\tsa_model.py:836: ValueWarning: No supported index is available. Prediction results will be given with an integer index beginning at `start`.\n",
      "  return get_prediction_index(\n"
     ]
    },
    {
     "name": "stdout",
     "output_type": "stream",
     "text": [
      "Performance for INNER_CBDX_CTRN:\n",
      "Mean Squared Error: 34128.56783047432\n",
      "Root Mean Squared Error: 184.7391886700662\n",
      "\n"
     ]
    },
    {
     "name": "stderr",
     "output_type": "stream",
     "text": [
      "c:\\Users\\kjhoe\\anaconda3\\Lib\\site-packages\\statsmodels\\tsa\\base\\tsa_model.py:836: ValueWarning: No supported index is available. Prediction results will be given with an integer index beginning at `start`.\n",
      "  return get_prediction_index(\n"
     ]
    },
    {
     "name": "stdout",
     "output_type": "stream",
     "text": [
      "   AREA_TPRT  AREA_HMDT  INNER_TPRT  INNER_HMDT  INNER_CBDX_CTRN\n",
      "0       -1.9       50.0        19.1        87.0         0.000000\n",
      "1       -3.2       54.0        18.8        87.0       763.293140\n",
      "2       -2.5       62.0        18.5        87.0       600.372217\n",
      "3       -2.5       62.0        18.1        87.0       982.819605\n",
      "4       -3.6       67.0        17.8        88.0       866.796611\n"
     ]
    }
   ],
   "source": [
    "\n",
    "# 환경 변수 리스트\n",
    "env_vars = ['AREA_TPRT', 'AREA_HMDT', 'INNER_TPRT', 'INNER_HMDT', 'INNER_CBDX_CTRN']\n",
    "\n",
    "# 각 변수의 결측치를 SARIMA 모델로 채움 및 성능 평가\n",
    "for var in env_vars:\n",
    "    df_1[var] = fill_missing_with_sarima(df_1[var], df_1[['AREA_TPRT', 'AREA_HMDT', 'INNER_TPRT', 'INNER_HMDT', 'INNER_CBDX_CTRN']])\n",
    "\n",
    "# 결과 확인\n",
    "print(df_1[env_vars].head())"
   ]
  },
  {
   "cell_type": "code",
   "execution_count": 10,
   "metadata": {},
   "outputs": [],
   "source": [
    "#Prophet "
   ]
  },
  {
   "cell_type": "code",
   "execution_count": 11,
   "metadata": {},
   "outputs": [
    {
     "name": "stdout",
     "output_type": "stream",
     "text": [
      "              MSRM_DT  AREA_TPRT  AREA_HMDT  AREA_WDSP  INNER_TPRT  \\\n",
      "0 2019-01-01 00:00:00       -1.9       50.0        1.6        19.1   \n",
      "1 2019-01-01 01:00:00       -3.2       54.0        1.7        18.8   \n",
      "2 2019-01-01 02:00:00       -2.5       62.0        2.1        18.5   \n",
      "3 2019-01-01 03:00:00       -2.5       62.0        1.6        18.1   \n",
      "4 2019-01-01 04:00:00       -3.6       67.0        0.8        17.8   \n",
      "\n",
      "   INNER_HMDT  INNER_CBDX_CTRN  EXTN_TPRT  PLT_LNGTH  LEAF_LNGTH  LEAF_WDTH  \\\n",
      "0        87.0              NaN        NaN        NaN         NaN        NaN   \n",
      "1        87.0              NaN        NaN        NaN         NaN        NaN   \n",
      "2        87.0              NaN        NaN        NaN         NaN        NaN   \n",
      "3        87.0              NaN        NaN        NaN         NaN        NaN   \n",
      "4        88.0              NaN        NaN        NaN         NaN        NaN   \n",
      "\n",
      "   STEM_THNS  SHPMN_QTY  SHPMN_AMT  \n",
      "0        NaN        NaN        NaN  \n",
      "1        NaN        NaN        NaN  \n",
      "2        NaN        NaN        NaN  \n",
      "3        NaN        NaN        NaN  \n",
      "4        NaN        NaN        NaN  \n"
     ]
    }
   ],
   "source": [
    "print(df_3.head())"
   ]
  },
  {
   "cell_type": "code",
   "execution_count": 12,
   "metadata": {},
   "outputs": [],
   "source": [
    "#시간 변수만 사용해서 다섯개 한번에 예측"
   ]
  },
  {
   "cell_type": "code",
   "execution_count": 13,
   "metadata": {},
   "outputs": [
    {
     "name": "stdout",
     "output_type": "stream",
     "text": [
      "Evaluating performance for AREA_TPRT...\n"
     ]
    },
    {
     "name": "stderr",
     "output_type": "stream",
     "text": [
      "20:58:36 - cmdstanpy - INFO - Chain [1] start processing\n",
      "20:58:57 - cmdstanpy - INFO - Chain [1] done processing\n"
     ]
    },
    {
     "name": "stdout",
     "output_type": "stream",
     "text": [
      "MSE: 18.530782972106685\n",
      "RMSE: 4.30473959399482\n",
      "MAE: 3.502483792469257\n",
      "Evaluating performance for AREA_HMDT...\n"
     ]
    },
    {
     "name": "stderr",
     "output_type": "stream",
     "text": [
      "20:59:08 - cmdstanpy - INFO - Chain [1] start processing\n",
      "20:59:22 - cmdstanpy - INFO - Chain [1] done processing\n"
     ]
    },
    {
     "name": "stdout",
     "output_type": "stream",
     "text": [
      "MSE: 465.25297522229494\n",
      "RMSE: 21.569723577790583\n",
      "MAE: 17.954274222279064\n",
      "Evaluating performance for INNER_TPRT...\n"
     ]
    },
    {
     "name": "stderr",
     "output_type": "stream",
     "text": [
      "20:59:33 - cmdstanpy - INFO - Chain [1] start processing\n",
      "20:59:52 - cmdstanpy - INFO - Chain [1] done processing\n"
     ]
    },
    {
     "name": "stdout",
     "output_type": "stream",
     "text": [
      "MSE: 27.599309175056774\n",
      "RMSE: 5.253504466073744\n",
      "MAE: 3.5787568446799516\n",
      "Evaluating performance for INNER_HMDT...\n"
     ]
    },
    {
     "name": "stderr",
     "output_type": "stream",
     "text": [
      "21:00:03 - cmdstanpy - INFO - Chain [1] start processing\n",
      "21:00:36 - cmdstanpy - INFO - Chain [1] done processing\n"
     ]
    },
    {
     "name": "stdout",
     "output_type": "stream",
     "text": [
      "MSE: 192.96222391704202\n",
      "RMSE: 13.89108433193903\n",
      "MAE: 10.042067927755332\n",
      "Evaluating performance for INNER_CBDX_CTRN...\n"
     ]
    },
    {
     "name": "stderr",
     "output_type": "stream",
     "text": [
      "21:00:46 - cmdstanpy - INFO - Chain [1] start processing\n",
      "21:01:11 - cmdstanpy - INFO - Chain [1] done processing\n"
     ]
    },
    {
     "name": "stdout",
     "output_type": "stream",
     "text": [
      "MSE: 37733.32065593663\n",
      "RMSE: 194.25066449290884\n",
      "MAE: 130.2464427807088\n",
      "   AREA_TPRT  AREA_HMDT  INNER_TPRT  INNER_HMDT  INNER_CBDX_CTRN\n",
      "0       -1.9       50.0        19.1        87.0         0.000000\n",
      "1       -3.2       54.0        18.8        87.0       767.366314\n",
      "2       -2.5       62.0        18.5        87.0       577.774520\n",
      "3       -2.5       62.0        18.1        87.0      1064.589829\n",
      "4       -3.6       67.0        17.8        88.0       799.506240\n"
     ]
    }
   ],
   "source": [
    "import pandas as pd\n",
    "from prophet import Prophet\n",
    "from sklearn.metrics import mean_squared_error, mean_absolute_error\n",
    "import numpy as np\n",
    "\n",
    "# Prophet을 사용하여 결측값을 채우는 함수\n",
    "def fill_missing_with_prophet(series):\n",
    "    # 시리즈 데이터에서 결측값이 없는 부분만 Prophet 모델에 사용\n",
    "    series_non_null = series.dropna()\n",
    "    \n",
    "    # 데이터 준비: Prophet에 맞는 형식으로 변환\n",
    "    df_prophet = pd.DataFrame({\n",
    "        'ds': pd.to_datetime(series_non_null.index),  # 시간 데이터를 datetime 형식으로 변환\n",
    "        'y': series_non_null.values   # 관측값 (series)\n",
    "    })\n",
    "    \n",
    "    # Prophet 모델 초기화\n",
    "    model = Prophet(daily_seasonality=5, yearly_seasonality=20, weekly_seasonality=10)\n",
    "    \n",
    "    # 모델 학습\n",
    "    model.fit(df_prophet)\n",
    "    \n",
    "    # 전체 기간에 대해 예측 (datetime 형식으로 변환하여 Prophet에 전달)\n",
    "    future = pd.DataFrame({'ds': pd.to_datetime(series.index)})  # 결측값 포함한 전체 데이터의 시간 정보\n",
    "    forecast = model.predict(future)\n",
    "    \n",
    "    # 예측 결과에서 'yhat' 값 사용\n",
    "    predicted_values = forecast['yhat'].values\n",
    "    \n",
    "    # 결측값을 예측값으로 채우기\n",
    "    filled_series = series.copy()\n",
    "    filled_series[series.isnull()] = predicted_values[series.isnull()]\n",
    "    \n",
    "    return filled_series, predicted_values\n",
    "\n",
    "# 성능 평가 함수 (MSE, RMSE, MAE 계산)\n",
    "def evaluate_performance(original_series, predicted_values):\n",
    "    # 결측값이 아닌 부분에 대해 평가\n",
    "    mask = original_series.notnull()\n",
    "    \n",
    "    mse = mean_squared_error(original_series[mask], predicted_values[mask])\n",
    "    rmse = np.sqrt(mse)\n",
    "    mae = mean_absolute_error(original_series[mask], predicted_values[mask])\n",
    "    \n",
    "    print(f'MSE: {mse}')\n",
    "    print(f'RMSE: {rmse}')\n",
    "    print(f'MAE: {mae}')\n",
    "\n",
    "# 환경 변수 리스트 (사용자가 제공한 변수)\n",
    "env_vars = ['AREA_TPRT', 'AREA_HMDT', 'INNER_TPRT', 'INNER_HMDT', 'INNER_CBDX_CTRN']\n",
    "\n",
    "# 각 변수의 결측치를 Prophet 모델로 채움 및 성능 평가\n",
    "for var in env_vars:\n",
    "    print(f\"Evaluating performance for {var}...\")\n",
    "    \n",
    "    # 결측값을 Prophet으로 채우고, 예측된 전체 값을 반환\n",
    "    df_3[var], predicted_values = fill_missing_with_prophet(df[var])\n",
    "    \n",
    "    # 성능 평가\n",
    "    evaluate_performance(df[var], predicted_values)\n",
    "\n",
    "# 결과 확인\n",
    "print(df_3[env_vars].head())\n"
   ]
  },
  {
   "cell_type": "code",
   "execution_count": 14,
   "metadata": {},
   "outputs": [],
   "source": [
    "#다른 변수 동시에 고려해서 반응변수 하나씩 예측"
   ]
  },
  {
   "cell_type": "code",
   "execution_count": 15,
   "metadata": {},
   "outputs": [],
   "source": [
    "#prophet으로 변수 하나씩 예측해봄\n",
    "#우선 지역 온도의 결측값이 가장 적으니까 위에 있는 prophet에 결측값 없는 지역바람 추가해서 채움\n",
    "#채워진 지역온도랑 지역바람을 가지고 prophet에 regression 변수 추가해서 지역습도 예측. \n",
    "#지역온도, 지역습도, 지역바람으로 내부온도\n",
    "#지역온도, 지역습도, 지역바람, 내부온도로 내부습도\n",
    "#지역온도, 지역습도, 지역바람, 내부온도, 내부습도로 내부 이산화탄소\n",
    "#즉, 결측값이 적은 변수부터 차례대로 prophet에 예측변수 추가하면서 해봄\n"
   ]
  },
  {
   "cell_type": "code",
   "execution_count": 16,
   "metadata": {},
   "outputs": [],
   "source": [
    "#지역온도"
   ]
  },
  {
   "cell_type": "code",
   "execution_count": 17,
   "metadata": {},
   "outputs": [
    {
     "name": "stderr",
     "output_type": "stream",
     "text": [
      "21:01:22 - cmdstanpy - INFO - Chain [1] start processing\n",
      "21:01:49 - cmdstanpy - INFO - Chain [1] done processing\n"
     ]
    },
    {
     "name": "stdout",
     "output_type": "stream",
     "text": [
      "MSE: 16.96049612477112\n",
      "RMSE: 4.118312290826318\n",
      "MAE: 3.3205737744920985\n",
      "   AREA_TPRT\n",
      "0       -1.9\n",
      "1       -3.2\n",
      "2       -2.5\n",
      "3       -2.5\n",
      "4       -3.6\n"
     ]
    }
   ],
   "source": [
    "import pandas as pd\n",
    "from prophet import Prophet\n",
    "from sklearn.metrics import mean_squared_error, mean_absolute_error\n",
    "import numpy as np\n",
    "\n",
    "# Prophet을 사용하여 결측값을 채우는 함수\n",
    "def fill_missing_with_prophet(target_series, regressor_series):\n",
    "    # 결측값이 없는 행들만 Prophet 모델에 사용\n",
    "    non_null_indices = target_series.dropna().index\n",
    "    target_series_non_null = target_series.loc[non_null_indices]\n",
    "    regressor_non_null = regressor_series.loc[non_null_indices]\n",
    "\n",
    "    # Prophet에 맞는 형식으로 변환\n",
    "    df_prophet = pd.DataFrame({\n",
    "        'ds': pd.to_datetime(target_series_non_null.index),  # 시간 데이터를 datetime 형식으로 변환\n",
    "        'y': target_series_non_null.values,  # 예측할 목표 값 (지역 온도)\n",
    "        'regressor': regressor_non_null.values  # 예측 변수 \n",
    "    })\n",
    "\n",
    "    # Prophet 모델 초기화 (계절성 추가)\n",
    "    model = Prophet(daily_seasonality=5, yearly_seasonality=20, weekly_seasonality=10)\n",
    "    model.add_regressor('regressor')  # 예측 변수 추가\n",
    "\n",
    "    # 모델 학습\n",
    "    model.fit(df_prophet)\n",
    "\n",
    "    # 전체 기간에 대해 예측할 데이터 준비\n",
    "    future = pd.DataFrame({\n",
    "        'ds': pd.to_datetime(target_series.index),  # 전체 시간 데이터\n",
    "        'regressor': regressor_series.values  # 예측 변수 (AREA_WDSP)\n",
    "    })\n",
    "\n",
    "    # 전체 데이터를 대상으로 예측 수행\n",
    "    forecast = model.predict(future)\n",
    "\n",
    "    # 예측 결과에서 'yhat' 값 사용\n",
    "    predicted_values = forecast['yhat'].values\n",
    "\n",
    "    # 결측값만 Prophet 예측값으로 채우기\n",
    "    filled_series = target_series.copy()\n",
    "    filled_series[target_series.isnull()] = predicted_values[target_series.isnull()]\n",
    "\n",
    "    return filled_series, predicted_values\n",
    "\n",
    "# 성능 평가 함수 (MSE, RMSE, MAE 계산)\n",
    "def evaluate_performance(original_series, predicted_values):\n",
    "    # 결측값이 아닌 부분에 대해 평가\n",
    "    mask = original_series.notnull()\n",
    "    \n",
    "    mse = mean_squared_error(original_series[mask], predicted_values[mask])\n",
    "    rmse = np.sqrt(mse)\n",
    "    mae = mean_absolute_error(original_series[mask], predicted_values[mask])\n",
    "    \n",
    "    print(f'MSE: {mse}')\n",
    "    print(f'RMSE: {rmse}')\n",
    "    print(f'MAE: {mae}')\n",
    "\n",
    "# 반응 변수 (예측할 변수)와 예측 변수 설정\n",
    "target_var = 'AREA_TPRT'  # 반응 변수 (지역 온도)\n",
    "regressor_var = 'AREA_WDSP'  # 예측 변수 (풍속)\n",
    "\n",
    "# Prophet을 이용해 'AREA_TPRT'의 결측값 채우기\n",
    "df_4[target_var], predicted_values = fill_missing_with_prophet(df_4[target_var], df_4[regressor_var])\n",
    "\n",
    "# 성능 평가\n",
    "evaluate_performance(df_4[target_var], predicted_values)\n",
    "\n",
    "# 결과 확인\n",
    "print(df_4[[target_var]].head())\n"
   ]
  },
  {
   "cell_type": "code",
   "execution_count": 18,
   "metadata": {},
   "outputs": [],
   "source": [
    "#지역습도"
   ]
  },
  {
   "cell_type": "code",
   "execution_count": 19,
   "metadata": {},
   "outputs": [
    {
     "name": "stderr",
     "output_type": "stream",
     "text": [
      "21:01:55 - cmdstanpy - INFO - Chain [1] start processing\n",
      "21:02:11 - cmdstanpy - INFO - Chain [1] done processing\n"
     ]
    },
    {
     "name": "stdout",
     "output_type": "stream",
     "text": [
      "MSE: 295.99257585325984\n",
      "RMSE: 17.20443477285028\n",
      "MAE: 13.603791613244965\n",
      "   AREA_HMDT\n",
      "0       50.0\n",
      "1       54.0\n",
      "2       62.0\n",
      "3       62.0\n",
      "4       67.0\n"
     ]
    }
   ],
   "source": [
    "import pandas as pd\n",
    "from prophet import Prophet\n",
    "from sklearn.metrics import mean_squared_error, mean_absolute_error\n",
    "import numpy as np\n",
    "\n",
    "# Prophet을 사용하여 결측값을 채우는 함수\n",
    "def fill_missing_with_prophet(target_series, regressors_df):\n",
    "    # 결측값이 없는 행들만 Prophet 모델에 사용\n",
    "    non_null_indices = target_series.dropna().index\n",
    "    target_series_non_null = target_series.loc[non_null_indices]\n",
    "    regressors_non_null = regressors_df.loc[non_null_indices]\n",
    "\n",
    "    # Prophet에 맞는 형식으로 변환\n",
    "    df_prophet = pd.DataFrame({\n",
    "        'ds': pd.to_datetime(target_series_non_null.index),  # 시간 데이터를 datetime 형식으로 변환\n",
    "        'y': target_series_non_null.values  # 예측할 목표 값\n",
    "    })\n",
    "\n",
    "    # 각 부가 변수(regressor)를 추가\n",
    "    for col in regressors_df.columns:\n",
    "        df_prophet[col] = regressors_non_null[col].values\n",
    "\n",
    "    # Prophet 모델 초기화 (계절성 추가)\n",
    "    model = Prophet(daily_seasonality=5, yearly_seasonality=20, weekly_seasonality=10)\n",
    "\n",
    "    # 부가 변수(regressor) 추가\n",
    "    for col in regressors_df.columns:\n",
    "        model.add_regressor(col)\n",
    "\n",
    "    # 모델 학습\n",
    "    model.fit(df_prophet)\n",
    "\n",
    "    # 전체 기간에 대해 예측할 데이터 준비\n",
    "    future = pd.DataFrame({'ds': pd.to_datetime(target_series.index)})\n",
    "    for col in regressors_df.columns:\n",
    "        future[col] = regressors_df[col].values\n",
    "\n",
    "    # 예측 수행\n",
    "    forecast = model.predict(future)\n",
    "\n",
    "    # 예측 결과에서 'yhat' 값 사용\n",
    "    predicted_values = forecast['yhat'].values\n",
    "\n",
    "    # 결측값만 Prophet 예측값으로 채우기\n",
    "    filled_series = target_series.copy()\n",
    "    filled_series[target_series.isnull()] = predicted_values[target_series.isnull()]\n",
    "\n",
    "    return filled_series, predicted_values\n",
    "\n",
    "# 성능 평가 함수 (MSE, RMSE, MAE 계산)\n",
    "def evaluate_performance(original_series, predicted_values):\n",
    "    # 결측값이 아닌 부분에 대해 평가\n",
    "    mask = original_series.notnull()\n",
    "    \n",
    "    mse = mean_squared_error(original_series[mask], predicted_values[mask])\n",
    "    rmse = np.sqrt(mse)\n",
    "    mae = mean_absolute_error(original_series[mask], predicted_values[mask])\n",
    "    \n",
    "    print(f'MSE: {mse}')\n",
    "    print(f'RMSE: {rmse}')\n",
    "    print(f'MAE: {mae}')\n",
    "\n",
    "# 반응 변수 (예측할 변수)와 예측 변수 설정\n",
    "target_var = 'AREA_HMDT'  # 반응 변수 (지역 습도)\n",
    "regressors = ['AREA_WDSP', 'AREA_TPRT']  # 예측 변수\n",
    "\n",
    "# Prophet을 이용해 'AREA_HMDT'의 결측값 채우기\n",
    "df_4[target_var], predicted_values = fill_missing_with_prophet(df_4[target_var], df_4[regressors])\n",
    "\n",
    "# 성능 평가\n",
    "evaluate_performance(df_4[target_var], predicted_values)\n",
    "\n",
    "# 결과 확인\n",
    "print(df_4[[target_var]].head())\n"
   ]
  },
  {
   "cell_type": "code",
   "execution_count": 20,
   "metadata": {},
   "outputs": [],
   "source": [
    "#내부온도 "
   ]
  },
  {
   "cell_type": "code",
   "execution_count": 21,
   "metadata": {},
   "outputs": [
    {
     "name": "stderr",
     "output_type": "stream",
     "text": [
      "21:02:14 - cmdstanpy - INFO - Chain [1] start processing\n",
      "21:02:21 - cmdstanpy - INFO - Chain [1] done processing\n"
     ]
    },
    {
     "name": "stdout",
     "output_type": "stream",
     "text": [
      "MSE: 9.555232220152424\n",
      "RMSE: 3.0911538654930175\n",
      "MAE: 1.7921584877421906\n",
      "   INNER_TPRT\n",
      "0        19.1\n",
      "1        18.8\n",
      "2        18.5\n",
      "3        18.1\n",
      "4        17.8\n"
     ]
    }
   ],
   "source": [
    "import pandas as pd\n",
    "from prophet import Prophet\n",
    "from sklearn.metrics import mean_squared_error, mean_absolute_error\n",
    "import numpy as np\n",
    "\n",
    "# Prophet을 사용하여 결측값을 채우는 함수\n",
    "def fill_missing_with_prophet(target_series, regressors_df):\n",
    "    # 결측값이 없는 행들만 Prophet 모델에 사용\n",
    "    non_null_indices = target_series.dropna().index\n",
    "    target_series_non_null = target_series.loc[non_null_indices]\n",
    "    regressors_non_null = regressors_df.loc[non_null_indices]\n",
    "\n",
    "    # Prophet에 맞는 형식으로 변환\n",
    "    df_prophet = pd.DataFrame({\n",
    "        'ds': pd.to_datetime(target_series_non_null.index),  # 시간 데이터를 datetime 형식으로 변환\n",
    "        'y': target_series_non_null.values  # 예측할 목표 값 \n",
    "    })\n",
    "\n",
    "    # 각 부가 변수(regressor)를 추가\n",
    "    for col in regressors_df.columns:\n",
    "        df_prophet[col] = regressors_non_null[col].values\n",
    "\n",
    "    # Prophet 모델 초기화 (계절성 추가)\n",
    "    model = Prophet(daily_seasonality=5, yearly_seasonality=20, weekly_seasonality=10)\n",
    "\n",
    "    # 부가 변수(regressor) 추가\n",
    "    for col in regressors_df.columns:\n",
    "        model.add_regressor(col)\n",
    "\n",
    "    # 모델 학습\n",
    "    model.fit(df_prophet)\n",
    "\n",
    "    # 전체 기간에 대해 예측할 데이터 준비\n",
    "    future = pd.DataFrame({'ds': pd.to_datetime(target_series.index)})\n",
    "    for col in regressors_df.columns:\n",
    "        future[col] = regressors_df[col].values\n",
    "\n",
    "    # 예측 수행\n",
    "    forecast = model.predict(future)\n",
    "\n",
    "    # 예측 결과에서 'yhat' 값 사용\n",
    "    predicted_values = forecast['yhat'].values\n",
    "\n",
    "    # 결측값만 Prophet 예측값으로 채우기\n",
    "    filled_series = target_series.copy()\n",
    "    filled_series[target_series.isnull()] = predicted_values[target_series.isnull()]\n",
    "\n",
    "    return filled_series, predicted_values\n",
    "\n",
    "# 성능 평가 함수 (MSE, RMSE, MAE 계산)\n",
    "def evaluate_performance(original_series, predicted_values):\n",
    "    # 결측값이 아닌 부분에 대해 평가\n",
    "    mask = original_series.notnull()\n",
    "    \n",
    "    mse = mean_squared_error(original_series[mask], predicted_values[mask])\n",
    "    rmse = np.sqrt(mse)\n",
    "    mae = mean_absolute_error(original_series[mask], predicted_values[mask])\n",
    "    \n",
    "    print(f'MSE: {mse}')\n",
    "    print(f'RMSE: {rmse}')\n",
    "    print(f'MAE: {mae}')\n",
    "\n",
    "# 반응 변수 (예측할 변수)와 예측 변수 설정\n",
    "target_var = 'INNER_TPRT'  # 반응 변수 (내부 온도)\n",
    "regressors = ['AREA_WDSP', 'AREA_TPRT','AREA_HMDT']  # 예측 변수\n",
    "\n",
    "# Prophet을 이용해 'AREA_HMDT'의 결측값 채우기\n",
    "df_4[target_var], predicted_values = fill_missing_with_prophet(df_4[target_var], df_4[regressors])\n",
    "\n",
    "# 성능 평가\n",
    "evaluate_performance(df_4[target_var], predicted_values)\n",
    "\n",
    "# 결과 확인\n",
    "print(df_4[[target_var]].head())\n"
   ]
  },
  {
   "cell_type": "code",
   "execution_count": 22,
   "metadata": {},
   "outputs": [],
   "source": [
    "#내부습도"
   ]
  },
  {
   "cell_type": "code",
   "execution_count": 23,
   "metadata": {},
   "outputs": [
    {
     "name": "stderr",
     "output_type": "stream",
     "text": [
      "21:02:24 - cmdstanpy - INFO - Chain [1] start processing\n",
      "21:02:34 - cmdstanpy - INFO - Chain [1] done processing\n"
     ]
    },
    {
     "name": "stdout",
     "output_type": "stream",
     "text": [
      "MSE: 67.67577550254225\n",
      "RMSE: 8.226528763855521\n",
      "MAE: 4.669840311710617\n",
      "   INNER_HMDT\n",
      "0        87.0\n",
      "1        87.0\n",
      "2        87.0\n",
      "3        87.0\n",
      "4        88.0\n"
     ]
    }
   ],
   "source": [
    "import pandas as pd\n",
    "from prophet import Prophet\n",
    "from sklearn.metrics import mean_squared_error, mean_absolute_error\n",
    "import numpy as np\n",
    "\n",
    "# Prophet을 사용하여 결측값을 채우는 함수\n",
    "def fill_missing_with_prophet(target_series, regressors_df):\n",
    "    # 결측값이 없는 행들만 Prophet 모델에 사용\n",
    "    non_null_indices = target_series.dropna().index\n",
    "    target_series_non_null = target_series.loc[non_null_indices]\n",
    "    regressors_non_null = regressors_df.loc[non_null_indices]\n",
    "\n",
    "    # Prophet에 맞는 형식으로 변환\n",
    "    df_prophet = pd.DataFrame({\n",
    "        'ds': pd.to_datetime(target_series_non_null.index),  # 시간 데이터를 datetime 형식으로 변환\n",
    "        'y': target_series_non_null.values  # 예측할 목표 값 \n",
    "    })\n",
    "\n",
    "    # 각 부가 변수(regressor)를 추가\n",
    "    for col in regressors_df.columns:\n",
    "        df_prophet[col] = regressors_non_null[col].values\n",
    "\n",
    "    # Prophet 모델 초기화 (계절성 추가)\n",
    "    model = Prophet(daily_seasonality=5, yearly_seasonality=20, weekly_seasonality=10)\n",
    "\n",
    "    # 부가 변수(regressor) 추가\n",
    "    for col in regressors_df.columns:\n",
    "        model.add_regressor(col)\n",
    "\n",
    "    # 모델 학습\n",
    "    model.fit(df_prophet)\n",
    "\n",
    "    # 전체 기간에 대해 예측할 데이터 준비\n",
    "    future = pd.DataFrame({'ds': pd.to_datetime(target_series.index)})\n",
    "    for col in regressors_df.columns:\n",
    "        future[col] = regressors_df[col].values\n",
    "\n",
    "    # 예측 수행\n",
    "    forecast = model.predict(future)\n",
    "\n",
    "    # 예측 결과에서 'yhat' 값 사용\n",
    "    predicted_values = forecast['yhat'].values\n",
    "\n",
    "    # 결측값만 Prophet 예측값으로 채우기\n",
    "    filled_series = target_series.copy()\n",
    "    filled_series[target_series.isnull()] = predicted_values[target_series.isnull()]\n",
    "\n",
    "    return filled_series, predicted_values\n",
    "\n",
    "# 성능 평가 함수 (MSE, RMSE, MAE 계산)\n",
    "def evaluate_performance(original_series, predicted_values):\n",
    "    # 결측값이 아닌 부분에 대해 평가\n",
    "    mask = original_series.notnull()\n",
    "    \n",
    "    mse = mean_squared_error(original_series[mask], predicted_values[mask])\n",
    "    rmse = np.sqrt(mse)\n",
    "    mae = mean_absolute_error(original_series[mask], predicted_values[mask])\n",
    "    \n",
    "    print(f'MSE: {mse}')\n",
    "    print(f'RMSE: {rmse}')\n",
    "    print(f'MAE: {mae}')\n",
    "\n",
    "# 반응 변수 (예측할 변수)와 예측 변수 설정\n",
    "target_var = 'INNER_HMDT'  # 반응 변수 (내부 습도)\n",
    "regressors = ['AREA_WDSP', 'AREA_TPRT','AREA_HMDT','INNER_TPRT']  # 예측 변수\n",
    "\n",
    "# Prophet을 이용해 'AREA_HMDT'의 결측값 채우기\n",
    "df_4[target_var], predicted_values = fill_missing_with_prophet(df_4[target_var], df_4[regressors])\n",
    "\n",
    "# 성능 평가\n",
    "evaluate_performance(df_4[target_var], predicted_values)\n",
    "\n",
    "# 결과 확인\n",
    "print(df_4[[target_var]].head())\n"
   ]
  },
  {
   "cell_type": "code",
   "execution_count": 24,
   "metadata": {},
   "outputs": [],
   "source": [
    "#내부 이산화탄소"
   ]
  },
  {
   "cell_type": "code",
   "execution_count": 25,
   "metadata": {},
   "outputs": [
    {
     "name": "stderr",
     "output_type": "stream",
     "text": [
      "21:02:37 - cmdstanpy - INFO - Chain [1] start processing\n",
      "21:02:40 - cmdstanpy - INFO - Chain [1] done processing\n"
     ]
    },
    {
     "name": "stdout",
     "output_type": "stream",
     "text": [
      "MSE: 18053.27502513701\n",
      "RMSE: 134.36247625411275\n",
      "MAE: 67.69750711902722\n",
      "   INNER_CBDX_CTRN\n",
      "0       599.970101\n",
      "1       619.101362\n",
      "2       608.119516\n",
      "3       629.073283\n",
      "4       675.384569\n"
     ]
    }
   ],
   "source": [
    "import pandas as pd\n",
    "from prophet import Prophet\n",
    "from sklearn.metrics import mean_squared_error, mean_absolute_error\n",
    "import numpy as np\n",
    "\n",
    "# Prophet을 사용하여 결측값을 채우는 함수\n",
    "def fill_missing_with_prophet(target_series, regressors_df):\n",
    "    # 결측값이 없는 행들만 Prophet 모델에 사용\n",
    "    non_null_indices = target_series.dropna().index\n",
    "    target_series_non_null = target_series.loc[non_null_indices]\n",
    "    regressors_non_null = regressors_df.loc[non_null_indices]\n",
    "\n",
    "    # Prophet에 맞는 형식으로 변환\n",
    "    df_prophet = pd.DataFrame({\n",
    "        'ds': pd.to_datetime(target_series_non_null.index),  # 시간 데이터를 datetime 형식으로 변환\n",
    "        'y': target_series_non_null.values  # 예측할 목표 값 \n",
    "    })\n",
    "\n",
    "    # 각 부가 변수(regressor)를 추가\n",
    "    for col in regressors_df.columns:\n",
    "        df_prophet[col] = regressors_non_null[col].values\n",
    "\n",
    "    # Prophet 모델 초기화 (계절성 추가)\n",
    "    model = Prophet(daily_seasonality=5, yearly_seasonality=20, weekly_seasonality=10)\n",
    "\n",
    "    # 부가 변수(regressor) 추가\n",
    "    for col in regressors_df.columns:\n",
    "        model.add_regressor(col)\n",
    "\n",
    "    # 모델 학습\n",
    "    model.fit(df_prophet)\n",
    "\n",
    "    # 전체 기간에 대해 예측할 데이터 준비\n",
    "    future = pd.DataFrame({'ds': pd.to_datetime(target_series.index)})\n",
    "    for col in regressors_df.columns:\n",
    "        future[col] = regressors_df[col].values\n",
    "\n",
    "    # 예측 수행\n",
    "    forecast = model.predict(future)\n",
    "\n",
    "    # 예측 결과에서 'yhat' 값 사용\n",
    "    predicted_values = forecast['yhat'].values\n",
    "\n",
    "    # 결측값만 Prophet 예측값으로 채우기\n",
    "    filled_series = target_series.copy()\n",
    "    filled_series[target_series.isnull()] = predicted_values[target_series.isnull()]\n",
    "\n",
    "    return filled_series, predicted_values\n",
    "\n",
    "# 성능 평가 함수 (MSE, RMSE, MAE 계산)\n",
    "def evaluate_performance(original_series, predicted_values):\n",
    "    # 결측값이 아닌 부분에 대해 평가\n",
    "    mask = original_series.notnull()\n",
    "    \n",
    "    mse = mean_squared_error(original_series[mask], predicted_values[mask])\n",
    "    rmse = np.sqrt(mse)\n",
    "    mae = mean_absolute_error(original_series[mask], predicted_values[mask])\n",
    "    \n",
    "    print(f'MSE: {mse}')\n",
    "    print(f'RMSE: {rmse}')\n",
    "    print(f'MAE: {mae}')\n",
    "\n",
    "# 반응 변수 (예측할 변수)와 예측 변수 설정\n",
    "target_var = 'INNER_CBDX_CTRN'  # 반응 변수 (내부 습도)\n",
    "regressors = ['AREA_WDSP', 'AREA_TPRT','AREA_HMDT','INNER_TPRT','INNER_HMDT']  # 예측 변수\n",
    "\n",
    "# Prophet을 이용해 'AREA_HMDT'의 결측값 채우기\n",
    "df_4[target_var], predicted_values = fill_missing_with_prophet(df_4[target_var], df_4[regressors])\n",
    "\n",
    "# 성능 평가\n",
    "evaluate_performance(df_4[target_var], predicted_values)\n",
    "\n",
    "# 결과 확인\n",
    "print(df_4[[target_var]].head())\n"
   ]
  },
  {
   "cell_type": "code",
   "execution_count": 26,
   "metadata": {},
   "outputs": [],
   "source": [
    "#mice"
   ]
  },
  {
   "cell_type": "code",
   "execution_count": 27,
   "metadata": {},
   "outputs": [
    {
     "name": "stdout",
     "output_type": "stream",
     "text": [
      "Evaluating performance for AREA_TPRT...\n",
      "MSE: 10.913549659756843\n",
      "RMSE: 3.3035662033258606\n",
      "MAE: 1.2854044707325005\n",
      "Evaluating performance for AREA_HMDT...\n",
      "MSE: 119.89407671179328\n",
      "RMSE: 10.949615368212404\n",
      "MAE: 4.48876501841477\n",
      "Evaluating performance for INNER_TPRT...\n",
      "MSE: 6.3825551403885346\n",
      "RMSE: 2.5263719323149028\n",
      "MAE: 0.9810866131159129\n",
      "Evaluating performance for INNER_HMDT...\n",
      "MSE: 55.33116006402124\n",
      "RMSE: 7.438491786916299\n",
      "MAE: 2.9653706199698213\n",
      "Evaluating performance for INNER_CBDX_CTRN...\n",
      "MSE: 13494.000317213084\n",
      "RMSE: 116.16367899310474\n",
      "MAE: 46.4000285855504\n"
     ]
    }
   ],
   "source": [
    "import pandas as pd\n",
    "import numpy as np\n",
    "from sklearn.experimental import enable_iterative_imputer\n",
    "from sklearn.impute import IterativeImputer\n",
    "from sklearn.metrics import mean_squared_error, mean_absolute_error\n",
    "import random\n",
    "\n",
    "# 결측값을 MICE 모델로 채우는 함수\n",
    "def fill_missing_with_mice(df, max_iter=10, random_state=0):\n",
    "    # IterativeImputer 초기화\n",
    "    imputer = IterativeImputer(max_iter=max_iter, random_state=random_state)\n",
    "\n",
    "    # 전체 데이터프레임에서 결측값 대체\n",
    "    imputed_data = imputer.fit_transform(df)\n",
    "\n",
    "    # 원래의 데이터프레임과 동일한 구조로 데이터프레임 생성\n",
    "    imputed_df = pd.DataFrame(imputed_data, columns=df.columns, index=df.index)\n",
    "\n",
    "    return imputed_df\n",
    "\n",
    "# 임의로 결측값 추가하는 함수\n",
    "def introduce_missing_values_randomly(df, missing_fraction=0.3, random_state=0):\n",
    "    np.random.seed(random_state)\n",
    "    df_with_missing = df.copy()\n",
    "\n",
    "    # 총 셀 수에서 결측값을 추가할 개수 계산\n",
    "    total_cells = df.size\n",
    "    num_missing = int(total_cells * missing_fraction)\n",
    "\n",
    "    # 랜덤하게 결측치를 추가할 위치 선택\n",
    "    for _ in range(num_missing):\n",
    "        row = random.randint(0, df.shape[0] - 1)\n",
    "        col = random.randint(0, df.shape[1] - 1)\n",
    "        df_with_missing.iat[row, col] = np.nan\n",
    "\n",
    "    return df_with_missing\n",
    "\n",
    "# 환경 변수 리스트 (사용자가 제공한 변수)\n",
    "env_vars = ['AREA_TPRT', 'AREA_HMDT', 'INNER_TPRT', 'INNER_HMDT', 'INNER_CBDX_CTRN']\n",
    "\n",
    "# 결측치가 없는 행만 필터링\n",
    "df_no_missing = df_5[env_vars].dropna()\n",
    "\n",
    "# 결측치 없는 데이터에서 일부 값을 임의로 결측치로 변환\n",
    "df_with_random_missing = introduce_missing_values_randomly(df_no_missing, missing_fraction=0.3)\n",
    "\n",
    "# MICE로 결측치를 채움\n",
    "df_imputed = fill_missing_with_mice(df_with_random_missing)\n",
    "\n",
    "# 결측치 없는 데이터의 인덱스를 원본 데이터에서 추출\n",
    "selected_indices = df_no_missing.index\n",
    "\n",
    "# 원본 데이터 df2에서 필터링된 인덱스만 뽑아 새로운 df3 생성\n",
    "df1 = df_5.loc[selected_indices]\n",
    "\n",
    "def evaluate_performance(original_series, imputed_series):\n",
    "\n",
    "    original_values = original_series\n",
    "    imputed_values = imputed_series\n",
    "\n",
    "    mse = mean_squared_error(original_values, imputed_values)\n",
    "    rmse = np.sqrt(mse)\n",
    "    mae = mean_absolute_error(original_values, imputed_values)\n",
    "\n",
    "    # 평가 결과 출력\n",
    "    print(f'MSE: {mse}')\n",
    "    print(f'RMSE: {rmse}')\n",
    "    print(f'MAE: {mae}')\n",
    "\n",
    "# 각 변수에 대해 성능 평가\n",
    "for var in env_vars:\n",
    "    print(f\"Evaluating performance for {var}...\")\n",
    "\n",
    "    # 성능 평가 (임의로 결측치로 만든 값들에 대해 원래 값과 대체된 값 비교)\n",
    "    evaluate_performance(df1[var], df_imputed[var])\n"
   ]
  },
  {
   "cell_type": "code",
   "execution_count": 28,
   "metadata": {},
   "outputs": [],
   "source": [
    "# mice에 시계열 특성이랑 지역바람 추가. 반응변수는 지역온도. "
   ]
  },
  {
   "cell_type": "code",
   "execution_count": 29,
   "metadata": {},
   "outputs": [
    {
     "name": "stdout",
     "output_type": "stream",
     "text": [
      "결측값 개수:\n",
      "MSRM_DT                0\n",
      "AREA_TPRT              5\n",
      "AREA_HMDT             27\n",
      "INNER_TPRT          7444\n",
      "INNER_HMDT          7929\n",
      "INNER_CBDX_CTRN    10016\n",
      "dtype: int64\n",
      "보간된 데이터 샘플:\n",
      "   AREA_TPRT  AREA_HMDT  INNER_TPRT  INNER_HMDT  INNER_CBDX_CTRN\n",
      "0       -1.9       50.0        19.1        87.0       840.911874\n",
      "1       -3.2       54.0        18.8        87.0       856.601990\n",
      "2       -2.5       62.0        18.5        87.0       871.298626\n",
      "3       -2.5       62.0        18.1        87.0       878.309889\n",
      "4       -3.6       67.0        17.8        88.0       893.520363\n",
      "각 변수에 대한 평균 제곱 오차:\n",
      "{'AREA_TPRT': 0.0, 'AREA_HMDT': 0.0, 'INNER_TPRT': 0.0, 'INNER_HMDT': 0.0, 'INNER_CBDX_CTRN': 0.0}\n"
     ]
    }
   ],
   "source": [
    "import pandas as pd\n",
    "from fancyimpute import IterativeImputer\n",
    "from sklearn.metrics import mean_squared_error\n",
    "\n",
    "# 결측값이 있는 변수 선택\n",
    "columns_to_impute = ['AREA_TPRT', 'AREA_HMDT', 'INNER_TPRT', 'INNER_HMDT', 'INNER_CBDX_CTRN']\n",
    "X = df_6[['MSRM_DT'] + columns_to_impute].copy()\n",
    "\n",
    "# 원본 데이터의 복사본 생성\n",
    "original_values = X[columns_to_impute].copy()\n",
    "\n",
    "# 결측값 확인\n",
    "print(\"결측값 개수:\")\n",
    "print(X.isnull().sum())\n",
    "\n",
    "# 보간을 위해 F MSRM_DT 제거\n",
    "X_imputed = X.drop(['MSRM_DT'], axis=1)\n",
    "\n",
    "# MICE 초기화\n",
    "mice_imputer = IterativeImputer(max_iter=10, random_state=0)\n",
    "\n",
    "# 데이터에 맞춰 모델 학습 및 변환\n",
    "X_imputed = mice_imputer.fit_transform(X_imputed)\n",
    "\n",
    "# 보간된 값을 DataFrame으로 변환\n",
    "df_imputed = pd.DataFrame(X_imputed, columns=columns_to_impute)\n",
    "\n",
    "# 보간된 데이터 확인\n",
    "print(\"보간된 데이터 샘플:\")\n",
    "print(df_imputed.head())\n",
    "\n",
    "# 평균 제곱 오차 계산\n",
    "mse_scores = {}\n",
    "for col in columns_to_impute:\n",
    "    # 원본 값이 null이 아닌 경우만 평가\n",
    "    mask = original_values[col].notnull()\n",
    "    if mask.sum() > 0:  # 결측값이 있는 경우에만 MSE 계산\n",
    "        mse = mean_squared_error(original_values[col][mask], df_imputed[col][mask])\n",
    "        mse_scores[col] = mse\n",
    "\n",
    "print(\"각 변수에 대한 평균 제곱 오차:\")\n",
    "print(mse_scores)\n"
   ]
  },
  {
   "cell_type": "code",
   "execution_count": 30,
   "metadata": {},
   "outputs": [],
   "source": [
    "#뭔가 이상해서 다른 방법 씀"
   ]
  },
  {
   "cell_type": "code",
   "execution_count": 31,
   "metadata": {},
   "outputs": [
    {
     "name": "stdout",
     "output_type": "stream",
     "text": [
      "Evaluating performance for AREA_TPRT...\n",
      "MSE: 11.820897003624776\n",
      "RMSE: 3.438153138477804\n",
      "MAE: 1.3691962292384736\n",
      "Evaluating performance for AREA_HMDT...\n",
      "MSE: 121.52478265615628\n",
      "RMSE: 11.023827949317617\n",
      "MAE: 4.509975408473727\n",
      "Evaluating performance for INNER_TPRT...\n",
      "MSE: 6.258473160051069\n",
      "RMSE: 2.501694058043683\n",
      "MAE: 0.999070016848877\n",
      "Evaluating performance for INNER_HMDT...\n",
      "MSE: 49.656498842355234\n",
      "RMSE: 7.046736751316543\n",
      "MAE: 2.7469005048924355\n",
      "Evaluating performance for INNER_CBDX_CTRN...\n",
      "MSE: 14094.558235834515\n",
      "RMSE: 118.72050469836503\n",
      "MAE: 47.78833514763477\n"
     ]
    }
   ],
   "source": [
    "import pandas as pd\n",
    "import numpy as np\n",
    "from sklearn.experimental import enable_iterative_imputer\n",
    "from sklearn.impute import IterativeImputer\n",
    "from sklearn.metrics import mean_squared_error, mean_absolute_error\n",
    "import random\n",
    "\n",
    "# 결측값을 MICE 모델로 채우는 함수\n",
    "def fill_missing_with_mice(df, max_iter=10, random_state=0):\n",
    "    # IterativeImputer 초기화\n",
    "    imputer = IterativeImputer(max_iter=max_iter, random_state=random_state)\n",
    "\n",
    "    # 전체 데이터프레임에서 결측값 대체\n",
    "    imputed_data = imputer.fit_transform(df)\n",
    "\n",
    "    # 원래의 데이터프레임과 동일한 구조로 데이터프레임 생성\n",
    "    imputed_df = pd.DataFrame(imputed_data, columns=df.columns, index=df.index)\n",
    "\n",
    "    return imputed_df\n",
    "\n",
    "# 임의로 결측값 추가하는 함수\n",
    "def introduce_missing_values_randomly(df, missing_fraction=0.3, random_state=0):\n",
    "    np.random.seed(random_state)\n",
    "    df_with_missing = df.copy()\n",
    "\n",
    "    # 총 셀 수에서 결측값을 추가할 개수 계산\n",
    "    total_cells = df.size\n",
    "    num_missing = int(total_cells * missing_fraction)\n",
    "\n",
    "    # 랜덤하게 결측치를 추가할 위치 선택\n",
    "    for _ in range(num_missing):\n",
    "        row = random.randint(0, df.shape[0] - 1)\n",
    "        col = random.randint(0, df.shape[1] - 1)\n",
    "        df_with_missing.iat[row, col] = np.nan\n",
    "\n",
    "    return df_with_missing\n",
    "\n",
    "# 환경 변수 리스트 (사용자가 제공한 변수)\n",
    "env_vars = ['AREA_TPRT', 'AREA_HMDT', 'INNER_TPRT', 'INNER_HMDT', 'INNER_CBDX_CTRN']\n",
    "\n",
    "# 결측치가 없는 행만 필터링\n",
    "df_no_missing = df_9[env_vars].dropna()\n",
    "\n",
    "# 결측치 없는 데이터에서 일부 값을 임의로 결측치로 변환\n",
    "df_with_random_missing = introduce_missing_values_randomly(df_no_missing, missing_fraction=0.3)\n",
    "\n",
    "# MICE로 결측치를 채움\n",
    "df_imputed = fill_missing_with_mice(df_with_random_missing)\n",
    "\n",
    "# 결측치 없는 데이터의 인덱스를 원본 데이터에서 추출\n",
    "selected_indices = df_no_missing.index\n",
    "\n",
    "# 원본 데이터 df2에서 필터링된 인덱스만 뽑아 새로운 df3 생성\n",
    "df1 = df_9.loc[selected_indices]\n",
    "\n",
    "def evaluate_performance(original_series, imputed_series):\n",
    "\n",
    "    original_values = original_series\n",
    "    imputed_values = imputed_series\n",
    "\n",
    "    mse = mean_squared_error(original_values, imputed_values)\n",
    "    rmse = np.sqrt(mse)\n",
    "    mae = mean_absolute_error(original_values, imputed_values)\n",
    "\n",
    "    # 평가 결과 출력\n",
    "    print(f'MSE: {mse}')\n",
    "    print(f'RMSE: {rmse}')\n",
    "    print(f'MAE: {mae}')\n",
    "\n",
    "# 각 변수에 대해 성능 평가\n",
    "for var in env_vars:\n",
    "    print(f\"Evaluating performance for {var}...\")\n",
    "\n",
    "    # 성능 평가 (임의로 결측치로 만든 값들에 대해 원래 값과 대체된 값 비교)\n",
    "    evaluate_performance(df1[var], df_imputed[var])\n"
   ]
  },
  {
   "cell_type": "code",
   "execution_count": 32,
   "metadata": {},
   "outputs": [
    {
     "name": "stdout",
     "output_type": "stream",
     "text": [
      "<class 'pandas.core.frame.DataFrame'>\n",
      "Index: 7295 entries, 180 to 14255\n",
      "Data columns (total 5 columns):\n",
      " #   Column           Non-Null Count  Dtype  \n",
      "---  ------           --------------  -----  \n",
      " 0   AREA_TPRT        7295 non-null   float64\n",
      " 1   AREA_HMDT        7295 non-null   float64\n",
      " 2   INNER_TPRT       7295 non-null   float64\n",
      " 3   INNER_HMDT       7295 non-null   float64\n",
      " 4   INNER_CBDX_CTRN  7295 non-null   float64\n",
      "dtypes: float64(5)\n",
      "memory usage: 342.0 KB\n"
     ]
    }
   ],
   "source": [
    "df_imputed.info()"
   ]
  },
  {
   "cell_type": "code",
   "execution_count": 33,
   "metadata": {},
   "outputs": [
    {
     "data": {
      "text/html": [
       "<div>\n",
       "<style scoped>\n",
       "    .dataframe tbody tr th:only-of-type {\n",
       "        vertical-align: middle;\n",
       "    }\n",
       "\n",
       "    .dataframe tbody tr th {\n",
       "        vertical-align: top;\n",
       "    }\n",
       "\n",
       "    .dataframe thead th {\n",
       "        text-align: right;\n",
       "    }\n",
       "</style>\n",
       "<table border=\"1\" class=\"dataframe\">\n",
       "  <thead>\n",
       "    <tr style=\"text-align: right;\">\n",
       "      <th></th>\n",
       "      <th>AREA_TPRT</th>\n",
       "      <th>AREA_HMDT</th>\n",
       "      <th>INNER_TPRT</th>\n",
       "      <th>INNER_HMDT</th>\n",
       "      <th>INNER_CBDX_CTRN</th>\n",
       "    </tr>\n",
       "  </thead>\n",
       "  <tbody>\n",
       "    <tr>\n",
       "      <th>180</th>\n",
       "      <td>3.400000</td>\n",
       "      <td>36.0</td>\n",
       "      <td>17.591580</td>\n",
       "      <td>72.0</td>\n",
       "      <td>765.000000</td>\n",
       "    </tr>\n",
       "    <tr>\n",
       "      <th>181</th>\n",
       "      <td>4.100000</td>\n",
       "      <td>33.0</td>\n",
       "      <td>34.300000</td>\n",
       "      <td>87.0</td>\n",
       "      <td>601.000000</td>\n",
       "    </tr>\n",
       "    <tr>\n",
       "      <th>182</th>\n",
       "      <td>4.200000</td>\n",
       "      <td>28.0</td>\n",
       "      <td>19.808315</td>\n",
       "      <td>61.0</td>\n",
       "      <td>789.039150</td>\n",
       "    </tr>\n",
       "    <tr>\n",
       "      <th>183</th>\n",
       "      <td>4.400000</td>\n",
       "      <td>24.0</td>\n",
       "      <td>20.549779</td>\n",
       "      <td>54.0</td>\n",
       "      <td>868.000000</td>\n",
       "    </tr>\n",
       "    <tr>\n",
       "      <th>184</th>\n",
       "      <td>15.787423</td>\n",
       "      <td>29.0</td>\n",
       "      <td>27.800000</td>\n",
       "      <td>58.0</td>\n",
       "      <td>609.340717</td>\n",
       "    </tr>\n",
       "  </tbody>\n",
       "</table>\n",
       "</div>"
      ],
      "text/plain": [
       "     AREA_TPRT  AREA_HMDT  INNER_TPRT  INNER_HMDT  INNER_CBDX_CTRN\n",
       "180   3.400000       36.0   17.591580        72.0       765.000000\n",
       "181   4.100000       33.0   34.300000        87.0       601.000000\n",
       "182   4.200000       28.0   19.808315        61.0       789.039150\n",
       "183   4.400000       24.0   20.549779        54.0       868.000000\n",
       "184  15.787423       29.0   27.800000        58.0       609.340717"
      ]
     },
     "execution_count": 33,
     "metadata": {},
     "output_type": "execute_result"
    }
   ],
   "source": [
    "df_imputed.head()"
   ]
  },
  {
   "cell_type": "code",
   "execution_count": 34,
   "metadata": {},
   "outputs": [
    {
     "name": "stdout",
     "output_type": "stream",
     "text": [
      "<class 'pandas.core.frame.DataFrame'>\n",
      "RangeIndex: 17544 entries, 0 to 17543\n",
      "Data columns (total 14 columns):\n",
      " #   Column           Non-Null Count  Dtype         \n",
      "---  ------           --------------  -----         \n",
      " 0   MSRM_DT          17544 non-null  datetime64[ns]\n",
      " 1   AREA_TPRT        17539 non-null  float64       \n",
      " 2   AREA_HMDT        17517 non-null  float64       \n",
      " 3   AREA_WDSP        17544 non-null  float64       \n",
      " 4   INNER_TPRT       10100 non-null  float64       \n",
      " 5   INNER_HMDT       9615 non-null   float64       \n",
      " 6   INNER_CBDX_CTRN  7528 non-null   float64       \n",
      " 7   EXTN_TPRT        0 non-null      float64       \n",
      " 8   PLT_LNGTH        120 non-null    float64       \n",
      " 9   LEAF_LNGTH       1488 non-null   float64       \n",
      " 10  LEAF_WDTH        1488 non-null   float64       \n",
      " 11  STEM_THNS        1488 non-null   float64       \n",
      " 12  SHPMN_QTY        2640 non-null   float64       \n",
      " 13  SHPMN_AMT        2640 non-null   float64       \n",
      "dtypes: datetime64[ns](1), float64(13)\n",
      "memory usage: 1.9 MB\n",
      "None\n"
     ]
    }
   ],
   "source": [
    "# df_7의 결측값을 df_imputed로 채워넣기\n",
    "for var in env_vars:\n",
    "    # df_7의 원본 값이 결측치가 아닌 경우에만 df_imputed의 값으로 대체\n",
    "    df_7[var] = df_7[var].where(df_7[var].notna(), df_imputed[var])\n",
    "\n",
    "# 결과 확인\n",
    "print(df_7.info())\n"
   ]
  },
  {
   "cell_type": "code",
   "execution_count": 35,
   "metadata": {},
   "outputs": [],
   "source": [
    "#외부온도 변수 결측값 채우는 부분은 그냥 생략함"
   ]
  },
  {
   "cell_type": "code",
   "execution_count": 36,
   "metadata": {},
   "outputs": [],
   "source": [
    "#결측값 채우기- 생육 변수"
   ]
  },
  {
   "cell_type": "code",
   "execution_count": 37,
   "metadata": {},
   "outputs": [],
   "source": [
    "#plt_lngth 제외한 변수들 먼저 채워넣고 그 생육 변수들까지 모두 고려해서 plt_lngth 예측"
   ]
  },
  {
   "cell_type": "code",
   "execution_count": 38,
   "metadata": {},
   "outputs": [],
   "source": [
    "#1. plt_lngth 먼저 하는 경우"
   ]
  },
  {
   "cell_type": "code",
   "execution_count": 39,
   "metadata": {},
   "outputs": [],
   "source": [
    "# 예측할 변수와 특성 변수 설정\n",
    "y = df_4['PLT_LNGTH']\n",
    "X = df_4[['AREA_TPRT', 'AREA_HMDT', 'AREA_WDSP', 'INNER_TPRT', 'INNER_HMDT', 'INNER_CBDX_CTRN']]\n",
    "\n",
    "# 결측값이 없는 데이터로만 필터링\n",
    "x_non_null = X[y.notnull()]\n",
    "y_non_null = y[y.notnull()]"
   ]
  },
  {
   "cell_type": "code",
   "execution_count": 42,
   "metadata": {},
   "outputs": [],
   "source": [
    "from sklearn.ensemble import RandomForestRegressor\n",
    "from sklearn.multioutput import MultiOutputRegressor\n",
    "from sklearn.metrics import mean_squared_error\n",
    "from sklearn.model_selection import train_test_split"
   ]
  },
  {
   "cell_type": "code",
   "execution_count": 43,
   "metadata": {},
   "outputs": [],
   "source": [
    "# 훈련 및 테스트 데이터로 분할 (non-null 데이터에서 25%를 테스트로 사용)\n",
    "X_train, X_test, y_train, y_test = train_test_split(x_non_null, y_non_null, test_size=0.20, random_state=42)\n"
   ]
  },
  {
   "cell_type": "code",
   "execution_count": 44,
   "metadata": {},
   "outputs": [],
   "source": [
    "#다중선형회귀"
   ]
  },
  {
   "cell_type": "code",
   "execution_count": 45,
   "metadata": {},
   "outputs": [
    {
     "name": "stdout",
     "output_type": "stream",
     "text": [
      "Mean Squared Error on the test set: 641.8343282211491\n"
     ]
    }
   ],
   "source": [
    "import pandas as pd\n",
    "from sklearn.model_selection import train_test_split\n",
    "from sklearn.linear_model import LinearRegression\n",
    "from sklearn.ensemble import RandomForestRegressor\n",
    "from sklearn.metrics import mean_squared_error\n",
    "\n",
    "\n",
    "# 다중 회귀 모델 생성 및 훈련\n",
    "model1 = LinearRegression()\n",
    "model1.fit(X_train, y_train)\n",
    "\n",
    "# 테스트 데이터에 대한 예측 수행\n",
    "y_pred1 = model1.predict(X_test)\n",
    "\n",
    "# MSE 평가\n",
    "mse = mean_squared_error(y_test, y_pred1)\n",
    "print(f'Mean Squared Error on the test set: {mse}')"
   ]
  },
  {
   "cell_type": "code",
   "execution_count": 46,
   "metadata": {},
   "outputs": [],
   "source": [
    "#랜덤포레스트"
   ]
  },
  {
   "cell_type": "code",
   "execution_count": 47,
   "metadata": {},
   "outputs": [
    {
     "name": "stdout",
     "output_type": "stream",
     "text": [
      "Mean Squared Error on the test set (Random Forest): 596.2902023652381\n"
     ]
    }
   ],
   "source": [
    "# 랜덤 포레스트 모델 생성 및 훈련\n",
    "rf_model = RandomForestRegressor(n_estimators=200, random_state=42)\n",
    "rf_model.fit(X_train, y_train)\n",
    "\n",
    "# 테스트 데이터에 대한 예측 수행\n",
    "y_pred2 = rf_model.predict(X_test)\n",
    "\n",
    "# MSE 평가\n",
    "mse = mean_squared_error(y_test, y_pred2)\n",
    "print(f'Mean Squared Error on the test set (Random Forest): {mse}')\n"
   ]
  },
  {
   "cell_type": "code",
   "execution_count": 48,
   "metadata": {},
   "outputs": [],
   "source": [
    "#prophet"
   ]
  },
  {
   "cell_type": "code",
   "execution_count": 49,
   "metadata": {},
   "outputs": [
    {
     "name": "stderr",
     "output_type": "stream",
     "text": [
      "21:07:13 - cmdstanpy - INFO - Chain [1] start processing\n",
      "21:07:13 - cmdstanpy - INFO - Chain [1] done processing\n"
     ]
    },
    {
     "name": "stdout",
     "output_type": "stream",
     "text": [
      "MSE: 44.78143543088018\n",
      "RMSE: 6.6918932620656895\n",
      "MAE: 5.696226672723755\n"
     ]
    }
   ],
   "source": [
    "import pandas as pd\n",
    "from prophet import Prophet\n",
    "from sklearn.metrics import mean_squared_error, mean_absolute_error\n",
    "import numpy as np\n",
    "\n",
    "# Prophet을 사용하여 결측값을 채우는 함수\n",
    "def fill_missing_with_prophet(target_series, regressors_df):\n",
    "    # 결측값이 없는 행들만 Prophet 모델에 사용\n",
    "    non_null_indices = target_series.dropna().index\n",
    "    target_series_non_null = target_series.loc[non_null_indices]\n",
    "    regressors_non_null = regressors_df.loc[non_null_indices]\n",
    "\n",
    "    # Prophet에 맞는 형식으로 변환\n",
    "    df_prophet = pd.DataFrame({\n",
    "        'ds': pd.to_datetime(target_series_non_null.index),  # 시간 데이터를 datetime 형식으로 변환\n",
    "        'y': target_series_non_null.values  # 예측할 목표 값 \n",
    "    })\n",
    "\n",
    "    # 각 부가 변수(regressor)를 추가\n",
    "    for col in regressors_df.columns:\n",
    "        df_prophet[col] = regressors_non_null[col].values\n",
    "\n",
    "    # Prophet 모델 초기화 (계절성 추가)\n",
    "    model_pr = Prophet(daily_seasonality=5, yearly_seasonality=20, weekly_seasonality=10)\n",
    "\n",
    "    # 부가 변수(regressor) 추가\n",
    "    for col in regressors_df.columns:\n",
    "        model_pr.add_regressor(col)\n",
    "\n",
    "    # 모델 학습\n",
    "    model_pr.fit(df_prophet)\n",
    "\n",
    "    # 전체 기간에 대해 예측할 데이터 준비\n",
    "    future = pd.DataFrame({'ds': pd.to_datetime(target_series.index)})\n",
    "    for col in regressors_df.columns:\n",
    "        future[col] = regressors_df[col].values\n",
    "\n",
    "    # 예측 수행\n",
    "    forecast = model_pr.predict(future)\n",
    "\n",
    "    # 예측 결과에서 'yhat' 값 사용\n",
    "    predicted_values = forecast['yhat'].values\n",
    "\n",
    "    # 결측값만 Prophet 예측값으로 채우기\n",
    "    filled_series = target_series.copy()\n",
    "    filled_series[target_series.isnull()] = predicted_values[target_series.isnull()]\n",
    "\n",
    "    return filled_series, predicted_values, model_pr  # 모델도 반환\n",
    "\n",
    "\n",
    "\n",
    "# 성능 평가 함수 (MSE, RMSE, MAE 계산)\n",
    "def evaluate_performance(original_series, predicted_values):\n",
    "    # 결측값이 아닌 부분에 대해 평가\n",
    "    mask = original_series.notnull()\n",
    "    \n",
    "    mse = mean_squared_error(original_series[mask], predicted_values[mask])\n",
    "    rmse = np.sqrt(mse)\n",
    "    mae = mean_absolute_error(original_series[mask], predicted_values[mask])\n",
    "    \n",
    "    print(f'MSE: {mse}')\n",
    "    print(f'RMSE: {rmse}')\n",
    "    print(f'MAE: {mae}')\n",
    "\n",
    "# 반응 변수 (예측할 변수)와 예측 변수 설정\n",
    "target_var = 'PLT_LNGTH'  # 반응 변수\n",
    "regressors = ['AREA_WDSP', 'AREA_TPRT', 'AREA_HMDT', 'INNER_TPRT', 'INNER_HMDT', 'INNER_CBDX_CTRN']  # 예측 변수\n",
    "\n",
    "# Prophet을 사용하여 결측값 채우기\n",
    "filled_series, predicted_values, model_pr = fill_missing_with_prophet(df_4[target_var], df_4[regressors])\n",
    "\n",
    "\n",
    "# 성능 평가\n",
    "evaluate_performance(df_4[target_var], predicted_values)"
   ]
  },
  {
   "cell_type": "code",
   "execution_count": 50,
   "metadata": {},
   "outputs": [],
   "source": [
    "#SARIMA"
   ]
  },
  {
   "cell_type": "code",
   "execution_count": 51,
   "metadata": {},
   "outputs": [
    {
     "name": "stdout",
     "output_type": "stream",
     "text": [
      "MSE: 641.8343282211665\n",
      "RMSE: 25.33444943591959\n",
      "MAE: 20.700035606089155\n"
     ]
    }
   ],
   "source": [
    "import pandas as pd\n",
    "from sklearn.model_selection import train_test_split\n",
    "from sklearn.linear_model import LinearRegression\n",
    "from sklearn.metrics import mean_squared_error, mean_absolute_error\n",
    "\n",
    "# 필요한 컬럼만 선택\n",
    "features = df_4[['AREA_HMDT', 'AREA_WDSP', 'AREA_TPRT', 'INNER_TPRT', 'INNER_HMDT', 'INNER_CBDX_CTRN']]\n",
    "target = df_4['PLT_LNGTH']\n",
    "\n",
    "# 결측값이 있는 행 제거\n",
    "# features와 target 모두에서 결측값이 있는 행을 제거\n",
    "data_cleaned = df_4.dropna(subset=features.columns.tolist() + ['PLT_LNGTH'])\n",
    "\n",
    "# 새로운 features와 target 생성\n",
    "features_cleaned = data_cleaned[features.columns]\n",
    "target_cleaned = data_cleaned['PLT_LNGTH']\n",
    "\n",
    "# 훈련 세트와 테스트 세트로 분할\n",
    "X_train, X_test, y_train, y_test = train_test_split(features_cleaned, target_cleaned, test_size=0.2, random_state=42)\n",
    "\n",
    "# 회귀 모델 초기화 및 학습\n",
    "model3 = LinearRegression()\n",
    "model3.fit(X_train, y_train)\n",
    "\n",
    "# 예측\n",
    "predictions = model3.predict(X_test)\n",
    "\n",
    "# 성능 평가\n",
    "mse = mean_squared_error(y_test, predictions)\n",
    "rmse = mse ** 0.5\n",
    "mae = mean_absolute_error(y_test, predictions)\n",
    "\n",
    "print(f'MSE: {mse}')\n",
    "print(f'RMSE: {rmse}')\n",
    "print(f'MAE: {mae}')\n"
   ]
  },
  {
   "cell_type": "code",
   "execution_count": 52,
   "metadata": {},
   "outputs": [],
   "source": [
    "# 식물길이 제외 나머지 생육변수 예측"
   ]
  },
  {
   "cell_type": "code",
   "execution_count": 53,
   "metadata": {},
   "outputs": [],
   "source": [
    "#랜덤포레스트"
   ]
  },
  {
   "cell_type": "code",
   "execution_count": 54,
   "metadata": {},
   "outputs": [],
   "source": [
    "from sklearn.model_selection import train_test_split\n",
    "from sklearn.ensemble import RandomForestRegressor\n",
    "from sklearn.multioutput import MultiOutputRegressor\n",
    "from sklearn.metrics import mean_squared_error"
   ]
  },
  {
   "cell_type": "code",
   "execution_count": 55,
   "metadata": {},
   "outputs": [],
   "source": [
    "# 예측할 y 변수와 X 변수 설정\n",
    "y_variables = ['LEAF_LNGTH', 'LEAF_WDTH', 'STEM_THNS']\n",
    "X = df_4[['AREA_TPRT', 'AREA_HMDT', 'AREA_WDSP', 'INNER_TPRT', 'INNER_HMDT', 'INNER_CBDX_CTRN']]\n",
    "\n",
    "# y 변수로 설정\n",
    "y = df_4[y_variables]\n",
    "\n",
    "# 결측값이 없는 데이터로만 필터링\n",
    "X_non_null = X[y.notnull().any(axis=1)]\n",
    "y_non_null = y[y.notnull().any(axis=1)]\n"
   ]
  },
  {
   "cell_type": "code",
   "execution_count": 56,
   "metadata": {},
   "outputs": [],
   "source": [
    "# 훈련 및 테스트 데이터로 분할 (non-null 데이터에서 25%를 테스트로 사용)\n",
    "X_train, X_test, y_train, y_test = train_test_split(X_non_null, y_non_null, test_size=0.25, random_state=42)\n",
    "\n",
    "# MultiOutputRegressor를 사용하여 랜덤 포레스트 모델 생성 및 훈련\n",
    "rf_model = RandomForestRegressor(n_estimators=200, random_state=42)\n",
    "multi_output_model = MultiOutputRegressor(rf_model)\n",
    "multi_output_model.fit(X_train, y_train)\n",
    "\n",
    "# 테스트 데이터에 대한 예측 수행\n",
    "y_pred = multi_output_model.predict(X_test)\n"
   ]
  },
  {
   "cell_type": "code",
   "execution_count": 57,
   "metadata": {},
   "outputs": [
    {
     "name": "stdout",
     "output_type": "stream",
     "text": [
      "Mean Squared Error on the test set (LEAF_LNGTH): 1.1864728489583336\n",
      "Mean Squared Error on the test set (LEAF_WDTH): 0.8309963627912179\n",
      "Mean Squared Error on the test set (STEM_THNS): 0.2224429117196364\n"
     ]
    }
   ],
   "source": [
    "# MSE 평가 및 출력\n",
    "for i, var in enumerate(y_variables):\n",
    "    mse = mean_squared_error(y_test.iloc[:, i], y_pred[:, i])\n",
    "    print(f'Mean Squared Error on the test set ({var}): {mse}')\n"
   ]
  },
  {
   "cell_type": "code",
   "execution_count": 58,
   "metadata": {},
   "outputs": [],
   "source": [
    "#prophet"
   ]
  },
  {
   "cell_type": "code",
   "execution_count": 59,
   "metadata": {},
   "outputs": [
    {
     "name": "stderr",
     "output_type": "stream",
     "text": [
      "21:07:21 - cmdstanpy - INFO - Chain [1] start processing\n"
     ]
    },
    {
     "name": "stdout",
     "output_type": "stream",
     "text": [
      "Filling missing values for LEAF_LNGTH...\n"
     ]
    },
    {
     "name": "stderr",
     "output_type": "stream",
     "text": [
      "21:07:22 - cmdstanpy - INFO - Chain [1] done processing\n",
      "21:07:25 - cmdstanpy - INFO - Chain [1] start processing\n"
     ]
    },
    {
     "name": "stdout",
     "output_type": "stream",
     "text": [
      "Evaluating performance for LEAF_LNGTH...\n",
      "MSE: 0.578987950899228\n",
      "RMSE: 0.76091257769814\n",
      "MAE: 0.5935399605510252\n",
      "Filling missing values for LEAF_WDTH...\n"
     ]
    },
    {
     "name": "stderr",
     "output_type": "stream",
     "text": [
      "21:07:26 - cmdstanpy - INFO - Chain [1] done processing\n",
      "21:07:29 - cmdstanpy - INFO - Chain [1] start processing\n"
     ]
    },
    {
     "name": "stdout",
     "output_type": "stream",
     "text": [
      "Evaluating performance for LEAF_WDTH...\n",
      "MSE: 0.5205883597823284\n",
      "RMSE: 0.7215180938703675\n",
      "MAE: 0.5460538160663645\n",
      "Filling missing values for STEM_THNS...\n"
     ]
    },
    {
     "name": "stderr",
     "output_type": "stream",
     "text": [
      "21:07:29 - cmdstanpy - INFO - Chain [1] done processing\n"
     ]
    },
    {
     "name": "stdout",
     "output_type": "stream",
     "text": [
      "Evaluating performance for STEM_THNS...\n",
      "MSE: 0.2011487460518571\n",
      "RMSE: 0.4484960936862852\n",
      "MAE: 0.34580955609501474\n",
      "              MSRM_DT  AREA_TPRT  AREA_HMDT  AREA_WDSP  INNER_TPRT  \\\n",
      "0 2019-01-01 00:00:00       -1.9       50.0        1.6        19.1   \n",
      "1 2019-01-01 01:00:00       -3.2       54.0        1.7        18.8   \n",
      "2 2019-01-01 02:00:00       -2.5       62.0        2.1        18.5   \n",
      "3 2019-01-01 03:00:00       -2.5       62.0        1.6        18.1   \n",
      "4 2019-01-01 04:00:00       -3.6       67.0        0.8        17.8   \n",
      "\n",
      "   INNER_HMDT  INNER_CBDX_CTRN  EXTN_TPRT  PLT_LNGTH  LEAF_LNGTH  LEAF_WDTH  \\\n",
      "0        87.0       599.970101        NaN        NaN    9.575051   9.838927   \n",
      "1        87.0       619.101362        NaN        NaN    9.612451   9.837031   \n",
      "2        87.0       608.119516        NaN        NaN    9.577955   9.786486   \n",
      "3        87.0       629.073283        NaN        NaN    9.560414   9.786615   \n",
      "4        88.0       675.384569        NaN        NaN    9.545853   9.762493   \n",
      "\n",
      "   STEM_THNS  SHPMN_QTY  SHPMN_AMT  \n",
      "0   4.461054        NaN        NaN  \n",
      "1   4.488791        NaN        NaN  \n",
      "2   4.527149        NaN        NaN  \n",
      "3   4.538036        NaN        NaN  \n",
      "4   4.573967        NaN        NaN  \n"
     ]
    }
   ],
   "source": [
    "import pandas as pd\n",
    "from prophet import Prophet\n",
    "from sklearn.metrics import mean_squared_error, mean_absolute_error\n",
    "import numpy as np\n",
    "\n",
    "# Prophet을 사용하여 결측값을 채우는 함수\n",
    "def fill_missing_with_prophet(target_series, regressors_df):\n",
    "    # 결측값이 없는 행들만 Prophet 모델에 사용\n",
    "    non_null_indices = target_series.dropna().index\n",
    "    target_series_non_null = target_series.loc[non_null_indices]\n",
    "    regressors_non_null = regressors_df.loc[non_null_indices]\n",
    "\n",
    "    # Prophet에 맞는 형식으로 변환\n",
    "    df_prophet = pd.DataFrame({\n",
    "        'ds': pd.to_datetime(target_series_non_null.index),  # 시간 데이터를 datetime 형식으로 변환\n",
    "        'y': target_series_non_null.values  # 예측할 목표 값 \n",
    "    })\n",
    "\n",
    "    # 각 부가 변수(regressor)를 추가\n",
    "    for col in regressors_df.columns:\n",
    "        df_prophet[col] = regressors_non_null[col].values\n",
    "\n",
    "    # Prophet 모델 초기화 (계절성 추가)\n",
    "    model_pr = Prophet(daily_seasonality=5, yearly_seasonality=20, weekly_seasonality=10)\n",
    "\n",
    "    # 부가 변수(regressor) 추가\n",
    "    for col in regressors_df.columns:\n",
    "        model_pr.add_regressor(col)\n",
    "\n",
    "    # 모델 학습\n",
    "    model_pr.fit(df_prophet)\n",
    "\n",
    "    # 전체 기간에 대해 예측할 데이터 준비\n",
    "    future = pd.DataFrame({'ds': pd.to_datetime(target_series.index)})\n",
    "    for col in regressors_df.columns:\n",
    "        future[col] = regressors_df[col].values\n",
    "\n",
    "    # 예측 수행\n",
    "    forecast = model_pr.predict(future)\n",
    "\n",
    "    # 예측 결과에서 'yhat' 값 사용\n",
    "    predicted_values = forecast['yhat'].values\n",
    "\n",
    "    # 결측값만 Prophet 예측값으로 채우기\n",
    "    filled_series = target_series.copy()\n",
    "    filled_series[target_series.isnull()] = predicted_values[target_series.isnull()]\n",
    "\n",
    "    return filled_series, predicted_values, model_pr  # 모델도 반환\n",
    "\n",
    "\n",
    "# 성능 평가 함수 (MSE, RMSE, MAE 계산)\n",
    "def evaluate_performance(original_series, predicted_values):\n",
    "    # 결측값이 아닌 부분에 대해 평가\n",
    "    mask = original_series.notnull()\n",
    "    \n",
    "    mse = mean_squared_error(original_series[mask], predicted_values[mask])\n",
    "    rmse = np.sqrt(mse)\n",
    "    mae = mean_absolute_error(original_series[mask], predicted_values[mask])\n",
    "    \n",
    "    print(f'MSE: {mse}')\n",
    "    print(f'RMSE: {rmse}')\n",
    "    print(f'MAE: {mae}')\n",
    "\n",
    "# 반응 변수 (예측할 변수)와 예측 변수 설정\n",
    "target_vars = ['LEAF_LNGTH', 'LEAF_WDTH', 'STEM_THNS']  # 반응 변수\n",
    "regressors = ['AREA_WDSP', 'AREA_TPRT', 'AREA_HMDT', 'INNER_TPRT', 'INNER_HMDT', 'INNER_CBDX_CTRN']  # 예측 변수\n",
    "\n",
    "# 각 반응 변수에 대해 결측값 채우기 및 성능 평가\n",
    "for target_var in target_vars:\n",
    "    print(f'Filling missing values for {target_var}...')\n",
    "    filled_series, predicted_values, model_pr = fill_missing_with_prophet(df_4[target_var], df_4[regressors])\n",
    "\n",
    "    # 성능 평가\n",
    "    print(f'Evaluating performance for {target_var}...')\n",
    "    evaluate_performance(df_4[target_var], predicted_values)\n",
    "    \n",
    "    # 채운 시리즈를 원본 DataFrame에 저장\n",
    "    df_4[target_var] = filled_series\n",
    "\n",
    "# 결과 확인\n",
    "print(df_4.head())\n"
   ]
  },
  {
   "cell_type": "code",
   "execution_count": 60,
   "metadata": {},
   "outputs": [
    {
     "name": "stdout",
     "output_type": "stream",
     "text": [
      "              MSRM_DT  AREA_TPRT  AREA_HMDT  AREA_WDSP  INNER_TPRT  \\\n",
      "0 2019-01-01 00:00:00       -1.9       50.0        1.6        19.1   \n",
      "1 2019-01-01 01:00:00       -3.2       54.0        1.7        18.8   \n",
      "2 2019-01-01 02:00:00       -2.5       62.0        2.1        18.5   \n",
      "3 2019-01-01 03:00:00       -2.5       62.0        1.6        18.1   \n",
      "4 2019-01-01 04:00:00       -3.6       67.0        0.8        17.8   \n",
      "5 2019-01-01 05:00:00       -2.4       64.0        1.7        17.6   \n",
      "6 2019-01-01 06:00:00       -3.3       69.0        2.3        17.5   \n",
      "7 2019-01-01 07:00:00       -2.0       64.0        1.0        17.6   \n",
      "8 2019-01-01 08:00:00       -2.5       67.0        0.3        17.6   \n",
      "9 2019-01-01 09:00:00       -1.3       62.0        0.8        17.5   \n",
      "\n",
      "   INNER_HMDT  INNER_CBDX_CTRN  EXTN_TPRT  PLT_LNGTH  LEAF_LNGTH  LEAF_WDTH  \\\n",
      "0        87.0       599.970101        NaN        NaN    9.575051   9.838927   \n",
      "1        87.0       619.101362        NaN        NaN    9.612451   9.837031   \n",
      "2        87.0       608.119516        NaN        NaN    9.577955   9.786486   \n",
      "3        87.0       629.073283        NaN        NaN    9.560414   9.786615   \n",
      "4        88.0       675.384569        NaN        NaN    9.545853   9.762493   \n",
      "5        89.0       631.530032        NaN        NaN    9.552321   9.769502   \n",
      "6        89.0       628.262238        NaN        NaN    9.592561   9.758478   \n",
      "7        91.0       648.945528        NaN        NaN    9.506916   9.747661   \n",
      "8        91.0       680.227696        NaN        NaN    9.486301   9.730373   \n",
      "9        96.0       644.788359        NaN        NaN    9.468651   9.723410   \n",
      "\n",
      "   STEM_THNS  SHPMN_QTY  SHPMN_AMT  \n",
      "0   4.461054        NaN        NaN  \n",
      "1   4.488791        NaN        NaN  \n",
      "2   4.527149        NaN        NaN  \n",
      "3   4.538036        NaN        NaN  \n",
      "4   4.573967        NaN        NaN  \n",
      "5   4.536228        NaN        NaN  \n",
      "6   4.559300        NaN        NaN  \n",
      "7   4.527875        NaN        NaN  \n",
      "8   4.554818        NaN        NaN  \n",
      "9   4.477810        NaN        NaN  \n"
     ]
    }
   ],
   "source": [
    "print(df_4.head(10))"
   ]
  },
  {
   "cell_type": "code",
   "execution_count": 61,
   "metadata": {},
   "outputs": [],
   "source": [
    "#2. 다른 세개의 생육변수 먼저 채우고 이를 예측변수에 반영하여 plt_lngth 예측"
   ]
  },
  {
   "cell_type": "code",
   "execution_count": null,
   "metadata": {},
   "outputs": [],
   "source": [
    "#plt_lngth 제외 세개의 생육변수 먼저 채우기- 위에서 prophet 결과 이용 채워진 df_4"
   ]
  },
  {
   "cell_type": "code",
   "execution_count": null,
   "metadata": {},
   "outputs": [],
   "source": [
    "#rf"
   ]
  },
  {
   "cell_type": "code",
   "execution_count": 64,
   "metadata": {},
   "outputs": [],
   "source": [
    "# 예측할 변수와 특성 변수 설정\n",
    "y = df_4['PLT_LNGTH']\n",
    "X = df_4[['AREA_TPRT', 'AREA_HMDT', 'AREA_WDSP', 'INNER_TPRT', 'INNER_HMDT', 'INNER_CBDX_CTRN','LEAF_LNGTH', 'LEAF_WDTH', 'STEM_THNS']]\n",
    "\n",
    "# 결측값이 없는 데이터로만 필터링\n",
    "X_non_null = X[y.notnull()]\n",
    "y_non_null = y[y.notnull()]"
   ]
  },
  {
   "cell_type": "code",
   "execution_count": 65,
   "metadata": {},
   "outputs": [
    {
     "name": "stdout",
     "output_type": "stream",
     "text": [
      "Mean Squared Error on the test set (Random Forest): 4.4798884900231115e-26\n"
     ]
    }
   ],
   "source": [
    "# 훈련 및 테스트 데이터로 분할 (non-null 데이터에서 25%를 테스트로 사용)\n",
    "X_train, X_test, y_train, y_test = train_test_split(X_non_null, y_non_null, test_size=0.30, random_state=42)\n",
    "\n",
    "import pandas as pd\n",
    "from sklearn.model_selection import train_test_split\n",
    "from sklearn.linear_model import LinearRegression\n",
    "from sklearn.ensemble import RandomForestRegressor\n",
    "from sklearn.metrics import mean_squared_error\n",
    "\n",
    "# 랜덤 포레스트 모델 생성 및 훈련\n",
    "rf_model = RandomForestRegressor(n_estimators=200, random_state=42)\n",
    "rf_model.fit(X_train, y_train)\n",
    "\n",
    "# 테스트 데이터에 대한 예측 수행\n",
    "y_pred2 = rf_model.predict(X_test)\n",
    "\n",
    "# MSE 평가\n",
    "mse = mean_squared_error(y_test, y_pred2)\n",
    "print(f'Mean Squared Error on the test set (Random Forest): {mse}')"
   ]
  },
  {
   "cell_type": "code",
   "execution_count": null,
   "metadata": {},
   "outputs": [],
   "source": [
    "#prophet - 지랄맞음 지랄지랄지랄"
   ]
  },
  {
   "cell_type": "code",
   "execution_count": 69,
   "metadata": {},
   "outputs": [
    {
     "name": "stdout",
     "output_type": "stream",
     "text": [
      "Evaluating performance for PLT_LNGTH...\n",
      "MSE: 20096.419706199915\n",
      "RMSE: 141.7618415025705\n",
      "MAE: 131.65604113539928\n"
     ]
    }
   ],
   "source": [
    "import pandas as pd\n",
    "from prophet import Prophet\n",
    "from sklearn.metrics import mean_squared_error, mean_absolute_error\n",
    "import numpy as np\n",
    "\n",
    "# Prophet을 사용하여 결측값을 채우는 함수\n",
    "def fill_missing_with_prophet(target_series, regressors_df):\n",
    "    # 결측값이 없는 행들만 Prophet 모델에 사용\n",
    "    non_null_indices = target_series.dropna().index\n",
    "    target_series_non_null = target_series.loc[non_null_indices]\n",
    "    regressors_non_null = regressors_df.loc[non_null_indices]\n",
    "\n",
    "    # Prophet에 맞는 형식으로 변환\n",
    "    df_prophet = pd.DataFrame({\n",
    "        'ds': pd.to_datetime(target_series_non_null.index),  # 시간 데이터를 datetime 형식으로 변환\n",
    "        'y': target_series_non_null.values  # 예측할 목표 값 \n",
    "    })\n",
    "\n",
    "    # 각 부가 변수(regressor)를 추가\n",
    "    for col in regressors_df.columns:\n",
    "        df_prophet[col] = regressors_non_null[col].values\n",
    "\n",
    "    # Prophet 모델 초기화 (계절성 추가)\n",
    "    model_pr = Prophet(daily_seasonality=5, yearly_seasonality=20, weekly_seasonality=10)\n",
    "\n",
    "    # 부가 변수(regressor) 추가\n",
    "    for col in regressors_df.columns:\n",
    "        model_pr.add_regressor(col)\n",
    "\n",
    "    # 모델 학습\n",
    "    model_pr.fit(df_prophet)\n",
    "\n",
    "    # 전체 기간에 대해 예측할 데이터 준비\n",
    "    future = pd.DataFrame({'ds': pd.to_datetime(target_series.index)})\n",
    "    for col in regressors_df.columns:\n",
    "        future[col] = regressors_df[col].values\n",
    "\n",
    "    # 예측 수행\n",
    "    forecast = model_pr.predict(future)\n",
    "\n",
    "    # 예측 결과에서 'yhat' 값 사용\n",
    "    predicted_values = forecast['yhat'].values\n",
    "\n",
    "    # 결측값만 Prophet 예측값으로 채우기\n",
    "    filled_series = target_series.copy()\n",
    "    filled_series[target_series.isnull()] = predicted_values[target_series.isnull()]\n",
    "\n",
    "    return filled_series, predicted_values, model_pr  # 모델도 반환\n",
    "\n",
    "\n",
    "# 성능 평가 함수 (MSE, RMSE, MAE 계산)\n",
    "def evaluate_performance(original_series, predicted_values):\n",
    "    # 결측값이 아닌 부분에 대해 평가\n",
    "    mask = original_series.notnull()\n",
    "    \n",
    "    mse = mean_squared_error(original_series[mask], predicted_values[mask])\n",
    "    rmse = np.sqrt(mse)\n",
    "    mae = mean_absolute_error(original_series[mask], predicted_values[mask])\n",
    "    \n",
    "    print(f'MSE: {mse}')\n",
    "    print(f'RMSE: {rmse}')\n",
    "    print(f'MAE: {mae}')\n",
    "\n",
    "# 반응 변수 (예측할 변수)와 예측 변수 설정\n",
    "target_vars = ['PLT_LNGTH']  # 반응 변수\n",
    "regressors = ['AREA_WDSP', 'AREA_TPRT', 'AREA_HMDT', 'INNER_TPRT', 'INNER_HMDT', 'INNER_CBDX_CTRN','LEAF_LNGTH', 'LEAF_WDTH', 'STEM_THNS']  # 예측 변수\n",
    "\n",
    "# 성능 평가\n",
    "for target_var in target_vars:\n",
    "    print(f'Evaluating performance for {target_var}...')\n",
    "    evaluate_performance(df_5[target_var], predicted_values)\n",
    "  \n",
    "\n"
   ]
  },
  {
   "cell_type": "code",
   "execution_count": null,
   "metadata": {},
   "outputs": [],
   "source": []
  },
  {
   "cell_type": "code",
   "execution_count": null,
   "metadata": {},
   "outputs": [],
   "source": []
  },
  {
   "cell_type": "code",
   "execution_count": null,
   "metadata": {},
   "outputs": [],
   "source": []
  }
 ],
 "metadata": {
  "kernelspec": {
   "display_name": "base",
   "language": "python",
   "name": "python3"
  },
  "language_info": {
   "codemirror_mode": {
    "name": "ipython",
    "version": 3
   },
   "file_extension": ".py",
   "mimetype": "text/x-python",
   "name": "python",
   "nbconvert_exporter": "python",
   "pygments_lexer": "ipython3",
   "version": "3.11.5"
  }
 },
 "nbformat": 4,
 "nbformat_minor": 2
}
